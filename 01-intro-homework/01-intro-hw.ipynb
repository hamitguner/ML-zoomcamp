{
 "cells": [
  {
   "cell_type": "markdown",
   "id": "115891fd-66e5-4c17-9fe0-0a8e9875b4e8",
   "metadata": {},
   "source": [
    "The link for the original Assignment1 document by Alexey Grigorev:\n",
    "\n",
    "https://github.com/alexeygrigorev/mlbookcamp-code/blob/master/course-zoomcamp/cohorts/2022/01-intro/homework.md"
   ]
  },
  {
   "cell_type": "markdown",
   "id": "6a9dfe19-f57e-4104-8fcd-359d5d994609",
   "metadata": {
    "tags": []
   },
   "source": [
    "### Environments"
   ]
  },
  {
   "cell_type": "code",
   "execution_count": 2,
   "id": "37be4d86-3cbe-420d-a4a5-b5b76e810a0e",
   "metadata": {},
   "outputs": [],
   "source": [
    "import pandas as pd\n",
    "import numpy as np"
   ]
  },
  {
   "cell_type": "markdown",
   "id": "bdd23d8a-f9ad-4ccf-bf3f-45694310fa3a",
   "metadata": {
    "tags": []
   },
   "source": [
    "### Question 1\n",
    "\n",
    "What's the version of NumPy that you installed? \n",
    "\n",
    "You can get the version information using the `__version__` field:\n",
    "\n",
    "```python\n",
    "np.__version__\n",
    "```"
   ]
  },
  {
   "cell_type": "code",
   "execution_count": 3,
   "id": "3c36094d-f5ae-4c05-aa86-29c2911b1e38",
   "metadata": {},
   "outputs": [
    {
     "data": {
      "text/plain": [
       "'1.21.5'"
      ]
     },
     "execution_count": 3,
     "metadata": {},
     "output_type": "execute_result"
    }
   ],
   "source": [
    "np.__version__ # Answer is '1.21.5'"
   ]
  },
  {
   "cell_type": "markdown",
   "id": "a253cb50-40d6-43b8-81f2-b0c7a5df4377",
   "metadata": {},
   "source": [
    "### Question 2\n",
    "\n",
    "How many records are in the dataset?\n",
    "\n",
    "Here you need to specify the number of rows.\n",
    "\n",
    "- 16\n",
    "- 6572\n",
    "- 11914\n",
    "- 18990"
   ]
  },
  {
   "cell_type": "code",
   "execution_count": 6,
   "id": "ec0b60cd-33ed-4957-8177-81240515b959",
   "metadata": {},
   "outputs": [
    {
     "data": {
      "text/plain": [
       "(11914, 16)"
      ]
     },
     "execution_count": 6,
     "metadata": {},
     "output_type": "execute_result"
    }
   ],
   "source": [
    "df.shape # records is 11914"
   ]
  },
  {
   "cell_type": "markdown",
   "id": "536d5f8f-1ac1-4b72-9865-e6318714949b",
   "metadata": {},
   "source": [
    "### Question 3\n",
    "\n",
    "Who are the most frequent car manufacturers (top-3) according to the dataset?\n",
    "\n",
    "- Chevrolet, Volkswagen, Toyota\n",
    "- Chevrolet, Ford, Toyota\n",
    "- Ford, Volkswagen, Toyota\n",
    "- Chevrolet, Ford, Volkswagen\n",
    "\n",
    "> **Note**: You should rely on \"Make\" column in this question."
   ]
  },
  {
   "cell_type": "code",
   "execution_count": 7,
   "id": "94765ada-0fbb-4249-8b72-9ef6c7e9181c",
   "metadata": {},
   "outputs": [
    {
     "data": {
      "text/plain": [
       "Chevrolet     1123\n",
       "Ford           881\n",
       "Volkswagen     809\n",
       "Name: Make, dtype: int64"
      ]
     },
     "execution_count": 7,
     "metadata": {},
     "output_type": "execute_result"
    }
   ],
   "source": [
    "df.Make.value_counts()[:3] # CChevrolet, Ford, Volkswagen looks like popular  "
   ]
  },
  {
   "cell_type": "markdown",
   "id": "b7a1905c-b977-4a2c-8adb-7d9f574d77ab",
   "metadata": {},
   "source": [
    "### Question 4\n",
    "\n",
    "What's the number of unique Audi car models in the dataset?\n",
    "\n",
    "- 3\n",
    "- 16\n",
    "- 26\n",
    "- 34"
   ]
  },
  {
   "cell_type": "code",
   "execution_count": 8,
   "id": "04e33c80-73c4-4e87-a985-5dd4eefc4747",
   "metadata": {},
   "outputs": [
    {
     "data": {
      "text/plain": [
       "34"
      ]
     },
     "execution_count": 8,
     "metadata": {},
     "output_type": "execute_result"
    }
   ],
   "source": [
    "len(df[df['Make'] =='Audi'].Model.unique()) # answer is 34"
   ]
  },
  {
   "cell_type": "markdown",
   "id": "4e35e5a5-6390-4e14-a72d-ddcae3d4ceca",
   "metadata": {},
   "source": [
    "### Question 5\n",
    "\n",
    "How many columns in the dataset have missing values?\n",
    "\n",
    "- 5\n",
    "- 6\n",
    "- 7\n",
    "- 8"
   ]
  },
  {
   "cell_type": "code",
   "execution_count": 9,
   "id": "d353345e-0870-4876-9305-7824c5550c76",
   "metadata": {},
   "outputs": [
    {
     "data": {
      "text/plain": [
       "5"
      ]
     },
     "execution_count": 9,
     "metadata": {},
     "output_type": "execute_result"
    }
   ],
   "source": [
    "sum(df.isnull().sum() > 0) # answer is 5 "
   ]
  },
  {
   "cell_type": "markdown",
   "id": "d3f02179-f3b8-4531-a4d7-d37cbd20d99a",
   "metadata": {},
   "source": [
    "### Question 6\n",
    "\n",
    "1. Find the median value of \"Engine Cylinders\" column in the dataset.\n",
    "2. Next, calculate the most frequent value of the same \"Engine Cylinders\".\n",
    "3. Use the `fillna` method to fill the missing values in \"Engine Cylinders\" with the most frequent value from the previous step.\n",
    "4. Now, calculate the median value of \"Engine Cylinders\" once again.\n",
    "\n",
    "Has it changed?\n",
    "\n",
    "> Hint: refer to existing `mode` and `median` functions to complete the task.\n",
    "\n",
    "- Yes\n",
    "- No"
   ]
  },
  {
   "cell_type": "code",
   "execution_count": 10,
   "id": "1a3eb4c9-3431-4aeb-9fd3-928842d22708",
   "metadata": {},
   "outputs": [
    {
     "data": {
      "text/plain": [
       "6.0"
      ]
     },
     "execution_count": 10,
     "metadata": {},
     "output_type": "execute_result"
    }
   ],
   "source": [
    "median = df['Engine Cylinders'].median() # 6\n",
    "median "
   ]
  },
  {
   "cell_type": "code",
   "execution_count": 11,
   "id": "bde1594e-2ec9-4ae0-8095-966510a6ecb7",
   "metadata": {},
   "outputs": [
    {
     "data": {
      "text/plain": [
       "4.0"
      ]
     },
     "execution_count": 11,
     "metadata": {},
     "output_type": "execute_result"
    }
   ],
   "source": [
    "most_frequent = df['Engine Cylinders'].value_counts().head(1).index[0] # 4\n",
    "most_frequent"
   ]
  },
  {
   "cell_type": "code",
   "execution_count": 12,
   "id": "9ba3e9cb-14a5-4eb5-ab1d-75aabad78020",
   "metadata": {},
   "outputs": [
    {
     "data": {
      "text/plain": [
       "0        6.0\n",
       "1        6.0\n",
       "2        6.0\n",
       "3        6.0\n",
       "4        6.0\n",
       "        ... \n",
       "11909    6.0\n",
       "11910    6.0\n",
       "11911    6.0\n",
       "11912    6.0\n",
       "11913    6.0\n",
       "Name: Engine Cylinders, Length: 11914, dtype: float64"
      ]
     },
     "execution_count": 12,
     "metadata": {},
     "output_type": "execute_result"
    }
   ],
   "source": [
    "df['Engine Cylinders'].fillna(most_frequent)"
   ]
  },
  {
   "cell_type": "code",
   "execution_count": 13,
   "id": "eacf93d3-5c9c-4ac9-84df-756ccf4544e0",
   "metadata": {},
   "outputs": [
    {
     "data": {
      "text/plain": [
       "6.0"
      ]
     },
     "execution_count": 13,
     "metadata": {},
     "output_type": "execute_result"
    }
   ],
   "source": [
    "median = df['Engine Cylinders'].median() # 6\n",
    "median # no chaneg "
   ]
  },
  {
   "cell_type": "markdown",
   "id": "b177b7bc-664b-4f4a-a8ef-ac1ee78dd2fc",
   "metadata": {},
   "source": [
    "### Question 7\n",
    "\n",
    "1. Select all the \"Lotus\" cars from the dataset.\n",
    "2. Select only columns \"Engine HP\", \"Engine Cylinders\".\n",
    "3. Now drop all duplicated rows using `drop_duplicates` method (you should get a dataframe with 9 rows).\n",
    "4. Get the underlying NumPy array. Let's call it `X`.\n",
    "5. Compute matrix-matrix multiplication between the transpose of `X` and `X`. To get the transpose, use `X.T`. Let's call the result `XTX`.\n",
    "6. Invert `XTX`.\n",
    "7. Create an array `y` with values `[1100, 800, 750, 850, 1300, 1000, 1000, 1300, 800]`.\n",
    "8. Multiply the inverse of `XTX` with the transpose of `X`, and then multiply the result by `y`. Call the result `w`.\n",
    "9. What's the value of the first element of `w`?\n",
    "\n",
    "> **Note**: You just implemented linear regression. We'll talk about it in the next lesson.\n",
    "\n",
    "- -0.0723\n",
    "- 4.5949\n",
    "- 31.6537\n",
    "- 63.5643"
   ]
  },
  {
   "cell_type": "code",
   "execution_count": 14,
   "id": "1caed3ce-8bf9-4d09-874e-9b030104442a",
   "metadata": {},
   "outputs": [
    {
     "data": {
      "text/html": [
       "<div>\n",
       "<style scoped>\n",
       "    .dataframe tbody tr th:only-of-type {\n",
       "        vertical-align: middle;\n",
       "    }\n",
       "\n",
       "    .dataframe tbody tr th {\n",
       "        vertical-align: top;\n",
       "    }\n",
       "\n",
       "    .dataframe thead th {\n",
       "        text-align: right;\n",
       "    }\n",
       "</style>\n",
       "<table border=\"1\" class=\"dataframe\">\n",
       "  <thead>\n",
       "    <tr style=\"text-align: right;\">\n",
       "      <th></th>\n",
       "      <th>Engine HP</th>\n",
       "      <th>Engine Cylinders</th>\n",
       "    </tr>\n",
       "  </thead>\n",
       "  <tbody>\n",
       "    <tr>\n",
       "      <th>3912</th>\n",
       "      <td>189.0</td>\n",
       "      <td>4.0</td>\n",
       "    </tr>\n",
       "    <tr>\n",
       "      <th>3913</th>\n",
       "      <td>218.0</td>\n",
       "      <td>4.0</td>\n",
       "    </tr>\n",
       "    <tr>\n",
       "      <th>3918</th>\n",
       "      <td>217.0</td>\n",
       "      <td>4.0</td>\n",
       "    </tr>\n",
       "    <tr>\n",
       "      <th>4216</th>\n",
       "      <td>350.0</td>\n",
       "      <td>8.0</td>\n",
       "    </tr>\n",
       "    <tr>\n",
       "      <th>4257</th>\n",
       "      <td>400.0</td>\n",
       "      <td>6.0</td>\n",
       "    </tr>\n",
       "    <tr>\n",
       "      <th>4259</th>\n",
       "      <td>276.0</td>\n",
       "      <td>6.0</td>\n",
       "    </tr>\n",
       "    <tr>\n",
       "      <th>4262</th>\n",
       "      <td>345.0</td>\n",
       "      <td>6.0</td>\n",
       "    </tr>\n",
       "    <tr>\n",
       "      <th>4292</th>\n",
       "      <td>257.0</td>\n",
       "      <td>4.0</td>\n",
       "    </tr>\n",
       "    <tr>\n",
       "      <th>4293</th>\n",
       "      <td>240.0</td>\n",
       "      <td>4.0</td>\n",
       "    </tr>\n",
       "  </tbody>\n",
       "</table>\n",
       "</div>"
      ],
      "text/plain": [
       "      Engine HP  Engine Cylinders\n",
       "3912      189.0               4.0\n",
       "3913      218.0               4.0\n",
       "3918      217.0               4.0\n",
       "4216      350.0               8.0\n",
       "4257      400.0               6.0\n",
       "4259      276.0               6.0\n",
       "4262      345.0               6.0\n",
       "4292      257.0               4.0\n",
       "4293      240.0               4.0"
      ]
     },
     "execution_count": 14,
     "metadata": {},
     "output_type": "execute_result"
    }
   ],
   "source": [
    "lotus = df[df['Make'] == 'Lotus'][['Engine HP','Engine Cylinders']].drop_duplicates()\n",
    "lotus"
   ]
  },
  {
   "cell_type": "code",
   "execution_count": 15,
   "id": "acbba2a3-a0da-4aa5-a637-fc488378db5e",
   "metadata": {},
   "outputs": [
    {
     "data": {
      "text/plain": [
       "array([[189.,   4.],\n",
       "       [218.,   4.],\n",
       "       [217.,   4.],\n",
       "       [350.,   8.],\n",
       "       [400.,   6.],\n",
       "       [276.,   6.],\n",
       "       [345.,   6.],\n",
       "       [257.,   4.],\n",
       "       [240.,   4.]])"
      ]
     },
     "execution_count": 15,
     "metadata": {},
     "output_type": "execute_result"
    }
   ],
   "source": [
    "X = lotus.values\n",
    "X"
   ]
  },
  {
   "cell_type": "code",
   "execution_count": 16,
   "id": "41b08045-db1e-45a1-b47c-6d39319ac8b4",
   "metadata": {},
   "outputs": [],
   "source": [
    "XTX = np.matmul(X.T ,X)"
   ]
  },
  {
   "cell_type": "code",
   "execution_count": 17,
   "id": "471c39b9-47de-4591-b340-47186ef63b0f",
   "metadata": {},
   "outputs": [],
   "source": [
    "y = [1100, 800, 750, 850, 1300, 1000, 1000, 1300, 800]"
   ]
  },
  {
   "cell_type": "code",
   "execution_count": 18,
   "id": "4939504f-8a08-456d-a47b-de9bfafb4119",
   "metadata": {},
   "outputs": [],
   "source": [
    "w = np.matmul(np.linalg.inv(XTX), X.T)"
   ]
  },
  {
   "cell_type": "code",
   "execution_count": 19,
   "id": "3b0f06f4-1e11-4fa5-9b85-f02f585e0d1b",
   "metadata": {},
   "outputs": [],
   "source": [
    "w = np.matmul(w, y)"
   ]
  },
  {
   "cell_type": "code",
   "execution_count": 20,
   "id": "8d9da5f9-598a-430b-8648-c75fc05e0600",
   "metadata": {},
   "outputs": [
    {
     "data": {
      "text/plain": [
       "array([  4.59494481, -63.56432501])"
      ]
     },
     "execution_count": 20,
     "metadata": {},
     "output_type": "execute_result"
    }
   ],
   "source": [
    "w # answer is 4.59"
   ]
  }
 ],
 "metadata": {
  "kernelspec": {
   "display_name": "Python 3 (ipykernel)",
   "language": "python",
   "name": "python3"
  },
  "language_info": {
   "codemirror_mode": {
    "name": "ipython",
    "version": 3
   },
   "file_extension": ".py",
   "mimetype": "text/x-python",
   "name": "python",
   "nbconvert_exporter": "python",
   "pygments_lexer": "ipython3",
   "version": "3.9.12"
  }
 },
 "nbformat": 4,
 "nbformat_minor": 5
}

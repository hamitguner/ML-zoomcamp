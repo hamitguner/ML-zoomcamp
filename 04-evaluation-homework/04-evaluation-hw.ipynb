{
 "cells": [
  {
   "cell_type": "markdown",
   "id": "c8f1747c-675e-40b8-8e65-6f7424ea523b",
   "metadata": {},
   "source": [
    "The link for the original Assignment4 document by Alexey Grigorev:\n",
    "\n",
    "https://github.com/alexeygrigorev/mlbookcamp-code/blob/master/course-zoomcamp/cohorts/2022/04-evaluation/homework.md"
   ]
  },
  {
   "cell_type": "markdown",
   "id": "b928715c-67a8-40a4-9302-5916e452eb19",
   "metadata": {},
   "source": [
    "## Dataset\n",
    "\n",
    "In this homework, we will use Credit Card Data from book \"Econometric Analysis\".\n",
    "\n",
    "Here's a wget-able [link](https://raw.githubusercontent.com/alexeygrigorev/datasets/master/AER_credit_card_data.csv):\n",
    "\n",
    "```bash\n",
    "wget https://raw.githubusercontent.com/alexeygrigorev/datasets/master/AER_credit_card_data.csv\n",
    "```\n",
    "The goal of this homework is to inspect the output of different evaluation metrics by creating a classification model (target column `card`). \n",
    "\n",
    "\n",
    "If you have ties, select the score with the lowest std. If you still have ties, select the smallest C\n",
    "\n"
   ]
  },
  {
   "cell_type": "markdown",
   "id": "6e8abc74-84cb-4e24-b8c0-1f1e54304cc8",
   "metadata": {},
   "source": [
    "### Environments"
   ]
  },
  {
   "cell_type": "code",
   "execution_count": 165,
   "id": "05a087f3-85d9-4a41-94ea-7623e56a1593",
   "metadata": {},
   "outputs": [],
   "source": [
    "import pandas as pd\n",
    "import numpy as np\n",
    "import matplotlib.pyplot as plt\n",
    "import wget\n",
    "\n",
    "from sklearn.model_selection import train_test_split\n",
    "from sklearn.metrics import roc_auc_score\n",
    "from sklearn.linear_model import LogisticRegression\n",
    "from sklearn.feature_extraction import DictVectorizer\n",
    "from sklearn.model_selection import KFold\n",
    "\n",
    "%matplotlib inline"
   ]
  },
  {
   "cell_type": "code",
   "execution_count": 166,
   "id": "f86b86d5-e9c0-4bf1-94c0-65d0bfbe36cd",
   "metadata": {},
   "outputs": [],
   "source": [
    "url = 'https://raw.githubusercontent.com/alexeygrigorev/datasets/master/AER_credit_card_data.csv'\n",
    "\n",
    "# use this one time\n",
    "#wget.download(url) "
   ]
  },
  {
   "cell_type": "code",
   "execution_count": 167,
   "id": "50c863d5-4510-4654-b4c1-12b8b30069dc",
   "metadata": {},
   "outputs": [],
   "source": [
    "df = pd.read_csv('AER_credit_card_data.csv')"
   ]
  },
  {
   "cell_type": "markdown",
   "id": "3b3689ca-0629-40d0-ab64-7893fd8eb049",
   "metadata": {
    "tags": []
   },
   "source": [
    "## Preparation\n",
    "\n",
    "* Create the target variable by mapping `yes` to 1 and `no` to 0. \n",
    "* Split the dataset into 3 parts: train/validation/test with 60%/20%/20% distribution. Use `train_test_split` funciton for that with `random_state=1`."
   ]
  },
  {
   "cell_type": "markdown",
   "id": "decf98f0-8b13-418d-a2db-78b020a201ce",
   "metadata": {},
   "source": [
    "* Create the target variable by mapping `yes` to 1 and `no` to 0. "
   ]
  },
  {
   "cell_type": "code",
   "execution_count": 168,
   "id": "877b79c6-7ca1-4cc9-b48d-6c17ca457f94",
   "metadata": {},
   "outputs": [
    {
     "data": {
      "text/plain": [
       "yes    1023\n",
       "no      296\n",
       "Name: card, dtype: int64"
      ]
     },
     "execution_count": 168,
     "metadata": {},
     "output_type": "execute_result"
    }
   ],
   "source": [
    "df.card.value_counts()"
   ]
  },
  {
   "cell_type": "code",
   "execution_count": 169,
   "id": "d46f450e-2d6f-43ae-98fe-8df0f9112e78",
   "metadata": {},
   "outputs": [],
   "source": [
    "df['card'] = df.card.map({'yes' : 1, 'no': 0})"
   ]
  },
  {
   "cell_type": "code",
   "execution_count": 170,
   "id": "1f04c761-c836-477a-908f-030910b1f431",
   "metadata": {},
   "outputs": [
    {
     "data": {
      "text/plain": [
       "1    1023\n",
       "0     296\n",
       "Name: card, dtype: int64"
      ]
     },
     "execution_count": 170,
     "metadata": {},
     "output_type": "execute_result"
    }
   ],
   "source": [
    "df.card.value_counts()"
   ]
  },
  {
   "cell_type": "markdown",
   "id": "3f85abf2-6d0f-4bc6-bc97-579ac80b095e",
   "metadata": {},
   "source": [
    "* Split the dataset into 3 parts: train/validation/test with 60%/20%/20% distribution. Use `train_test_split` funciton for that with `random_state=1`."
   ]
  },
  {
   "cell_type": "code",
   "execution_count": 171,
   "id": "171accab-819d-4dea-9f6a-39a789d32384",
   "metadata": {},
   "outputs": [],
   "source": [
    "df_full_train , df_test = train_test_split(df, test_size=0.2, random_state=1)"
   ]
  },
  {
   "cell_type": "code",
   "execution_count": 172,
   "id": "9341a47e-924e-4936-be44-2cb3c28c9e0b",
   "metadata": {},
   "outputs": [],
   "source": [
    "df_train, df_val = train_test_split(df_full_train, test_size= 0.25, random_state=1)"
   ]
  },
  {
   "cell_type": "code",
   "execution_count": 173,
   "id": "b0cfd786-7ed4-4f81-ac28-73a3b6987911",
   "metadata": {},
   "outputs": [
    {
     "data": {
      "text/plain": [
       "(791, 264, 264)"
      ]
     },
     "execution_count": 173,
     "metadata": {},
     "output_type": "execute_result"
    }
   ],
   "source": [
    "df_train.shape[0], df_val.shape[0], df_test.shape[0] #  splitting is successful"
   ]
  },
  {
   "cell_type": "markdown",
   "id": "f1349688-9a7e-47d3-8792-5df60a295229",
   "metadata": {},
   "source": [
    "## Question 1\n",
    "\n",
    "ROC AUC could also be used to evaluate feature importance of numerical variables. \n",
    "\n",
    "Let's do that\n",
    "\n",
    "* For each numerical variable, use it as score and compute AUC with the `card` variable.\n",
    "* Use the training dataset for that.\n",
    "\n",
    "If your AUC is < 0.5, invert this variable by putting \"-\" in front\n",
    "\n",
    "(e.g. `-df_train['expenditure']`)\n",
    "\n",
    "AUC can go below 0.5 if the variable is negatively correlated with the target varialble. You can change the direction of the correlation by negating this variable - then negative correlation becomes positive.\n",
    "\n",
    "Which numerical variable (among the following 4) has the highest AUC?\n",
    "\n",
    "- `reports`\n",
    "- `dependents`\n",
    "- `active`\n",
    "- `share`"
   ]
  },
  {
   "cell_type": "code",
   "execution_count": 174,
   "id": "16cf0ce0-3342-478f-a68a-00efe34ea1f6",
   "metadata": {},
   "outputs": [
    {
     "name": "stdout",
     "output_type": "stream",
     "text": [
      "reports 0.7166629860689376\n",
      "dependents 0.5327757227773791\n",
      "active 0.6043173411362006\n",
      "share 0.989183643423692\n"
     ]
    }
   ],
   "source": [
    "numFeatures = ['reports', 'dependents', 'active', 'share']\n",
    "for i in numFeatures:\n",
    "    score = roc_auc_score(df_train['card'], df_train[i])\n",
    "    if score < 0.5:\n",
    "        score = roc_auc_score(df_train['card'], -df_train[i])\n",
    "    print(i, score) \n",
    "    \n",
    "# highest auc is share with 0.98"
   ]
  },
  {
   "cell_type": "markdown",
   "id": "f42bd3ec-d55a-4884-8649-4c41b2044f99",
   "metadata": {
    "tags": []
   },
   "source": [
    "## Training the model\n",
    "\n",
    "From now on, use these columns only:\n",
    "\n",
    "```\n",
    "[\"reports\", \"age\", \"income\", \"share\", \"expenditure\", \"dependents\", \"months\", \"majorcards\", \"active\", \"owner\", \"selfemp\"]\n",
    "```\n",
    "\n",
    "Apply one-hot-encoding using `DictVectorizer` and train the logistic regression with these parameters:\n",
    "\n",
    "```\n",
    "LogisticRegression(solver='liblinear', C=1.0, max_iter=1000)\n",
    "```"
   ]
  },
  {
   "cell_type": "code",
   "execution_count": 175,
   "id": "d35b3b58-9233-4f30-a3bf-425b64a3e117",
   "metadata": {},
   "outputs": [],
   "source": [
    "y_train = df_train.card.values\n",
    "y_val = df_val.card.values\n",
    "y_test = df_test.card.values\n",
    "\n",
    "del df_train['card']\n",
    "del df_val['card']\n",
    "del df_test['card']"
   ]
  },
  {
   "cell_type": "code",
   "execution_count": 176,
   "id": "cbd7b83d-38d8-4aeb-bda4-ddc49c5190d7",
   "metadata": {},
   "outputs": [],
   "source": [
    "dict_train = df_train.to_dict(orient= 'records')\n",
    "dict_val = df_val.to_dict(orient= 'records')\n",
    "dict_test = df_test.to_dict(orient= 'records')\n",
    "\n",
    "dv = DictVectorizer(sparse= False)\n",
    "\n",
    "X_train = dv.fit_transform(dict_train)\n",
    "X_val = dv.transform(dict_val)\n",
    "X_test = dv.transform(dict_test)"
   ]
  },
  {
   "cell_type": "code",
   "execution_count": 177,
   "id": "6cf90e26-c9ef-410e-807b-a6b3140f0fee",
   "metadata": {},
   "outputs": [
    {
     "data": {
      "text/plain": [
       "['active',\n",
       " 'age',\n",
       " 'dependents',\n",
       " 'expenditure',\n",
       " 'income',\n",
       " 'majorcards',\n",
       " 'months',\n",
       " 'owner=no',\n",
       " 'owner=yes',\n",
       " 'reports',\n",
       " 'selfemp=no',\n",
       " 'selfemp=yes',\n",
       " 'share']"
      ]
     },
     "execution_count": 177,
     "metadata": {},
     "output_type": "execute_result"
    }
   ],
   "source": [
    "dv.feature_names_"
   ]
  },
  {
   "cell_type": "code",
   "execution_count": 178,
   "id": "c1617794-513e-4977-bc41-134def049422",
   "metadata": {},
   "outputs": [
    {
     "data": {
      "text/plain": [
       "0.9696969696969697"
      ]
     },
     "execution_count": 178,
     "metadata": {},
     "output_type": "execute_result"
    }
   ],
   "source": [
    "model = LogisticRegression(solver='liblinear', C=1.0, max_iter=1000)\n",
    "model.fit(X_train, y_train)\n",
    "model.score(X_val, y_val)"
   ]
  },
  {
   "cell_type": "markdown",
   "id": "44fca689-9588-4780-8775-7ae1ffda063e",
   "metadata": {
    "tags": []
   },
   "source": [
    "## Question 2\n",
    "\n",
    "What's the AUC of this model on the validation dataset? (round to 3 digits)\n",
    "\n",
    "- 0.615\n",
    "- 0.515\n",
    "- 0.715\n",
    "- 0.995"
   ]
  },
  {
   "cell_type": "code",
   "execution_count": 179,
   "id": "8a3c7abd-7eb9-480f-84a8-67e51af2105a",
   "metadata": {},
   "outputs": [],
   "source": [
    "y_pred = model.predict_proba(X_val)[:, 1]"
   ]
  },
  {
   "cell_type": "code",
   "execution_count": 180,
   "id": "791e67ef-5031-41fe-84c7-a62061ce892d",
   "metadata": {},
   "outputs": [
    {
     "data": {
      "text/plain": [
       "0.995"
      ]
     },
     "execution_count": 180,
     "metadata": {},
     "output_type": "execute_result"
    }
   ],
   "source": [
    "roc_auc_score(y_val, y_pred).round(3) # auc score is 0.995"
   ]
  },
  {
   "cell_type": "markdown",
   "id": "738d0b85-7dec-4acf-aeff-ed7e7665e7fd",
   "metadata": {},
   "source": [
    "## Question 3\n",
    "\n",
    "Now let's compute precision and recall for our model.\n",
    "\n",
    "* Evaluate the model on the validation dataset on all thresholds from 0.0 to 1.0 with step 0.01\n",
    "* For each threshold, compute precision and recall\n",
    "* Plot them\n",
    "\n",
    "\n",
    "At which threshold precision and recall curves intersect?\n",
    "\n",
    "* 0.1\n",
    "* 0.3\n",
    "* 0.6\n",
    "* 0.8"
   ]
  },
  {
   "cell_type": "code",
   "execution_count": 181,
   "id": "a4101f11-05e4-47f3-844a-767ab772ef8c",
   "metadata": {},
   "outputs": [],
   "source": [
    "def confusion_matrix(y_true, y_pred):\n",
    "    threshold = np.arange(0, (1+0.01), 0.01)\n",
    "    scores = []\n",
    "    for t in thresholds:\n",
    "        actual_pos = (y_true == 1)\n",
    "        actual_neg = (~actual_pos)\n",
    "        predict_pos = (y_pred >= t)\n",
    "        predict_neg = (~predict_pos)\n",
    "        \n",
    "        tp = (actual_pos & predict_pos).sum()\n",
    "        tn = (actual_neg & predict_neg).sum() \n",
    "        fp = (actual_neg & predict_pos).sum()\n",
    "        fn = (actual_pos & predict_neg).sum()\n",
    "        \n",
    "        scores.append((t, tp, fp, fn, tn))\n",
    "    \n",
    "    columns = ['threshold', 'tp', 'fp', 'fn', 'tn']\n",
    "    df_scores = pd.DataFrame(scores, columns=columns)\n",
    "    df_scores['recall']  = df_scores['tp'] / (df_scores['tp'] + df_scores['fn'])\n",
    "    df_scores['precision'] = df_scores['tp'] / (df_scores['tp'] + df_scores['fp'])\n",
    "    \n",
    "    return df_scores"
   ]
  },
  {
   "cell_type": "code",
   "execution_count": 182,
   "id": "7861c4cc-d580-4a4e-9f27-9b998d7f007f",
   "metadata": {},
   "outputs": [
    {
     "data": {
      "image/png": "[encoded data removed]",
      "text/plain": [
       "<Figure size 432x288 with 1 Axes>"
      ]
     },
     "metadata": {
      "needs_background": "light"
     },
     "output_type": "display_data"
    }
   ],
   "source": [
    "df_scores = confusion_matrix(y_val, y_pred)\n",
    "\n",
    "\n",
    "plt.plot(df_scores.threshold, df_scores.precision, label='precision')\n",
    "plt.plot(df_scores.threshold, df_scores.recall, label='recall')\n",
    "\n",
    "\n",
    "\n",
    "plt.legend()\n",
    "plt.show()\n",
    "# it is about 0.3"
   ]
  },
  {
   "cell_type": "markdown",
   "id": "42a63388-7029-40d1-99e9-7e35fd30604c",
   "metadata": {},
   "source": [
    "## Question 4\n",
    "\n",
    "Precision and recall are conflicting - when one grows, the other goes down. That's why they are often combined into the F1 score - a metrics that takes into account both\n",
    "\n",
    "This is the formula for computing $F_1$:\n",
    "\n",
    "$$F_1 = 2 \\cdot \\cfrac{P \\cdot R}{P + R}$$\n",
    "\n",
    "Where $P$ is precision and $R$ is recall.\n",
    "\n",
    "Let's compute F1 for all thresholds from 0.0 to 1.0 with increment 0.01 using the validation set\n",
    "\n",
    "At which threshold F1 is maximal?\n",
    "\n",
    "- 0.1\n",
    "- 0.4\n",
    "- 0.6\n",
    "- 0.7"
   ]
  },
  {
   "cell_type": "code",
   "execution_count": 183,
   "id": "489db8f3-635c-4553-8447-9f8135e254cc",
   "metadata": {},
   "outputs": [
    {
     "data": {
      "text/html": [
       "<div>\n",
       "<style scoped>\n",
       "    .dataframe tbody tr th:only-of-type {\n",
       "        vertical-align: middle;\n",
       "    }\n",
       "\n",
       "    .dataframe tbody tr th {\n",
       "        vertical-align: top;\n",
       "    }\n",
       "\n",
       "    .dataframe thead th {\n",
       "        text-align: right;\n",
       "    }\n",
       "</style>\n",
       "<table border=\"1\" class=\"dataframe\">\n",
       "  <thead>\n",
       "    <tr style=\"text-align: right;\">\n",
       "      <th></th>\n",
       "      <th>threshold</th>\n",
       "      <th>tp</th>\n",
       "      <th>fp</th>\n",
       "      <th>fn</th>\n",
       "      <th>tn</th>\n",
       "      <th>recall</th>\n",
       "      <th>precision</th>\n",
       "      <th>F1</th>\n",
       "    </tr>\n",
       "  </thead>\n",
       "  <tbody>\n",
       "    <tr>\n",
       "      <th>35</th>\n",
       "      <td>0.35</td>\n",
       "      <td>205</td>\n",
       "      <td>1</td>\n",
       "      <td>6</td>\n",
       "      <td>52</td>\n",
       "      <td>0.971564</td>\n",
       "      <td>0.995146</td>\n",
       "      <td>0.983213</td>\n",
       "    </tr>\n",
       "    <tr>\n",
       "      <th>36</th>\n",
       "      <td>0.36</td>\n",
       "      <td>205</td>\n",
       "      <td>1</td>\n",
       "      <td>6</td>\n",
       "      <td>52</td>\n",
       "      <td>0.971564</td>\n",
       "      <td>0.995146</td>\n",
       "      <td>0.983213</td>\n",
       "    </tr>\n",
       "    <tr>\n",
       "      <th>37</th>\n",
       "      <td>0.37</td>\n",
       "      <td>205</td>\n",
       "      <td>1</td>\n",
       "      <td>6</td>\n",
       "      <td>52</td>\n",
       "      <td>0.971564</td>\n",
       "      <td>0.995146</td>\n",
       "      <td>0.983213</td>\n",
       "    </tr>\n",
       "    <tr>\n",
       "      <th>38</th>\n",
       "      <td>0.38</td>\n",
       "      <td>205</td>\n",
       "      <td>1</td>\n",
       "      <td>6</td>\n",
       "      <td>52</td>\n",
       "      <td>0.971564</td>\n",
       "      <td>0.995146</td>\n",
       "      <td>0.983213</td>\n",
       "    </tr>\n",
       "    <tr>\n",
       "      <th>39</th>\n",
       "      <td>0.39</td>\n",
       "      <td>205</td>\n",
       "      <td>1</td>\n",
       "      <td>6</td>\n",
       "      <td>52</td>\n",
       "      <td>0.971564</td>\n",
       "      <td>0.995146</td>\n",
       "      <td>0.983213</td>\n",
       "    </tr>\n",
       "    <tr>\n",
       "      <th>40</th>\n",
       "      <td>0.40</td>\n",
       "      <td>205</td>\n",
       "      <td>1</td>\n",
       "      <td>6</td>\n",
       "      <td>52</td>\n",
       "      <td>0.971564</td>\n",
       "      <td>0.995146</td>\n",
       "      <td>0.983213</td>\n",
       "    </tr>\n",
       "    <tr>\n",
       "      <th>41</th>\n",
       "      <td>0.41</td>\n",
       "      <td>205</td>\n",
       "      <td>1</td>\n",
       "      <td>6</td>\n",
       "      <td>52</td>\n",
       "      <td>0.971564</td>\n",
       "      <td>0.995146</td>\n",
       "      <td>0.983213</td>\n",
       "    </tr>\n",
       "  </tbody>\n",
       "</table>\n",
       "</div>"
      ],
      "text/plain": [
       "    threshold   tp  fp  fn  tn    recall  precision        F1\n",
       "35       0.35  205   1   6  52  0.971564   0.995146  0.983213\n",
       "36       0.36  205   1   6  52  0.971564   0.995146  0.983213\n",
       "37       0.37  205   1   6  52  0.971564   0.995146  0.983213\n",
       "38       0.38  205   1   6  52  0.971564   0.995146  0.983213\n",
       "39       0.39  205   1   6  52  0.971564   0.995146  0.983213\n",
       "40       0.40  205   1   6  52  0.971564   0.995146  0.983213\n",
       "41       0.41  205   1   6  52  0.971564   0.995146  0.983213"
      ]
     },
     "execution_count": 183,
     "metadata": {},
     "output_type": "execute_result"
    }
   ],
   "source": [
    "p = df_scores.precision\n",
    "r = df_scores.recall\n",
    "df_scores['F1'] = (2 * p * r) / (p+ r)\n",
    "df_scores[df_scores['F1'].max() ==df_scores['F1']] # our answer is 0.4"
   ]
  },
  {
   "cell_type": "markdown",
   "id": "9b67fc0a-f381-4198-9ef3-ec2099f49ba4",
   "metadata": {},
   "source": [
    "## Question 5\n",
    "\n",
    "Use the `KFold` class from Scikit-Learn to evaluate our model on 5 different folds:\n",
    "\n",
    "```\n",
    "KFold(n_splits=5, shuffle=True, random_state=1)\n",
    "```\n",
    "\n",
    "* Iterate over different folds of `df_full_train`\n",
    "* Split the data into train and validation\n",
    "* Train the model on train with these parameters: `LogisticRegression(solver='liblinear', C=1.0, max_iter=1000)`\n",
    "* Use AUC to evaluate the model on validation\n",
    "\n",
    "\n",
    "How large is standard devidation of the AUC scores across different folds?\n",
    "\n",
    "- 0.003\n",
    "- 0.014\n",
    "- 0.09\n",
    "- 0.24"
   ]
  },
  {
   "cell_type": "code",
   "execution_count": 195,
   "id": "42afbb3d-ae8d-471d-920b-60a3990a7f94",
   "metadata": {},
   "outputs": [],
   "source": [
    "kfold = KFold(n_splits=5, shuffle=True, random_state=1)"
   ]
  },
  {
   "cell_type": "code",
   "execution_count": 196,
   "id": "af8c259d-cfc2-4d3e-a529-4ff2025f6b5c",
   "metadata": {},
   "outputs": [],
   "source": [
    "def train_predict(df_train, df_val, y_train, y_val):\n",
    "    del df_train['card']\n",
    "    del df_val['card']\n",
    "    \n",
    "    dict_train = df_train.to_dict(orient = 'records')\n",
    "    dict_val = df_val.to_dict(orient = 'records')\n",
    "    \n",
    "    dv = DictVectorizer(sparse= False)\n",
    "    X_train = dv.fit_transform(dict_train)\n",
    "    X_val = dv.transform(dict_val)\n",
    "    \n",
    "    model = LogisticRegression(solver='liblinear', C=1.0, max_iter=1000)\n",
    "    \n",
    "    model.fit(X_train, y_train)\n",
    "    \n",
    "    y_pred = model.predict_proba(X_val)[:, 1]\n",
    "    \n",
    "    return y_pred"
   ]
  },
  {
   "cell_type": "code",
   "execution_count": 199,
   "id": "50fefe91-4d9a-4fcd-a3e3-f40a81009344",
   "metadata": {},
   "outputs": [
    {
     "name": "stdout",
     "output_type": "stream",
     "text": [
      "0.996 +- 0.003\n"
     ]
    }
   ],
   "source": [
    "scores = []\n",
    "for train_idx, val_idx in kfold.split(df_full_train):\n",
    "    df_train = df_full_train.iloc[train_idx]\n",
    "    df_val = df_full_train.iloc[val_idx]\n",
    "    \n",
    "    y_train = df_train.card.values\n",
    "    y_val = df_val.card.values\n",
    "    \n",
    "    y_pred = train_predict(df_train, df_val, y_train, y_val)\n",
    "    \n",
    "    auc = roc_auc_score(y_val, y_pred)\n",
    "    scores.append(auc)\n",
    "\n",
    "print('%.3f +- %.3f' % (np.mean(scores), np.std(scores))) # the answer is 0.003"
   ]
  },
  {
   "cell_type": "markdown",
   "id": "fd8b5028-78d5-4775-84b0-0d0d20514f81",
   "metadata": {},
   "source": [
    "## Question 6\n",
    "\n",
    "Now let's use 5-Fold cross-validation to find the best parameter C\n",
    "\n",
    "* Iterate over the following C values: `[0.01, 0.1, 1, 10]`\n",
    "* Initialize `KFold` with the same parameters as previously\n",
    "* Use these parametes for the model: `LogisticRegression(solver='liblinear', C=C, max_iter=1000)`\n",
    "* Compute the mean score as well as the std (round the mean and std to 3 decimal digits)\n",
    "\n",
    "\n",
    "Which C leads to the best mean score?\n",
    "\n",
    "- 0.01\n",
    "- 0.1\n",
    "- 1\n",
    "- 10"
   ]
  },
  {
   "cell_type": "code",
   "execution_count": 204,
   "id": "a81e962e-8c23-4202-9aa9-e4d15fea9b4b",
   "metadata": {},
   "outputs": [],
   "source": [
    "def train_predict(df_train, df_val, y_train, y_val, C):\n",
    "    del df_train['card']\n",
    "    del df_val['card']\n",
    "    \n",
    "    dict_train = df_train.to_dict(orient = 'records')\n",
    "    dict_val = df_val.to_dict(orient = 'records')\n",
    "    \n",
    "    dv = DictVectorizer(sparse= False)\n",
    "    X_train = dv.fit_transform(dict_train)\n",
    "    X_val = dv.transform(dict_val)\n",
    "    \n",
    "    model = LogisticRegression(solver='liblinear', C=C, max_iter=1000)\n",
    "    \n",
    "    model.fit(X_train, y_train)\n",
    "    \n",
    "    y_pred = model.predict_proba(X_val)[:, 1]\n",
    "    \n",
    "    return y_pred"
   ]
  },
  {
   "cell_type": "code",
   "execution_count": 209,
   "id": "eac1d9e1-218f-467f-b3f1-7b9357528716",
   "metadata": {},
   "outputs": [
    {
     "name": "stdout",
     "output_type": "stream",
     "text": [
      "0 : 0.992 +- 0.006\n",
      "0 : 0.995 +- 0.004\n",
      "1 : 0.996 +- 0.003\n",
      "10 : 0.996 +- 0.003\n"
     ]
    }
   ],
   "source": [
    "C = [0.01, 0.1, 1, 10]\n",
    "for c in C:\n",
    "    scores = []\n",
    "    for train_idx, val_idx in kfold.split(df_full_train):\n",
    "        df_train = df_full_train.iloc[train_idx]\n",
    "        df_val = df_full_train.iloc[val_idx]\n",
    "\n",
    "        y_train = df_train.card.values\n",
    "        y_val = df_val.card.values\n",
    "\n",
    "        y_pred = train_predict(df_train, df_val, y_train, y_val, c)\n",
    "\n",
    "        auc = roc_auc_score(y_val, y_pred)\n",
    "        scores.append(auc)\n",
    "\n",
    "    print('%.f : %.3f +- %.3f' % (c ,np.mean(scores), np.std(scores))) # the answer is 1 "
   ]
  },
  {
   "cell_type": "markdown",
   "id": "c66a7517-c410-466e-aca2-27653690b512",
   "metadata": {},
   "source": [
    "## Deadline\n",
    "\n",
    "The deadline for submitting is October 3 (Monday), 23:00 CEST."
   ]
  }
 ],
 "metadata": {
  "kernelspec": {
   "display_name": "Python 3 (ipykernel)",
   "language": "python",
   "name": "python3"
  },
  "language_info": {
   "codemirror_mode": {
    "name": "ipython",
    "version": 3
   },
   "file_extension": ".py",
   "mimetype": "text/x-python",
   "name": "python",
   "nbconvert_exporter": "python",
   "pygments_lexer": "ipython3",
   "version": "3.9.12"
  }
 },
 "nbformat": 4,
 "nbformat_minor": 5
}

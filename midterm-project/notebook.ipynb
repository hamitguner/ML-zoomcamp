{
 "cells": [
  {
   "cell_type": "markdown",
   "id": "f286c576-5d92-4a6c-abde-6a0c2774ab83",
   "metadata": {
    "tags": []
   },
   "source": [
    "# Outline\n",
    "    Will be fixed later"
   ]
  },
  {
   "cell_type": "markdown",
   "id": "d6092183-569a-47bd-a207-d08099721dc8",
   "metadata": {},
   "source": [
    "## About Data"
   ]
  },
  {
   "cell_type": "markdown",
   "id": "becd14a6-1d96-4972-91ae-0e68846a23f6",
   "metadata": {
    "jp-MarkdownHeadingCollapsed": true,
    "tags": []
   },
   "source": [
    "### Data Set Information:\n",
    "\n",
    "This research aimed at the case of customers default payments in Taiwan and compares the predictive accuracy of probability of default among six data mining methods. From the perspective of risk management, the result of predictive accuracy of the estimated probability of default will be more valuable than the binary result of classification - credible or not credible clients. Because the real probability of default is unknown, this study presented the novel Sorting Smoothing Method to estimate the real probability of default. "
   ]
  },
  {
   "cell_type": "markdown",
   "id": "2189743d-6a8f-49b1-9afa-45639e21937b",
   "metadata": {},
   "source": [
    "### Attribute Information:\n",
    "\n",
    "- This research employed a binary variable, default payment (Yes = 1, No = 0), as the response variable. This study reviewed the literature and used the following 23 variables as explanatory variables:\n",
    "---\n",
    "- Limit Balance: Amount of the given credit (NT dollar): it includes both the individual consumer credit and his/her family (supplementary) credit.\n",
    "- Sex: Gender (1 = male; 2 = female).\n",
    "- Education: Education (1 = graduate school; 2 = university; 3 = high school; 4 = others).\n",
    "- Mariage: Marital status (1 = married; 2 = single; 3 = others).\n",
    "- Age: Age (year).\n",
    "---\n",
    "- Pay1 - Pay6: History of past payment.\n",
    "- pay 1 = the repayment status in September, 2005\n",
    "- pay 2 = the repayment status in August, 2005\n",
    "- pay 3 = the repayment status in July, 2005\n",
    "- pay 4 = the repayment status in June, 2005\n",
    "- pay 5 = the repayment status in May, 2005\n",
    "- pay 6 = the repayment status in April, 2005\n",
    "- The measurement scale for the repayment status is: -1 = pay duly; 1 = payment delay for one month; 2 = payment delay for two months; . . .; 8 = payment delay for eight months; 9 = payment delay for nine months and above.\n",
    "---\n",
    "- Bill 1- Bill 6: Amount of bill statement (NT dollar). \n",
    "- bill 1 = amount of bill statement in September, 2005\n",
    "- bill 2 = amount of bill statement in August, 2005\n",
    "- bill 3 = amount of bill statement in July, 2005\n",
    "- bill 4 = amount of bill statement in June, 2005\n",
    "- bill 5 = amount of bill statement in May, 2005\n",
    "- bill 6 = amount of bill statement in April, 2005\n",
    "---\n",
    "\n",
    "- Pay amt 1 - Pay amt 6: Amount of previous payment (NT dollar). \n",
    "- pay amt 1 = amount paid in September, 2005\n",
    "- pay amt 2 = amount paid in August, 2005\n",
    "- pay amt 3 = amount paid in July, 2005\n",
    "- pay amt 4 = amount paid in June, 2005\n",
    "- pay amt 5 = amount paid in May, 2005\n",
    "- pay amt6 = amount paid in April, 2005"
   ]
  },
  {
   "cell_type": "markdown",
   "id": "978d1bc6-1dc4-4152-86fa-8f771e7685c7",
   "metadata": {},
   "source": [
    "## Import Libraries"
   ]
  },
  {
   "cell_type": "code",
   "execution_count": 3964,
   "id": "7bf6db2c-5edf-424c-80a8-451f331cb0fe",
   "metadata": {},
   "outputs": [],
   "source": [
    "import pandas as pd\n",
    "import numpy as np\n",
    "import matplotlib.pyplot as plt\n",
    "import seaborn as sns\n",
    "\n",
    "from sklearn.model_selection import train_test_split\n",
    "from sklearn.feature_extraction import DictVectorizer\n",
    "from sklearn.linear_model import LogisticRegression\n",
    "from sklearn.tree import DecisionTreeClassifier\n",
    "from sklearn.ensemble import RandomForestClassifier\n",
    "from sklearn.metrics import accuracy_score\n",
    "from sklearn.metrics import mutual_info_score\n",
    "from sklearn.metrics import roc_auc_score\n",
    "\n",
    "from sklearn.metrics import classification_report\n",
    "from sklearn.metrics import ConfusionMatrixDisplay\n",
    "\n",
    "from sklearn.metrics import  accuracy_score, f1_score, precision_score, recall_score, roc_auc_score,mean_absolute_error,mean_squared_error,r2_score\n"
   ]
  },
  {
   "cell_type": "markdown",
   "id": "45f7fe55-3ba8-4860-bb4a-4e3fc83c6563",
   "metadata": {},
   "source": [
    "## Import Data"
   ]
  },
  {
   "cell_type": "code",
   "execution_count": 3965,
   "id": "c40fb6fc-d408-4b04-b4a8-c9594dba08c0",
   "metadata": {},
   "outputs": [],
   "source": [
    "df = pd.read_excel('dataset/default-of-credit-card-clients.xls', skiprows= 1)"
   ]
  },
  {
   "cell_type": "code",
   "execution_count": 3966,
   "id": "9a4adad3-7da0-4d77-99a2-2c6df0c2b495",
   "metadata": {},
   "outputs": [],
   "source": [
    "df.to_csv('default-of-credit-card-clients.csv', index= False)"
   ]
  },
  {
   "cell_type": "code",
   "execution_count": 3967,
   "id": "54d7300a-5724-4bb1-8746-9a204466e501",
   "metadata": {},
   "outputs": [],
   "source": [
    "# a copy of original dataset\n",
    "df_copy = df.copy()"
   ]
  },
  {
   "cell_type": "code",
   "execution_count": 3968,
   "id": "1433261f-0a4a-4a31-bca6-19e842e28ea1",
   "metadata": {},
   "outputs": [
    {
     "data": {
      "text/html": [
       "<div>\n",
       "<style scoped>\n",
       "    .dataframe tbody tr th:only-of-type {\n",
       "        vertical-align: middle;\n",
       "    }\n",
       "\n",
       "    .dataframe tbody tr th {\n",
       "        vertical-align: top;\n",
       "    }\n",
       "\n",
       "    .dataframe thead th {\n",
       "        text-align: right;\n",
       "    }\n",
       "</style>\n",
       "<table border=\"1\" class=\"dataframe\">\n",
       "  <thead>\n",
       "    <tr style=\"text-align: right;\">\n",
       "      <th></th>\n",
       "      <th>0</th>\n",
       "      <th>1</th>\n",
       "      <th>2</th>\n",
       "      <th>3</th>\n",
       "      <th>4</th>\n",
       "    </tr>\n",
       "  </thead>\n",
       "  <tbody>\n",
       "    <tr>\n",
       "      <th>ID</th>\n",
       "      <td>1</td>\n",
       "      <td>2</td>\n",
       "      <td>3</td>\n",
       "      <td>4</td>\n",
       "      <td>5</td>\n",
       "    </tr>\n",
       "    <tr>\n",
       "      <th>LIMIT_BAL</th>\n",
       "      <td>20000</td>\n",
       "      <td>120000</td>\n",
       "      <td>90000</td>\n",
       "      <td>50000</td>\n",
       "      <td>50000</td>\n",
       "    </tr>\n",
       "    <tr>\n",
       "      <th>SEX</th>\n",
       "      <td>2</td>\n",
       "      <td>2</td>\n",
       "      <td>2</td>\n",
       "      <td>2</td>\n",
       "      <td>1</td>\n",
       "    </tr>\n",
       "    <tr>\n",
       "      <th>EDUCATION</th>\n",
       "      <td>2</td>\n",
       "      <td>2</td>\n",
       "      <td>2</td>\n",
       "      <td>2</td>\n",
       "      <td>2</td>\n",
       "    </tr>\n",
       "    <tr>\n",
       "      <th>MARRIAGE</th>\n",
       "      <td>1</td>\n",
       "      <td>2</td>\n",
       "      <td>2</td>\n",
       "      <td>1</td>\n",
       "      <td>1</td>\n",
       "    </tr>\n",
       "    <tr>\n",
       "      <th>AGE</th>\n",
       "      <td>24</td>\n",
       "      <td>26</td>\n",
       "      <td>34</td>\n",
       "      <td>37</td>\n",
       "      <td>57</td>\n",
       "    </tr>\n",
       "    <tr>\n",
       "      <th>PAY_0</th>\n",
       "      <td>2</td>\n",
       "      <td>-1</td>\n",
       "      <td>0</td>\n",
       "      <td>0</td>\n",
       "      <td>-1</td>\n",
       "    </tr>\n",
       "    <tr>\n",
       "      <th>PAY_2</th>\n",
       "      <td>2</td>\n",
       "      <td>2</td>\n",
       "      <td>0</td>\n",
       "      <td>0</td>\n",
       "      <td>0</td>\n",
       "    </tr>\n",
       "    <tr>\n",
       "      <th>PAY_3</th>\n",
       "      <td>-1</td>\n",
       "      <td>0</td>\n",
       "      <td>0</td>\n",
       "      <td>0</td>\n",
       "      <td>-1</td>\n",
       "    </tr>\n",
       "    <tr>\n",
       "      <th>PAY_4</th>\n",
       "      <td>-1</td>\n",
       "      <td>0</td>\n",
       "      <td>0</td>\n",
       "      <td>0</td>\n",
       "      <td>0</td>\n",
       "    </tr>\n",
       "    <tr>\n",
       "      <th>PAY_5</th>\n",
       "      <td>-2</td>\n",
       "      <td>0</td>\n",
       "      <td>0</td>\n",
       "      <td>0</td>\n",
       "      <td>0</td>\n",
       "    </tr>\n",
       "    <tr>\n",
       "      <th>PAY_6</th>\n",
       "      <td>-2</td>\n",
       "      <td>2</td>\n",
       "      <td>0</td>\n",
       "      <td>0</td>\n",
       "      <td>0</td>\n",
       "    </tr>\n",
       "    <tr>\n",
       "      <th>BILL_AMT1</th>\n",
       "      <td>3913</td>\n",
       "      <td>2682</td>\n",
       "      <td>29239</td>\n",
       "      <td>46990</td>\n",
       "      <td>8617</td>\n",
       "    </tr>\n",
       "    <tr>\n",
       "      <th>BILL_AMT2</th>\n",
       "      <td>3102</td>\n",
       "      <td>1725</td>\n",
       "      <td>14027</td>\n",
       "      <td>48233</td>\n",
       "      <td>5670</td>\n",
       "    </tr>\n",
       "    <tr>\n",
       "      <th>BILL_AMT3</th>\n",
       "      <td>689</td>\n",
       "      <td>2682</td>\n",
       "      <td>13559</td>\n",
       "      <td>49291</td>\n",
       "      <td>35835</td>\n",
       "    </tr>\n",
       "    <tr>\n",
       "      <th>BILL_AMT4</th>\n",
       "      <td>0</td>\n",
       "      <td>3272</td>\n",
       "      <td>14331</td>\n",
       "      <td>28314</td>\n",
       "      <td>20940</td>\n",
       "    </tr>\n",
       "    <tr>\n",
       "      <th>BILL_AMT5</th>\n",
       "      <td>0</td>\n",
       "      <td>3455</td>\n",
       "      <td>14948</td>\n",
       "      <td>28959</td>\n",
       "      <td>19146</td>\n",
       "    </tr>\n",
       "    <tr>\n",
       "      <th>BILL_AMT6</th>\n",
       "      <td>0</td>\n",
       "      <td>3261</td>\n",
       "      <td>15549</td>\n",
       "      <td>29547</td>\n",
       "      <td>19131</td>\n",
       "    </tr>\n",
       "    <tr>\n",
       "      <th>PAY_AMT1</th>\n",
       "      <td>0</td>\n",
       "      <td>0</td>\n",
       "      <td>1518</td>\n",
       "      <td>2000</td>\n",
       "      <td>2000</td>\n",
       "    </tr>\n",
       "    <tr>\n",
       "      <th>PAY_AMT2</th>\n",
       "      <td>689</td>\n",
       "      <td>1000</td>\n",
       "      <td>1500</td>\n",
       "      <td>2019</td>\n",
       "      <td>36681</td>\n",
       "    </tr>\n",
       "    <tr>\n",
       "      <th>PAY_AMT3</th>\n",
       "      <td>0</td>\n",
       "      <td>1000</td>\n",
       "      <td>1000</td>\n",
       "      <td>1200</td>\n",
       "      <td>10000</td>\n",
       "    </tr>\n",
       "    <tr>\n",
       "      <th>PAY_AMT4</th>\n",
       "      <td>0</td>\n",
       "      <td>1000</td>\n",
       "      <td>1000</td>\n",
       "      <td>1100</td>\n",
       "      <td>9000</td>\n",
       "    </tr>\n",
       "    <tr>\n",
       "      <th>PAY_AMT5</th>\n",
       "      <td>0</td>\n",
       "      <td>0</td>\n",
       "      <td>1000</td>\n",
       "      <td>1069</td>\n",
       "      <td>689</td>\n",
       "    </tr>\n",
       "    <tr>\n",
       "      <th>PAY_AMT6</th>\n",
       "      <td>0</td>\n",
       "      <td>2000</td>\n",
       "      <td>5000</td>\n",
       "      <td>1000</td>\n",
       "      <td>679</td>\n",
       "    </tr>\n",
       "    <tr>\n",
       "      <th>default payment next month</th>\n",
       "      <td>1</td>\n",
       "      <td>1</td>\n",
       "      <td>0</td>\n",
       "      <td>0</td>\n",
       "      <td>0</td>\n",
       "    </tr>\n",
       "  </tbody>\n",
       "</table>\n",
       "</div>"
      ],
      "text/plain": [
       "                                0       1      2      3      4\n",
       "ID                              1       2      3      4      5\n",
       "LIMIT_BAL                   20000  120000  90000  50000  50000\n",
       "SEX                             2       2      2      2      1\n",
       "EDUCATION                       2       2      2      2      2\n",
       "MARRIAGE                        1       2      2      1      1\n",
       "AGE                            24      26     34     37     57\n",
       "PAY_0                           2      -1      0      0     -1\n",
       "PAY_2                           2       2      0      0      0\n",
       "PAY_3                          -1       0      0      0     -1\n",
       "PAY_4                          -1       0      0      0      0\n",
       "PAY_5                          -2       0      0      0      0\n",
       "PAY_6                          -2       2      0      0      0\n",
       "BILL_AMT1                    3913    2682  29239  46990   8617\n",
       "BILL_AMT2                    3102    1725  14027  48233   5670\n",
       "BILL_AMT3                     689    2682  13559  49291  35835\n",
       "BILL_AMT4                       0    3272  14331  28314  20940\n",
       "BILL_AMT5                       0    3455  14948  28959  19146\n",
       "BILL_AMT6                       0    3261  15549  29547  19131\n",
       "PAY_AMT1                        0       0   1518   2000   2000\n",
       "PAY_AMT2                      689    1000   1500   2019  36681\n",
       "PAY_AMT3                        0    1000   1000   1200  10000\n",
       "PAY_AMT4                        0    1000   1000   1100   9000\n",
       "PAY_AMT5                        0       0   1000   1069    689\n",
       "PAY_AMT6                        0    2000   5000   1000    679\n",
       "default payment next month      1       1      0      0      0"
      ]
     },
     "execution_count": 3968,
     "metadata": {},
     "output_type": "execute_result"
    }
   ],
   "source": [
    "df.head().T"
   ]
  },
  {
   "cell_type": "code",
   "execution_count": 3969,
   "id": "34436290-7b41-4019-9574-1c09caf1a549",
   "metadata": {},
   "outputs": [
    {
     "name": "stdout",
     "output_type": "stream",
     "text": [
      "<class 'pandas.core.frame.DataFrame'>\n",
      "RangeIndex: 30000 entries, 0 to 29999\n",
      "Data columns (total 25 columns):\n",
      " #   Column                      Non-Null Count  Dtype\n",
      "---  ------                      --------------  -----\n",
      " 0   ID                          30000 non-null  int64\n",
      " 1   LIMIT_BAL                   30000 non-null  int64\n",
      " 2   SEX                         30000 non-null  int64\n",
      " 3   EDUCATION                   30000 non-null  int64\n",
      " 4   MARRIAGE                    30000 non-null  int64\n",
      " 5   AGE                         30000 non-null  int64\n",
      " 6   PAY_0                       30000 non-null  int64\n",
      " 7   PAY_2                       30000 non-null  int64\n",
      " 8   PAY_3                       30000 non-null  int64\n",
      " 9   PAY_4                       30000 non-null  int64\n",
      " 10  PAY_5                       30000 non-null  int64\n",
      " 11  PAY_6                       30000 non-null  int64\n",
      " 12  BILL_AMT1                   30000 non-null  int64\n",
      " 13  BILL_AMT2                   30000 non-null  int64\n",
      " 14  BILL_AMT3                   30000 non-null  int64\n",
      " 15  BILL_AMT4                   30000 non-null  int64\n",
      " 16  BILL_AMT5                   30000 non-null  int64\n",
      " 17  BILL_AMT6                   30000 non-null  int64\n",
      " 18  PAY_AMT1                    30000 non-null  int64\n",
      " 19  PAY_AMT2                    30000 non-null  int64\n",
      " 20  PAY_AMT3                    30000 non-null  int64\n",
      " 21  PAY_AMT4                    30000 non-null  int64\n",
      " 22  PAY_AMT5                    30000 non-null  int64\n",
      " 23  PAY_AMT6                    30000 non-null  int64\n",
      " 24  default payment next month  30000 non-null  int64\n",
      "dtypes: int64(25)\n",
      "memory usage: 5.7 MB\n"
     ]
    }
   ],
   "source": [
    "df.info() \n",
    "\n",
    "# there is no missing value\n",
    "# all variables are integer"
   ]
  },
  {
   "cell_type": "markdown",
   "id": "84051ef6-0b4e-4580-bc5b-f44a2fd7ec56",
   "metadata": {},
   "source": [
    "## Data Preparation and Cleaning"
   ]
  },
  {
   "cell_type": "code",
   "execution_count": 3970,
   "id": "2ed25157-513c-4e43-b876-d09fbb180f26",
   "metadata": {},
   "outputs": [],
   "source": [
    "# i will remove the id \n",
    "del df['ID']"
   ]
  },
  {
   "cell_type": "code",
   "execution_count": 3971,
   "id": "41d9811a-a3dc-4f6b-89e0-7a44169f49c0",
   "metadata": {},
   "outputs": [],
   "source": [
    "# rename the default payment next month \n",
    "df.rename(columns = {'default payment next month':'default_payment'}, inplace = True)"
   ]
  },
  {
   "cell_type": "code",
   "execution_count": 3972,
   "id": "f1b1b860-b065-47c8-a657-0d112752451b",
   "metadata": {},
   "outputs": [],
   "source": [
    "# rename the pay_0 to pay_1\n",
    "df.rename(columns = {'PAY_0':'PAY_1'}, inplace = True)"
   ]
  },
  {
   "cell_type": "code",
   "execution_count": 3973,
   "id": "e2bae0d1-44b7-4aab-b758-747fbd3a0d01",
   "metadata": {},
   "outputs": [],
   "source": [
    "# convert columns name  to lowercase\n",
    "df.columns = df.columns.str.lower()"
   ]
  },
  {
   "cell_type": "code",
   "execution_count": 3974,
   "id": "3a2a2857-88ae-40dc-820d-dc1b6351bf19",
   "metadata": {},
   "outputs": [
    {
     "data": {
      "text/plain": [
       "Index(['limit_bal', 'sex', 'education', 'marriage', 'age', 'pay_1', 'pay_2',\n",
       "       'pay_3', 'pay_4', 'pay_5', 'pay_6', 'bill_amt1', 'bill_amt2',\n",
       "       'bill_amt3', 'bill_amt4', 'bill_amt5', 'bill_amt6', 'pay_amt1',\n",
       "       'pay_amt2', 'pay_amt3', 'pay_amt4', 'pay_amt5', 'pay_amt6',\n",
       "       'default_payment'],\n",
       "      dtype='object')"
      ]
     },
     "execution_count": 3974,
     "metadata": {},
     "output_type": "execute_result"
    }
   ],
   "source": [
    "df.columns"
   ]
  },
  {
   "cell_type": "markdown",
   "id": "08371b56-7caa-461e-a3fc-c6d3ed19e90b",
   "metadata": {},
   "source": [
    "### Mapping on Categorilca Varieables"
   ]
  },
  {
   "cell_type": "markdown",
   "id": "bb0bf88d-be14-41c9-8d7b-cab764f0d6a0",
   "metadata": {
    "tags": []
   },
   "source": [
    "#### Categorical Variables \n",
    "\n",
    "- Sex: (1 = male; 2 = female).\n",
    "- Education: (1 = graduate school; 2 = university; 3 = high school; 4 = others).\n",
    "- Marial status: (1 = married; 2 = single; 3 = others).\n",
    "-  the repayment status in April, 2005. The measurement scale for the repayment status is: -1 = pay duly; 1 = payment delay for one month; 2 = payment delay for two months; . . .; 8 = payment delay for eight months; 9 = payment delay for nine months and above."
   ]
  },
  {
   "cell_type": "markdown",
   "id": "994175cb-1c68-42df-b1d9-12484b316b4e",
   "metadata": {
    "tags": []
   },
   "source": [
    "##### For Payment Status"
   ]
  },
  {
   "cell_type": "code",
   "execution_count": 3975,
   "id": "a2c1ba52-f3a4-4253-bd67-5faa48221bfc",
   "metadata": {
    "tags": []
   },
   "outputs": [
    {
     "name": "stdout",
     "output_type": "stream",
     "text": [
      "11\n",
      " 0    14737\n",
      "-1     5686\n",
      "Name: pay_1, dtype: int64\n",
      "11\n",
      " 0    15730\n",
      "-1     6050\n",
      "Name: pay_2, dtype: int64\n",
      "11\n",
      " 0    15764\n",
      "-1     5938\n",
      "Name: pay_3, dtype: int64\n",
      "11\n",
      " 0    16455\n",
      "-1     5687\n",
      "Name: pay_4, dtype: int64\n",
      "10\n",
      " 0    16947\n",
      "-1     5539\n",
      "Name: pay_5, dtype: int64\n",
      "10\n",
      " 0    16286\n",
      "-1     5740\n",
      "Name: pay_6, dtype: int64\n"
     ]
    }
   ],
   "source": [
    "pay_status = ['pay_1', 'pay_2',\n",
    "       'pay_3', 'pay_4', 'pay_5', 'pay_6']\n",
    "\n",
    "for i in pay_status:\n",
    "    print(df[i].nunique())\n",
    "    print(df[i].value_counts().head(2))"
   ]
  },
  {
   "cell_type": "code",
   "execution_count": 3976,
   "id": "1d16bec8-21a0-4fd4-a393-460c1c7d1e9c",
   "metadata": {},
   "outputs": [
    {
     "data": {
      "text/plain": [
       " 0    16455\n",
       "-1     5687\n",
       "Name: pay_4, dtype: int64"
      ]
     },
     "execution_count": 3976,
     "metadata": {},
     "output_type": "execute_result"
    }
   ],
   "source": [
    "df['pay_4'].value_counts().head(2)"
   ]
  },
  {
   "cell_type": "markdown",
   "id": "a54b7047-5c84-411c-ac72-f4dc8c5c4c9f",
   "metadata": {},
   "source": [
    "- When we look at the dataset there is 0 values and we don't know what is zero it could be nan values so i don't use this variables.\n",
    "- Almost half of the data is 0 and we don't know exactly what 0 is, likewise there is an unknown -2."
   ]
  },
  {
   "cell_type": "markdown",
   "id": "275b2d19-5671-469a-a038-af26e67a4dab",
   "metadata": {},
   "source": [
    "- I will remove the values that are 0 from the dataset"
   ]
  },
  {
   "cell_type": "code",
   "execution_count": 3977,
   "id": "82de3800-4647-4dbc-af6b-01b672ce2c72",
   "metadata": {},
   "outputs": [],
   "source": [
    "for i in pay_status:\n",
    "    df = df.loc[(df[i] != 0)]\n"
   ]
  },
  {
   "cell_type": "markdown",
   "id": "21becf55-46a2-4b1c-b6b3-4bfa48dad5e6",
   "metadata": {},
   "source": [
    "- add one to payment status to fix "
   ]
  },
  {
   "cell_type": "code",
   "execution_count": 3978,
   "id": "828c7129-61c9-4995-bc9b-1acd7604bab9",
   "metadata": {},
   "outputs": [],
   "source": [
    "for i in pay_status:\n",
    "    df[i] = df[i] + 1"
   ]
  },
  {
   "cell_type": "markdown",
   "id": "245a817e-45d3-42c4-a4f1-d167a071a29a",
   "metadata": {
    "tags": []
   },
   "source": [
    "##### For sex"
   ]
  },
  {
   "cell_type": "code",
   "execution_count": 3979,
   "id": "cd3d351b-f42c-47d0-b0ce-3831b1d471a6",
   "metadata": {},
   "outputs": [
    {
     "data": {
      "text/plain": [
       "2    5580\n",
       "1    3247\n",
       "Name: sex, dtype: int64"
      ]
     },
     "execution_count": 3979,
     "metadata": {},
     "output_type": "execute_result"
    }
   ],
   "source": [
    "df.sex.value_counts() \n",
    "# there is no problem. \n",
    "# there are two types as know"
   ]
  },
  {
   "cell_type": "code",
   "execution_count": 3980,
   "id": "313afe0a-20a3-4065-8d84-b910deb904fe",
   "metadata": {},
   "outputs": [],
   "source": [
    "sex_values = {\n",
    "    1: 'male',\n",
    "    2: 'female'\n",
    "}\n",
    "\n",
    "df.sex = df.sex.map(sex_values)"
   ]
  },
  {
   "cell_type": "markdown",
   "id": "3bcf03fb-fca5-49e8-a2ce-60dece5c88a2",
   "metadata": {
    "tags": []
   },
   "source": [
    "##### For education"
   ]
  },
  {
   "cell_type": "code",
   "execution_count": 3981,
   "id": "91ca0dcf-a6cc-4308-88ce-169d94958199",
   "metadata": {
    "jp-MarkdownHeadingCollapsed": true,
    "tags": []
   },
   "outputs": [
    {
     "data": {
      "text/plain": [
       "1    4094\n",
       "2    3369\n",
       "3    1248\n",
       "5      50\n",
       "4      44\n",
       "6      13\n",
       "0       9\n",
       "Name: education, dtype: int64"
      ]
     },
     "execution_count": 3981,
     "metadata": {},
     "output_type": "execute_result"
    }
   ],
   "source": [
    "df.education.value_counts() \n",
    "# there is a problem. \n",
    "# there are 7 types but we just know about 4 types\n",
    "# Education: (1 = graduate school; 2 = university; 3 = high school; 4 = others).\n",
    "\n",
    "# so i will change 0, 5 and 6 to 4(other)"
   ]
  },
  {
   "cell_type": "code",
   "execution_count": 3982,
   "id": "1f1914e1-b3d6-4584-b802-d57331e749d6",
   "metadata": {},
   "outputs": [],
   "source": [
    "df['education'] =  df['education'].replace([0, 5, 6], 4)\n",
    "# now there are just 4 types"
   ]
  },
  {
   "cell_type": "code",
   "execution_count": 3983,
   "id": "e626a8bb-15b8-4c06-9cd7-4b821c6666a8",
   "metadata": {},
   "outputs": [],
   "source": [
    "education_values = {\n",
    "    1: 'graduate school',\n",
    "    2: 'university',\n",
    "    3: 'high school',\n",
    "    4: 'other'\n",
    "}\n",
    "\n",
    "df.education = df.education.map(education_values)"
   ]
  },
  {
   "cell_type": "markdown",
   "id": "d16336a4-4090-49af-b333-034c28bb785d",
   "metadata": {
    "tags": []
   },
   "source": [
    "##### For marriage"
   ]
  },
  {
   "cell_type": "code",
   "execution_count": 3984,
   "id": "1c23c697-aa46-4576-a7c4-52f0eb4d1e1f",
   "metadata": {},
   "outputs": [
    {
     "data": {
      "text/plain": [
       "1    4483\n",
       "2    4265\n",
       "3      59\n",
       "0      20\n",
       "Name: marriage, dtype: int64"
      ]
     },
     "execution_count": 3984,
     "metadata": {},
     "output_type": "execute_result"
    }
   ],
   "source": [
    "df.marriage.value_counts() \n",
    "# there is a problem. \n",
    "# there are 4 types but we just know about 3 types\n",
    "# Marial status: (1 = married; 2 = single; 3 = others).\n",
    "\n",
    "# so i will change 0 to 3(other)"
   ]
  },
  {
   "cell_type": "code",
   "execution_count": 3985,
   "id": "ea1aa12a-80e0-426a-9c1a-02f37555be79",
   "metadata": {},
   "outputs": [],
   "source": [
    "df['marriage'] =  df['marriage'].replace(0, 3)"
   ]
  },
  {
   "cell_type": "code",
   "execution_count": 3986,
   "id": "9a597bf1-e133-4113-ade1-62a3ceac629c",
   "metadata": {},
   "outputs": [],
   "source": [
    "marriage_values = {\n",
    "    1: 'married',\n",
    "    2: 'single',\n",
    "    3: 'other'\n",
    "}\n",
    "\n",
    "df.marriage = df.marriage.map(marriage_values)"
   ]
  },
  {
   "cell_type": "markdown",
   "id": "3d0b2b6b-4b71-4bba-8dbf-f9e331986032",
   "metadata": {
    "tags": []
   },
   "source": [
    "### Split the Data"
   ]
  },
  {
   "cell_type": "markdown",
   "id": "a7233de3-ef5e-4fa8-b25a-2c1d35b0539e",
   "metadata": {},
   "source": [
    "- split data  / train - valid - test ==> %60 - %20 - %20"
   ]
  },
  {
   "cell_type": "code",
   "execution_count": 3987,
   "id": "ba9629f4-1114-421a-874f-2c2366dcfb66",
   "metadata": {},
   "outputs": [],
   "source": [
    "df_full_train, df_test = train_test_split(df, test_size=0.2, random_state= 53)"
   ]
  },
  {
   "cell_type": "code",
   "execution_count": 3988,
   "id": "820cc84c-712a-43d0-9cd0-338893e096af",
   "metadata": {},
   "outputs": [],
   "source": [
    "df_train, df_val = train_test_split(df_full_train, test_size= 0.25, random_state=53)"
   ]
  },
  {
   "cell_type": "code",
   "execution_count": 3989,
   "id": "6f924284",
   "metadata": {},
   "outputs": [],
   "source": [
    "df_train = df_train.reset_index(drop=True)\n",
    "df_val = df_val.reset_index(drop=True)\n",
    "df_test = df_test.reset_index(drop=True)\n",
    "df_full_train = df_full_train.reset_index(drop=True)"
   ]
  },
  {
   "cell_type": "code",
   "execution_count": 3990,
   "id": "61326776-5956-48ef-8dc6-a84d93a1a866",
   "metadata": {},
   "outputs": [
    {
     "data": {
      "text/plain": [
       "((7061, 24), (5295, 24), (1766, 24), (1766, 24))"
      ]
     },
     "execution_count": 3990,
     "metadata": {},
     "output_type": "execute_result"
    }
   ],
   "source": [
    "df_full_train.shape, df_train.shape, df_val.shape, df_test.shape\n",
    "# splitting is succesful"
   ]
  },
  {
   "cell_type": "markdown",
   "id": "17e6f5f3-c338-46e2-9250-481c3dc9b2af",
   "metadata": {},
   "source": [
    "#### Create y"
   ]
  },
  {
   "cell_type": "code",
   "execution_count": 3991,
   "id": "781551e8-0dfd-4811-aab4-ec51ca577468",
   "metadata": {},
   "outputs": [],
   "source": [
    "y_full_train = df_full_train.default_payment.values\n",
    "y_train = df_train.default_payment.values\n",
    "y_val = df_val.default_payment.values\n",
    "y_test = df_test.default_payment.values"
   ]
  },
  {
   "cell_type": "code",
   "execution_count": 3992,
   "id": "cf512172-5aa9-451c-a5fc-1100595bf54b",
   "metadata": {
    "tags": []
   },
   "outputs": [],
   "source": [
    "del df_full_train['default_payment']\n",
    "del df_train['default_payment']\n",
    "del df_val['default_payment']\n",
    "del df_test['default_payment']"
   ]
  },
  {
   "cell_type": "markdown",
   "id": "4e758e59-4514-401f-b117-cef9d65eb640",
   "metadata": {},
   "source": [
    "#### Dict Vectorizer"
   ]
  },
  {
   "cell_type": "code",
   "execution_count": 3993,
   "id": "68ff059a-af4f-49b1-80f7-4f6ce473a7d9",
   "metadata": {},
   "outputs": [],
   "source": [
    "full_train_dicts = df_full_train.to_dict(orient='records')\n",
    "train_dicts = df_train.to_dict(orient='records')\n",
    "val_dicts = df_val.to_dict(orient='records')\n",
    "test_dicts = df_test.to_dict(orient='records')"
   ]
  },
  {
   "cell_type": "code",
   "execution_count": 3994,
   "id": "deea54b5-295c-459a-8468-52fc2d0a5caf",
   "metadata": {},
   "outputs": [],
   "source": [
    "dv = DictVectorizer(sparse=False)"
   ]
  },
  {
   "cell_type": "markdown",
   "id": "8479c323-399e-4360-8fa1-dd25942cbbf7",
   "metadata": {},
   "source": [
    "##### Create X"
   ]
  },
  {
   "cell_type": "code",
   "execution_count": 3995,
   "id": "32aaa368-c0c8-4d98-8158-00788bf666e7",
   "metadata": {},
   "outputs": [],
   "source": [
    "X_full_train =  dv.fit_transform(full_train_dicts)\n",
    "X_train = dv.transform(train_dicts)\n",
    "X_val = dv.transform(val_dicts)\n",
    "X_test = dv.transform(test_dicts)"
   ]
  },
  {
   "cell_type": "code",
   "execution_count": 3996,
   "id": "77a6517c-42f0-4952-a22a-0345c1d208f1",
   "metadata": {},
   "outputs": [
    {
     "data": {
      "text/plain": [
       "array(['age', 'bill_amt1', 'bill_amt2', 'bill_amt3', 'bill_amt4',\n",
       "       'bill_amt5', 'bill_amt6', 'education=graduate school',\n",
       "       'education=high school', 'education=other', 'education=university',\n",
       "       'limit_bal', 'marriage=married', 'marriage=other',\n",
       "       'marriage=single', 'pay_1', 'pay_2', 'pay_3', 'pay_4', 'pay_5',\n",
       "       'pay_6', 'pay_amt1', 'pay_amt2', 'pay_amt3', 'pay_amt4',\n",
       "       'pay_amt5', 'pay_amt6', 'sex=female', 'sex=male'], dtype=object)"
      ]
     },
     "execution_count": 3996,
     "metadata": {},
     "output_type": "execute_result"
    }
   ],
   "source": [
    "dv.get_feature_names_out()"
   ]
  },
  {
   "cell_type": "markdown",
   "id": "4b8b43ee-f924-46eb-98aa-a64a41c1a061",
   "metadata": {
    "tags": []
   },
   "source": [
    "## EDA"
   ]
  },
  {
   "cell_type": "markdown",
   "id": "e6f168aa-7d58-4919-8822-f663e4502308",
   "metadata": {},
   "source": [
    "### Data Preprocessing"
   ]
  },
  {
   "cell_type": "code",
   "execution_count": 3997,
   "id": "2d0d09d4-4720-4bd2-b759-a1e909a6f2de",
   "metadata": {},
   "outputs": [],
   "source": [
    "pay_amt = ['pay_amt1','pay_amt2', 'pay_amt3', 'pay_amt4', 'pay_amt5', 'pay_amt6']"
   ]
  },
  {
   "cell_type": "code",
   "execution_count": 3998,
   "id": "f8a9c149-2b0a-4e7d-93fd-95b00c343757",
   "metadata": {},
   "outputs": [
    {
     "data": {
      "text/html": [
       "<div>\n",
       "<style scoped>\n",
       "    .dataframe tbody tr th:only-of-type {\n",
       "        vertical-align: middle;\n",
       "    }\n",
       "\n",
       "    .dataframe tbody tr th {\n",
       "        vertical-align: top;\n",
       "    }\n",
       "\n",
       "    .dataframe thead th {\n",
       "        text-align: right;\n",
       "    }\n",
       "</style>\n",
       "<table border=\"1\" class=\"dataframe\">\n",
       "  <thead>\n",
       "    <tr style=\"text-align: right;\">\n",
       "      <th></th>\n",
       "      <th>pay_amt1</th>\n",
       "      <th>pay_amt2</th>\n",
       "      <th>pay_amt3</th>\n",
       "      <th>pay_amt4</th>\n",
       "      <th>pay_amt5</th>\n",
       "      <th>pay_amt6</th>\n",
       "    </tr>\n",
       "  </thead>\n",
       "  <tbody>\n",
       "    <tr>\n",
       "      <th>count</th>\n",
       "      <td>8827.0</td>\n",
       "      <td>8827.0</td>\n",
       "      <td>8827.0</td>\n",
       "      <td>8827.0</td>\n",
       "      <td>8827.0</td>\n",
       "      <td>8827.0</td>\n",
       "    </tr>\n",
       "    <tr>\n",
       "      <th>mean</th>\n",
       "      <td>4152.8</td>\n",
       "      <td>4304.7</td>\n",
       "      <td>3990.1</td>\n",
       "      <td>3850.5</td>\n",
       "      <td>4250.5</td>\n",
       "      <td>4377.8</td>\n",
       "    </tr>\n",
       "    <tr>\n",
       "      <th>std</th>\n",
       "      <td>12310.7</td>\n",
       "      <td>22027.2</td>\n",
       "      <td>13024.4</td>\n",
       "      <td>11689.5</td>\n",
       "      <td>14950.6</td>\n",
       "      <td>15868.9</td>\n",
       "    </tr>\n",
       "    <tr>\n",
       "      <th>min</th>\n",
       "      <td>0.0</td>\n",
       "      <td>0.0</td>\n",
       "      <td>0.0</td>\n",
       "      <td>0.0</td>\n",
       "      <td>0.0</td>\n",
       "      <td>0.0</td>\n",
       "    </tr>\n",
       "    <tr>\n",
       "      <th>25%</th>\n",
       "      <td>0.0</td>\n",
       "      <td>0.0</td>\n",
       "      <td>0.0</td>\n",
       "      <td>0.0</td>\n",
       "      <td>0.0</td>\n",
       "      <td>0.0</td>\n",
       "    </tr>\n",
       "    <tr>\n",
       "      <th>50%</th>\n",
       "      <td>770.0</td>\n",
       "      <td>641.0</td>\n",
       "      <td>527.0</td>\n",
       "      <td>530.0</td>\n",
       "      <td>477.0</td>\n",
       "      <td>423.0</td>\n",
       "    </tr>\n",
       "    <tr>\n",
       "      <th>75%</th>\n",
       "      <td>3500.0</td>\n",
       "      <td>3384.0</td>\n",
       "      <td>3063.0</td>\n",
       "      <td>2915.0</td>\n",
       "      <td>3000.0</td>\n",
       "      <td>2956.0</td>\n",
       "    </tr>\n",
       "    <tr>\n",
       "      <th>max</th>\n",
       "      <td>298887.0</td>\n",
       "      <td>1684259.0</td>\n",
       "      <td>417588.0</td>\n",
       "      <td>265852.0</td>\n",
       "      <td>379267.0</td>\n",
       "      <td>403500.0</td>\n",
       "    </tr>\n",
       "  </tbody>\n",
       "</table>\n",
       "</div>"
      ],
      "text/plain": [
       "       pay_amt1   pay_amt2  pay_amt3  pay_amt4  pay_amt5  pay_amt6\n",
       "count    8827.0     8827.0    8827.0    8827.0    8827.0    8827.0\n",
       "mean     4152.8     4304.7    3990.1    3850.5    4250.5    4377.8\n",
       "std     12310.7    22027.2   13024.4   11689.5   14950.6   15868.9\n",
       "min         0.0        0.0       0.0       0.0       0.0       0.0\n",
       "25%         0.0        0.0       0.0       0.0       0.0       0.0\n",
       "50%       770.0      641.0     527.0     530.0     477.0     423.0\n",
       "75%      3500.0     3384.0    3063.0    2915.0    3000.0    2956.0\n",
       "max    298887.0  1684259.0  417588.0  265852.0  379267.0  403500.0"
      ]
     },
     "execution_count": 3998,
     "metadata": {},
     "output_type": "execute_result"
    }
   ],
   "source": [
    "df[pay_amt].describe().round(1)\n",
    "\n",
    "# there is an anamolly in pay_amt2\n",
    "# pay_amt2 max value is very big."
   ]
  },
  {
   "cell_type": "code",
   "execution_count": 3999,
   "id": "02775ac2-134e-4105-9fcf-ebedaa16b2ef",
   "metadata": {},
   "outputs": [],
   "source": [
    "bill_amt =['bill_amt1', 'bill_amt2','bill_amt3', 'bill_amt4', 'bill_amt5', 'bill_amt6']"
   ]
  },
  {
   "cell_type": "code",
   "execution_count": 4000,
   "id": "b77cf5aa-1b02-4217-95f7-c3657bee1cdd",
   "metadata": {},
   "outputs": [
    {
     "data": {
      "text/html": [
       "<div>\n",
       "<style scoped>\n",
       "    .dataframe tbody tr th:only-of-type {\n",
       "        vertical-align: middle;\n",
       "    }\n",
       "\n",
       "    .dataframe tbody tr th {\n",
       "        vertical-align: top;\n",
       "    }\n",
       "\n",
       "    .dataframe thead th {\n",
       "        text-align: right;\n",
       "    }\n",
       "</style>\n",
       "<table border=\"1\" class=\"dataframe\">\n",
       "  <thead>\n",
       "    <tr style=\"text-align: right;\">\n",
       "      <th></th>\n",
       "      <th>bill_amt1</th>\n",
       "      <th>bill_amt2</th>\n",
       "      <th>bill_amt3</th>\n",
       "      <th>bill_amt4</th>\n",
       "      <th>bill_amt5</th>\n",
       "      <th>bill_amt6</th>\n",
       "    </tr>\n",
       "  </thead>\n",
       "  <tbody>\n",
       "    <tr>\n",
       "      <th>count</th>\n",
       "      <td>8827.0</td>\n",
       "      <td>8827.0</td>\n",
       "      <td>8827.0</td>\n",
       "      <td>8827.0</td>\n",
       "      <td>8827.0</td>\n",
       "      <td>8827.0</td>\n",
       "    </tr>\n",
       "    <tr>\n",
       "      <th>mean</th>\n",
       "      <td>13590.4</td>\n",
       "      <td>12969.1</td>\n",
       "      <td>12859.5</td>\n",
       "      <td>12527.7</td>\n",
       "      <td>12292.8</td>\n",
       "      <td>12582.6</td>\n",
       "    </tr>\n",
       "    <tr>\n",
       "      <th>std</th>\n",
       "      <td>35577.9</td>\n",
       "      <td>34308.5</td>\n",
       "      <td>38161.2</td>\n",
       "      <td>34028.1</td>\n",
       "      <td>33266.4</td>\n",
       "      <td>34404.8</td>\n",
       "    </tr>\n",
       "    <tr>\n",
       "      <th>min</th>\n",
       "      <td>-14386.0</td>\n",
       "      <td>-69777.0</td>\n",
       "      <td>-61506.0</td>\n",
       "      <td>-65167.0</td>\n",
       "      <td>-53007.0</td>\n",
       "      <td>-339603.0</td>\n",
       "    </tr>\n",
       "    <tr>\n",
       "      <th>25%</th>\n",
       "      <td>108.0</td>\n",
       "      <td>0.0</td>\n",
       "      <td>0.0</td>\n",
       "      <td>0.0</td>\n",
       "      <td>0.0</td>\n",
       "      <td>0.0</td>\n",
       "    </tr>\n",
       "    <tr>\n",
       "      <th>50%</th>\n",
       "      <td>1761.0</td>\n",
       "      <td>1427.0</td>\n",
       "      <td>1160.0</td>\n",
       "      <td>1006.0</td>\n",
       "      <td>952.0</td>\n",
       "      <td>986.0</td>\n",
       "    </tr>\n",
       "    <tr>\n",
       "      <th>75%</th>\n",
       "      <td>9124.0</td>\n",
       "      <td>8457.5</td>\n",
       "      <td>8041.5</td>\n",
       "      <td>7742.5</td>\n",
       "      <td>7501.5</td>\n",
       "      <td>7670.5</td>\n",
       "    </tr>\n",
       "    <tr>\n",
       "      <th>max</th>\n",
       "      <td>581775.0</td>\n",
       "      <td>572677.0</td>\n",
       "      <td>1664089.0</td>\n",
       "      <td>486776.0</td>\n",
       "      <td>503914.0</td>\n",
       "      <td>527711.0</td>\n",
       "    </tr>\n",
       "  </tbody>\n",
       "</table>\n",
       "</div>"
      ],
      "text/plain": [
       "       bill_amt1  bill_amt2  bill_amt3  bill_amt4  bill_amt5  bill_amt6\n",
       "count     8827.0     8827.0     8827.0     8827.0     8827.0     8827.0\n",
       "mean     13590.4    12969.1    12859.5    12527.7    12292.8    12582.6\n",
       "std      35577.9    34308.5    38161.2    34028.1    33266.4    34404.8\n",
       "min     -14386.0   -69777.0   -61506.0   -65167.0   -53007.0  -339603.0\n",
       "25%        108.0        0.0        0.0        0.0        0.0        0.0\n",
       "50%       1761.0     1427.0     1160.0     1006.0      952.0      986.0\n",
       "75%       9124.0     8457.5     8041.5     7742.5     7501.5     7670.5\n",
       "max     581775.0   572677.0  1664089.0   486776.0   503914.0   527711.0"
      ]
     },
     "execution_count": 4000,
     "metadata": {},
     "output_type": "execute_result"
    }
   ],
   "source": [
    "df[bill_amt].describe().round(1)"
   ]
  },
  {
   "cell_type": "markdown",
   "id": "560dce45-68b1-413a-b2a2-b7361bc8eb54",
   "metadata": {},
   "source": [
    "#### Value Ranges"
   ]
  },
  {
   "cell_type": "code",
   "execution_count": 4001,
   "id": "40aa590d-7163-46ac-a01b-c3a688e3d67b",
   "metadata": {},
   "outputs": [],
   "source": [
    "cVar =  ['limit_bal','age','bill_amt1','pay_amt2'] # continuous var"
   ]
  },
  {
   "cell_type": "code",
   "execution_count": 4002,
   "id": "94bc3c0a-846d-4cd2-ad50-9d2b3a9e0a7c",
   "metadata": {},
   "outputs": [
    {
     "data": {
      "text/html": [
       "<div>\n",
       "<style scoped>\n",
       "    .dataframe tbody tr th:only-of-type {\n",
       "        vertical-align: middle;\n",
       "    }\n",
       "\n",
       "    .dataframe tbody tr th {\n",
       "        vertical-align: top;\n",
       "    }\n",
       "\n",
       "    .dataframe thead th {\n",
       "        text-align: right;\n",
       "    }\n",
       "</style>\n",
       "<table border=\"1\" class=\"dataframe\">\n",
       "  <thead>\n",
       "    <tr style=\"text-align: right;\">\n",
       "      <th></th>\n",
       "      <th>limit_bal</th>\n",
       "      <th>age</th>\n",
       "      <th>bill_amt1</th>\n",
       "      <th>pay_amt2</th>\n",
       "    </tr>\n",
       "  </thead>\n",
       "  <tbody>\n",
       "    <tr>\n",
       "      <th>count</th>\n",
       "      <td>8827.0</td>\n",
       "      <td>8827.0</td>\n",
       "      <td>8827.0</td>\n",
       "      <td>8827.0</td>\n",
       "    </tr>\n",
       "    <tr>\n",
       "      <th>mean</th>\n",
       "      <td>199872.0</td>\n",
       "      <td>36.7</td>\n",
       "      <td>13590.4</td>\n",
       "      <td>4304.7</td>\n",
       "    </tr>\n",
       "    <tr>\n",
       "      <th>std</th>\n",
       "      <td>128347.9</td>\n",
       "      <td>9.0</td>\n",
       "      <td>35577.9</td>\n",
       "      <td>22027.2</td>\n",
       "    </tr>\n",
       "    <tr>\n",
       "      <th>min</th>\n",
       "      <td>10000.0</td>\n",
       "      <td>21.0</td>\n",
       "      <td>-14386.0</td>\n",
       "      <td>0.0</td>\n",
       "    </tr>\n",
       "    <tr>\n",
       "      <th>25%</th>\n",
       "      <td>100000.0</td>\n",
       "      <td>30.0</td>\n",
       "      <td>108.0</td>\n",
       "      <td>0.0</td>\n",
       "    </tr>\n",
       "    <tr>\n",
       "      <th>50%</th>\n",
       "      <td>190000.0</td>\n",
       "      <td>35.0</td>\n",
       "      <td>1761.0</td>\n",
       "      <td>641.0</td>\n",
       "    </tr>\n",
       "    <tr>\n",
       "      <th>75%</th>\n",
       "      <td>280000.0</td>\n",
       "      <td>42.0</td>\n",
       "      <td>9124.0</td>\n",
       "      <td>3384.0</td>\n",
       "    </tr>\n",
       "    <tr>\n",
       "      <th>max</th>\n",
       "      <td>800000.0</td>\n",
       "      <td>75.0</td>\n",
       "      <td>581775.0</td>\n",
       "      <td>1684259.0</td>\n",
       "    </tr>\n",
       "  </tbody>\n",
       "</table>\n",
       "</div>"
      ],
      "text/plain": [
       "       limit_bal     age  bill_amt1   pay_amt2\n",
       "count     8827.0  8827.0     8827.0     8827.0\n",
       "mean    199872.0    36.7    13590.4     4304.7\n",
       "std     128347.9     9.0    35577.9    22027.2\n",
       "min      10000.0    21.0   -14386.0        0.0\n",
       "25%     100000.0    30.0      108.0        0.0\n",
       "50%     190000.0    35.0     1761.0      641.0\n",
       "75%     280000.0    42.0     9124.0     3384.0\n",
       "max     800000.0    75.0   581775.0  1684259.0"
      ]
     },
     "execution_count": 4002,
     "metadata": {},
     "output_type": "execute_result"
    }
   ],
   "source": [
    "df[cVar].describe().round(1)"
   ]
  },
  {
   "cell_type": "code",
   "execution_count": 4003,
   "id": "4cb60ea9-96f6-4579-9d8c-d0f32e6287ab",
   "metadata": {},
   "outputs": [
    {
     "name": "stdout",
     "output_type": "stream",
     "text": [
      "It is seen that there are different value ranges.\n",
      "10000 800000\n",
      "21 75\n",
      "-14386 581775\n",
      "0 1684259\n"
     ]
    }
   ],
   "source": [
    "print('It is seen that there are different value ranges.')\n",
    "print(df.limit_bal.min(), df.limit_bal.max())\n",
    "print(df.age.min(), df.age.max())\n",
    "print(df.bill_amt1.min(), df.bill_amt1.max())\n",
    "print(df.pay_amt2.min(), df.pay_amt2.max())"
   ]
  },
  {
   "cell_type": "markdown",
   "id": "75413dbd-621a-4fd6-a1fa-e72d536a82fd",
   "metadata": {},
   "source": [
    "### Data Visualization"
   ]
  },
  {
   "cell_type": "markdown",
   "id": "95041b42-38c6-4c2c-8742-8c1cdb93d2e2",
   "metadata": {
    "tags": []
   },
   "source": [
    "#### Histogram"
   ]
  },
  {
   "cell_type": "markdown",
   "id": "275f861e-f451-4ccc-a02c-6fee142c9717",
   "metadata": {
    "tags": []
   },
   "source": [
    "##### Amount of previous payment "
   ]
  },
  {
   "cell_type": "code",
   "execution_count": 4004,
   "id": "d385a6db-dc3e-4444-bd18-f8530550b52e",
   "metadata": {},
   "outputs": [
    {
     "data": {
      "text/plain": [
       "0       3211\n",
       "390      139\n",
       "2000     124\n",
       "3000      73\n",
       "1000      65\n",
       "Name: pay_amt1, dtype: int64"
      ]
     },
     "execution_count": 4004,
     "metadata": {},
     "output_type": "execute_result"
    }
   ],
   "source": [
    "df['pay_amt1'].value_counts().head()"
   ]
  },
  {
   "cell_type": "code",
   "execution_count": 4005,
   "id": "e8081333-0113-47ba-9b21-725ab4b6f905",
   "metadata": {},
   "outputs": [
    {
     "data": {
      "image/png": "[encoded data removed]",
      "text/plain": [
       "<Figure size 432x288 with 1 Axes>"
      ]
     },
     "metadata": {
      "needs_background": "light"
     },
     "output_type": "display_data"
    }
   ],
   "source": [
    "# Linear scale\n",
    "plt.hist('pay_amt1', data =df)\n",
    "\n",
    "plt.show()\n",
    "\n",
    "# we could not get a meaningful plot"
   ]
  },
  {
   "cell_type": "code",
   "execution_count": 4006,
   "id": "ccad07f2-7d0c-4e18-a7d6-a262537549cc",
   "metadata": {},
   "outputs": [
    {
     "data": {
      "image/png": "[encoded data removed]",
      "text/plain": [
       "<Figure size 432x288 with 1 Axes>"
      ]
     },
     "metadata": {
      "needs_background": "light"
     },
     "output_type": "display_data"
    }
   ],
   "source": [
    "# Log scale\n",
    "plt.hist('pay_amt1', log = True, data =df)\n",
    "\n",
    "plt.show()\n",
    "\n",
    "# right skewed"
   ]
  },
  {
   "cell_type": "code",
   "execution_count": 4007,
   "id": "adb4f2e9-18c0-41d0-a4e7-c101a5c8017c",
   "metadata": {},
   "outputs": [
    {
     "data": {
      "image/png": "[encoded data removed]",
      "text/plain": [
       "<Figure size 432x288 with 1 Axes>"
      ]
     },
     "metadata": {
      "needs_background": "light"
     },
     "output_type": "display_data"
    }
   ],
   "source": [
    "# Linear scale\n",
    "plt.hist('pay_amt1', data =df,range = [0, 20000])\n",
    "\n",
    "plt.show()\n",
    "\n",
    "# between 0 -20k range there is a right skewed data."
   ]
  },
  {
   "cell_type": "code",
   "execution_count": 4008,
   "id": "05c00ce1-adb4-421b-9bf1-79798c9f3d06",
   "metadata": {
    "tags": []
   },
   "outputs": [
    {
     "data": {
      "image/png": "[encoded data removed]",
      "text/plain": [
       "<Figure size 720x504 with 6 Axes>"
      ]
     },
     "metadata": {
      "needs_background": "light"
     },
     "output_type": "display_data"
    }
   ],
   "source": [
    "# we can see the distribution of pay amounts with log values\n",
    "\n",
    "figure, axis = plt.subplots(2, 3, figsize=(10, 7))\n",
    "figure = figsize=(3, 3)\n",
    "  \n",
    "# For Sine Function\n",
    "axis[0, 0].hist(np.log1p(df['pay_amt1']))\n",
    "axis[0, 0].set_title(\"PM Sept\")\n",
    "  \n",
    "# For Cosine Function\n",
    "axis[0, 1].hist(np.log1p(df['pay_amt2']))\n",
    "axis[0, 1].set_title(\"PM Aug\")\n",
    "\n",
    "# For Cosine Function\n",
    "axis[0, 2].hist(np.log1p(df['pay_amt3']))\n",
    "axis[0, 2].set_title(\"PM Jul\")\n",
    "  \n",
    "# For Tangent Function\n",
    "axis[1, 0].hist(np.log1p(df['pay_amt4']))\n",
    "axis[1, 0].set_title(\"PM Jun\")\n",
    "  \n",
    "# For Tanh Function\n",
    "axis[1, 1].hist(np.log1p(df['pay_amt5']))\n",
    "axis[1, 1].set_title(\"PM May\")\n",
    "\n",
    "# For Tanh Function\n",
    "axis[1, 2].hist(np.log1p(df['pay_amt6']))\n",
    "axis[1, 2].set_title(\"PM Apr\")\n",
    "  \n",
    "# Combine all the operations and display\n",
    "plt.show()"
   ]
  },
  {
   "cell_type": "markdown",
   "id": "d57cc695-195b-47b6-9f19-f4021be5bfb1",
   "metadata": {
    "tags": []
   },
   "source": [
    "##### Amount of bill statement "
   ]
  },
  {
   "cell_type": "code",
   "execution_count": 4009,
   "id": "3bfb71d8-60b5-44b6-9e97-756eae5a6a91",
   "metadata": {},
   "outputs": [
    {
     "data": {
      "text/plain": [
       "0       1733\n",
       "390      175\n",
       "2500      58\n",
       "316       55\n",
       "780       52\n",
       "Name: bill_amt1, dtype: int64"
      ]
     },
     "execution_count": 4009,
     "metadata": {},
     "output_type": "execute_result"
    }
   ],
   "source": [
    "df['bill_amt1'].value_counts().head()"
   ]
  },
  {
   "cell_type": "code",
   "execution_count": 4010,
   "id": "750b8ecf-8ed8-49f5-8548-4a072511ef7c",
   "metadata": {},
   "outputs": [
    {
     "data": {
      "text/plain": [
       "count      8827.000000\n",
       "mean      13590.405574\n",
       "std       35577.931198\n",
       "min      -14386.000000\n",
       "25%         108.000000\n",
       "50%        1761.000000\n",
       "75%        9124.000000\n",
       "max      581775.000000\n",
       "Name: bill_amt1, dtype: float64"
      ]
     },
     "execution_count": 4010,
     "metadata": {},
     "output_type": "execute_result"
    }
   ],
   "source": [
    "df['bill_amt1'].describe()"
   ]
  },
  {
   "cell_type": "code",
   "execution_count": 4011,
   "id": "5c9116c9-51b3-44af-a35f-578fb12faa58",
   "metadata": {},
   "outputs": [
    {
     "data": {
      "image/png": "[encoded data removed]",
      "text/plain": [
       "<Figure size 432x288 with 1 Axes>"
      ]
     },
     "metadata": {
      "needs_background": "light"
     },
     "output_type": "display_data"
    }
   ],
   "source": [
    "# Linear scale\n",
    "plt.hist('bill_amt1', data =df)\n",
    "\n",
    "plt.show()\n",
    "\n",
    "# we could not get a meaningful plot"
   ]
  },
  {
   "cell_type": "code",
   "execution_count": 4012,
   "id": "47a23f30-9522-4309-aea7-249f33175990",
   "metadata": {},
   "outputs": [
    {
     "data": {
      "image/png": "[encoded data removed]",
      "text/plain": [
       "<Figure size 432x288 with 1 Axes>"
      ]
     },
     "metadata": {
      "needs_background": "light"
     },
     "output_type": "display_data"
    }
   ],
   "source": [
    "# Log scale\n",
    "plt.hist('bill_amt1', log = True, data =df)\n",
    "\n",
    "plt.show()\n",
    "\n",
    "# right skewed"
   ]
  },
  {
   "cell_type": "code",
   "execution_count": 4013,
   "id": "8aaf95b6-613e-4352-a189-5f313843e11f",
   "metadata": {},
   "outputs": [
    {
     "data": {
      "text/plain": [
       "29985        0\n",
       "29986     2220\n",
       "29989     3425\n",
       "29991     2500\n",
       "29994    72557\n",
       "Name: bill_amt1, dtype: int64"
      ]
     },
     "execution_count": 4013,
     "metadata": {},
     "output_type": "execute_result"
    }
   ],
   "source": [
    "df['bill_amt1'].tail()"
   ]
  },
  {
   "cell_type": "markdown",
   "id": "2afc5f91-f4bf-4dec-afe7-70ef766bdc50",
   "metadata": {
    "tags": []
   },
   "source": [
    "#### Box plot"
   ]
  },
  {
   "cell_type": "markdown",
   "id": "7b956b37-30c9-4b1b-a401-c3bfaa82bfd6",
   "metadata": {
    "tags": []
   },
   "source": [
    "##### Amount of previous payment "
   ]
  },
  {
   "cell_type": "code",
   "execution_count": 4014,
   "id": "33745639-42fa-4850-8ade-070e108a6bb1",
   "metadata": {},
   "outputs": [
    {
     "data": {
      "image/png": "[encoded data removed]",
      "text/plain": [
       "<Figure size 432x288 with 1 Axes>"
      ]
     },
     "metadata": {
      "needs_background": "light"
     },
     "output_type": "display_data"
    }
   ],
   "source": [
    "# Lienar scale\n",
    "plt.boxplot('pay_amt1', vert=False, data =df)\n",
    "\n",
    "plt.show()\n",
    "\n",
    "# there is a lot of outlier"
   ]
  },
  {
   "cell_type": "code",
   "execution_count": 4015,
   "id": "d92aa8b8-a640-4da7-b4d1-06a163abed89",
   "metadata": {},
   "outputs": [
    {
     "data": {
      "image/png": "[encoded data removed]",
      "text/plain": [
       "<Figure size 1008x504 with 6 Axes>"
      ]
     },
     "metadata": {
      "needs_background": "light"
     },
     "output_type": "display_data"
    }
   ],
   "source": [
    "# we can see the outliers of pay amounts\n",
    "\n",
    "figure, axis = plt.subplots(2, 3, figsize=(14, 7))\n",
    "\n",
    "axis[0, 0].boxplot('pay_amt1', vert=False, data =df)\n",
    "axis[0, 0].set_title(\"PA Sept\")\n",
    "  \n",
    "axis[0, 1].boxplot('pay_amt2', vert=False, data =df)\n",
    "axis[0, 1].set_title(\"PA Aug\")\n",
    "\n",
    "axis[0, 2].boxplot('pay_amt3', vert=False, data =df)\n",
    "axis[0, 2].set_title(\"PA Jul\")\n",
    "  \n",
    "axis[1, 0].boxplot('pay_amt4', vert=False, data =df)\n",
    "axis[1, 0].set_title(\"PA Jun\")\n",
    "  \n",
    "axis[1, 1].boxplot('pay_amt5', vert=False, data =df)\n",
    "axis[1, 1].set_title(\"PA May\")\n",
    "\n",
    "axis[1, 2].boxplot('pay_amt6', vert=False, data =df)\n",
    "axis[1, 2].set_title(\"PA Apr\")\n",
    "  \n",
    "# Combine all the operations and display\n",
    "plt.show()"
   ]
  },
  {
   "cell_type": "markdown",
   "id": "1421a157-b208-401e-9148-06190e73bbf4",
   "metadata": {
    "tags": []
   },
   "source": [
    "##### Amount of bill statement "
   ]
  },
  {
   "cell_type": "code",
   "execution_count": 4016,
   "id": "f996b9f8-64ef-43ac-a381-a86cced6de67",
   "metadata": {},
   "outputs": [
    {
     "data": {
      "image/png": "[encoded data removed]",
      "text/plain": [
       "<Figure size 432x288 with 1 Axes>"
      ]
     },
     "metadata": {
      "needs_background": "light"
     },
     "output_type": "display_data"
    }
   ],
   "source": [
    "# Lienar scale\n",
    "plt.boxplot('bill_amt1', vert=False, data =df)\n",
    "\n",
    "plt.show()\n",
    "\n",
    "# there is a lot of outlier"
   ]
  },
  {
   "cell_type": "code",
   "execution_count": 4017,
   "id": "87419c03-46d0-4b90-b2fb-9fee0cd089d5",
   "metadata": {},
   "outputs": [
    {
     "data": {
      "image/png": "[encoded data removed]",
      "text/plain": [
       "<Figure size 1008x504 with 6 Axes>"
      ]
     },
     "metadata": {
      "needs_background": "light"
     },
     "output_type": "display_data"
    }
   ],
   "source": [
    "# we can see the outliers of pay amounts\n",
    "\n",
    "figure, axis = plt.subplots(2, 3, figsize=(14, 7))\n",
    "\n",
    "axis[0, 0].boxplot('bill_amt1', vert=False, data =df)\n",
    "axis[0, 0].set_title(\"BA Sept\")\n",
    "  \n",
    "axis[0, 1].boxplot('bill_amt2', vert=False, data =df)\n",
    "axis[0, 1].set_title(\"BA Aug\")\n",
    "\n",
    "axis[0, 2].boxplot('bill_amt3', vert=False, data =df)\n",
    "axis[0, 2].set_title(\"BA Jul\")\n",
    "  \n",
    "axis[1, 0].boxplot('bill_amt4', vert=False, data =df)\n",
    "axis[1, 0].set_title(\"BA Jun\")\n",
    "  \n",
    "axis[1, 1].boxplot('bill_amt5', vert=False, data =df)\n",
    "axis[1, 1].set_title(\"BA May\")\n",
    "\n",
    "axis[1, 2].boxplot('bill_amt6', vert=False, data =df)\n",
    "axis[1, 2].set_title(\"BA Apr\")\n",
    "  \n",
    "# Combine all the operations and display\n",
    "plt.show()"
   ]
  },
  {
   "cell_type": "markdown",
   "id": "99d59085-e1aa-4833-91d7-a5f18f851220",
   "metadata": {
    "tags": []
   },
   "source": [
    "#### Count plot"
   ]
  },
  {
   "cell_type": "code",
   "execution_count": 4018,
   "id": "1406e8cd-f7f1-48ac-92cd-59472442e607",
   "metadata": {},
   "outputs": [
    {
     "data": {
      "image/png": "[encoded data removed]",
      "text/plain": [
       "<Figure size 864x720 with 4 Axes>"
      ]
     },
     "metadata": {
      "needs_background": "light"
     },
     "output_type": "display_data"
    }
   ],
   "source": [
    "# we can see the outliers of pay amounts\n",
    "\n",
    "figure, axis = plt.subplots(2, 2, figsize=(12,10 ))\n",
    "  \n",
    "sns.countplot(ax=axis[0,0], x=df['default_payment'])\n",
    "axis[0,0].set_title('Default Payment')\n",
    "\n",
    "# For Cosine Function\n",
    "sns.countplot(ax=axis[0,1], x=df['sex'])\n",
    "axis[0, 1].set_title(\"Sex\")\n",
    "\n",
    "\n",
    "sns.countplot(ax=axis[1,0], x=df['education'])\n",
    "axis[1, 0].set_title(\"Education\")\n",
    "  \n",
    "# For Tanh Function\n",
    "sns.countplot(ax=axis[1,1], x=df['marriage'])\n",
    "axis[1, 1].set_title(\"Marriage\")\n",
    "\n",
    "\n",
    "# Combine all the operations and display\n",
    "plt.show()"
   ]
  },
  {
   "cell_type": "markdown",
   "id": "c2a5e615-c3ff-4638-a716-7c10768a60ed",
   "metadata": {},
   "source": [
    "##### Look at the target variable"
   ]
  },
  {
   "cell_type": "code",
   "execution_count": 4019,
   "id": "efb74c57-838a-4ae7-9a59-b23feceae64c",
   "metadata": {},
   "outputs": [],
   "source": [
    "# our target variable is default_payment \n",
    "# default payment (Yes = 1, No = 0)"
   ]
  },
  {
   "cell_type": "code",
   "execution_count": 4020,
   "id": "cc14fcf7-35dc-4d22-9e98-d15d6bb0e176",
   "metadata": {},
   "outputs": [
    {
     "data": {
      "text/plain": [
       "0    0.729353\n",
       "1    0.270647\n",
       "Name: default_payment, dtype: float64"
      ]
     },
     "execution_count": 4020,
     "metadata": {},
     "output_type": "execute_result"
    }
   ],
   "source": [
    "df.default_payment.value_counts(normalize=True)"
   ]
  },
  {
   "cell_type": "code",
   "execution_count": 4021,
   "id": "0e97ecb8-589f-4827-bc7f-405e8b01da8e",
   "metadata": {},
   "outputs": [
    {
     "data": {
      "image/png": "[encoded data removed]",
      "text/plain": [
       "<Figure size 432x288 with 1 Axes>"
      ]
     },
     "metadata": {
      "needs_background": "light"
     },
     "output_type": "display_data"
    }
   ],
   "source": [
    "sns.countplot(x='default_payment',hue = 'sex', data=df)\n",
    "plt.show()"
   ]
  },
  {
   "cell_type": "code",
   "execution_count": 4022,
   "id": "c9500052-13cd-4ac7-a9e8-38889c46e8bc",
   "metadata": {},
   "outputs": [
    {
     "data": {
      "image/png": "[encoded data removed]",
      "text/plain": [
       "<Figure size 432x288 with 1 Axes>"
      ]
     },
     "metadata": {
      "needs_background": "light"
     },
     "output_type": "display_data"
    }
   ],
   "source": [
    "sns.countplot(x='default_payment',hue = 'education', data=df)\n",
    "plt.show()"
   ]
  },
  {
   "cell_type": "code",
   "execution_count": 4023,
   "id": "dbe415b0-0e6b-4797-a205-28bead2a4cb3",
   "metadata": {},
   "outputs": [
    {
     "data": {
      "image/png": "[encoded data removed]",
      "text/plain": [
       "<Figure size 432x288 with 1 Axes>"
      ]
     },
     "metadata": {
      "needs_background": "light"
     },
     "output_type": "display_data"
    }
   ],
   "source": [
    "sns.countplot(x='default_payment',hue = 'marriage', data=df)\n",
    "plt.show()"
   ]
  },
  {
   "cell_type": "markdown",
   "id": "87c673e8-86fe-4599-9bf7-1923a7f265b6",
   "metadata": {
    "tags": []
   },
   "source": [
    "##  Feature importance"
   ]
  },
  {
   "cell_type": "markdown",
   "id": "53760404-3623-458f-b192-50f37fc224b2",
   "metadata": {
    "tags": []
   },
   "source": [
    "### Mutual information"
   ]
  },
  {
   "cell_type": "code",
   "execution_count": 4024,
   "id": "03bbe547",
   "metadata": {},
   "outputs": [],
   "source": [
    "def mutual_info_default_pay(series):\n",
    "    return mutual_info_score(series, df.default_payment)"
   ]
  },
  {
   "cell_type": "code",
   "execution_count": 4025,
   "id": "d6692b03-1749-4454-848c-cf411df12d26",
   "metadata": {},
   "outputs": [],
   "source": [
    "categorical = ['sex', 'education', 'marriage', 'pay_1', 'pay_2',\n",
    "       'pay_3', 'pay_4', 'pay_5', 'pay_6']"
   ]
  },
  {
   "cell_type": "code",
   "execution_count": 4026,
   "id": "36729306-d0c2-482c-babf-0d4feaff7e16",
   "metadata": {
    "tags": []
   },
   "outputs": [],
   "source": [
    "mi = df[categorical].apply(mutual_info_default_pay)"
   ]
  },
  {
   "cell_type": "code",
   "execution_count": 4027,
   "id": "7fc670ed",
   "metadata": {},
   "outputs": [
    {
     "data": {
      "text/plain": [
       "pay_1        0.086407\n",
       "pay_2        0.078619\n",
       "pay_5        0.075346\n",
       "pay_4        0.074768\n",
       "pay_3        0.072600\n",
       "pay_6        0.072244\n",
       "education    0.006688\n",
       "sex          0.001533\n",
       "marriage     0.000076\n",
       "dtype: float64"
      ]
     },
     "execution_count": 4027,
     "metadata": {},
     "output_type": "execute_result"
    }
   ],
   "source": [
    "mi.sort_values(ascending=False)"
   ]
  },
  {
   "cell_type": "code",
   "execution_count": 4028,
   "id": "2aee0009-e00d-4f52-9765-87b7b038cd8c",
   "metadata": {},
   "outputs": [],
   "source": [
    "mi = mi.sort_values(ascending=True)"
   ]
  },
  {
   "cell_type": "code",
   "execution_count": 4029,
   "id": "6c1cdbda-5f02-4460-ba19-f83216add976",
   "metadata": {},
   "outputs": [
    {
     "data": {
      "image/png": "[encoded data removed]",
      "text/plain": [
       "<Figure size 432x288 with 1 Axes>"
      ]
     },
     "metadata": {
      "needs_background": "light"
     },
     "output_type": "display_data"
    }
   ],
   "source": [
    "plt.barh(mi.index, mi.values)\n",
    "plt.show()"
   ]
  },
  {
   "cell_type": "markdown",
   "id": "4f559511-88ff-4a0b-a91e-19778ffa4adc",
   "metadata": {
    "tags": []
   },
   "source": [
    "### Correlation"
   ]
  },
  {
   "cell_type": "code",
   "execution_count": 4030,
   "id": "7d7ddbd5-9c48-4acb-a5c7-542ded1e2672",
   "metadata": {},
   "outputs": [],
   "source": [
    "numerical = ['limit_bal', 'age', 'bill_amt1', 'bill_amt2',\n",
    "       'bill_amt3', 'bill_amt4', 'bill_amt5', 'bill_amt6', 'pay_amt1',\n",
    "       'pay_amt2', 'pay_amt3', 'pay_amt4', 'pay_amt5', 'pay_amt6']"
   ]
  },
  {
   "cell_type": "code",
   "execution_count": 4031,
   "id": "4b4b9337-a18a-429d-9e65-d0f17723916a",
   "metadata": {},
   "outputs": [],
   "source": [
    "corr = df[numerical].corrwith(df.default_payment).abs().sort_values(ascending=True) "
   ]
  },
  {
   "cell_type": "code",
   "execution_count": 4032,
   "id": "7c73e8e3-cecd-437f-817e-4adb5573dfda",
   "metadata": {},
   "outputs": [
    {
     "data": {
      "image/png": "[encoded data removed]",
      "text/plain": [
       "<Figure size 432x288 with 1 Axes>"
      ]
     },
     "metadata": {
      "needs_background": "light"
     },
     "output_type": "display_data"
    }
   ],
   "source": [
    "plt.barh(corr.index, corr.values)\n",
    "plt.show()"
   ]
  },
  {
   "cell_type": "code",
   "execution_count": 4033,
   "id": "6e95a812-fd01-44df-b74e-995e27c10c76",
   "metadata": {},
   "outputs": [
    {
     "data": {
      "image/png": "[encoded data removed]",
      "text/plain": [
       "<Figure size 1008x432 with 2 Axes>"
      ]
     },
     "metadata": {
      "needs_background": "light"
     },
     "output_type": "display_data"
    }
   ],
   "source": [
    "plt.figure(figsize=(14, 6))\n",
    "# define the mask to set the values in the upper triangle to True\n",
    "mask = np.triu(np.ones_like(df.corr()))\n",
    "heatmap = sns.heatmap(df.corr(), mask=mask, vmin=-1, vmax=1, annot=True)\n",
    "heatmap.set_title('Triangle Correlation Heatmap', fontdict={'fontsize':18}, pad=16);"
   ]
  },
  {
   "cell_type": "markdown",
   "id": "4f6ab3db-1f5e-43d3-b624-7732c9aa0fe7",
   "metadata": {},
   "source": [
    "## Models"
   ]
  },
  {
   "cell_type": "code",
   "execution_count": 4034,
   "id": "0da59d15-b79e-4166-b896-4f9cf0f45ab2",
   "metadata": {},
   "outputs": [],
   "source": [
    "models = []"
   ]
  },
  {
   "cell_type": "markdown",
   "id": "d080a93e-5179-4d49-b5a4-8f73edc55d4c",
   "metadata": {
    "tags": []
   },
   "source": [
    "### Logistic Regression"
   ]
  },
  {
   "cell_type": "code",
   "execution_count": 4035,
   "id": "e7488ffb-db7f-443a-8e3b-c2ff16e617df",
   "metadata": {},
   "outputs": [],
   "source": [
    "model = LogisticRegression(max_iter= 300)"
   ]
  },
  {
   "cell_type": "markdown",
   "id": "6091bc00-34ec-4615-82b6-0cd1ea656b5b",
   "metadata": {
    "jp-MarkdownHeadingCollapsed": true,
    "tags": []
   },
   "source": [
    "- when solver is sag i got this warning \n",
    "\n",
    "ConvergenceWarning: The max_iter was reached which means the coef_ did not converge\n",
    "\n",
    "- when solver is lbfgs i got this warning\n",
    "\n",
    "ConvergenceWarning: lbfgs failed to converge (status=1):\n",
    "STOP: TOTAL NO. of ITERATIONS REACHED LIMIT\n",
    "\n",
    "- to solve this warning i set max_iter > 200"
   ]
  },
  {
   "cell_type": "code",
   "execution_count": 4036,
   "id": "9f3282b7-cadb-4767-b6aa-a9434310ae73",
   "metadata": {},
   "outputs": [
    {
     "data": {
      "text/plain": [
       "LogisticRegression(max_iter=300)"
      ]
     },
     "execution_count": 4036,
     "metadata": {},
     "output_type": "execute_result"
    }
   ],
   "source": [
    "model.fit(X_train, y_train )"
   ]
  },
  {
   "cell_type": "code",
   "execution_count": 4037,
   "id": "ce1be5c3-2f1f-441a-96ee-a2b5ca0f4f54",
   "metadata": {},
   "outputs": [
    {
     "data": {
      "text/plain": [
       "0.7644394110985278"
      ]
     },
     "execution_count": 4037,
     "metadata": {},
     "output_type": "execute_result"
    }
   ],
   "source": [
    "model.score(X_val, y_val)"
   ]
  },
  {
   "cell_type": "code",
   "execution_count": 4038,
   "id": "7d7887f5-8c82-4ea5-9c10-6a0730192c6c",
   "metadata": {},
   "outputs": [
    {
     "data": {
      "text/plain": [
       "0.7746319365798414"
      ]
     },
     "execution_count": 4038,
     "metadata": {},
     "output_type": "execute_result"
    }
   ],
   "source": [
    "model.score(X_test, y_test)"
   ]
  },
  {
   "cell_type": "code",
   "execution_count": 4039,
   "id": "d5102bd1-4e68-4966-b875-4b1745913c6d",
   "metadata": {},
   "outputs": [],
   "source": [
    "y_pred = model.predict_proba(X_val)[:,1]"
   ]
  },
  {
   "cell_type": "code",
   "execution_count": 4040,
   "id": "e9f98949-02ce-4164-911b-966390d1c6f0",
   "metadata": {},
   "outputs": [
    {
     "data": {
      "text/plain": [
       "0.7200475539052831"
      ]
     },
     "execution_count": 4040,
     "metadata": {},
     "output_type": "execute_result"
    }
   ],
   "source": [
    "roc_auc_score(y_val,y_pred)"
   ]
  },
  {
   "cell_type": "code",
   "execution_count": 4041,
   "id": "766d3726-a380-45b0-a6ef-4568797ecf4a",
   "metadata": {},
   "outputs": [],
   "source": [
    "y_pred= model.predict(X_val)"
   ]
  },
  {
   "cell_type": "code",
   "execution_count": 4042,
   "id": "3491695a-cfd8-401e-bd02-9ab27e928937",
   "metadata": {},
   "outputs": [
    {
     "name": "stdout",
     "output_type": "stream",
     "text": [
      "              precision    recall  f1-score   support\n",
      "\n",
      "           0      0.782     0.940     0.854      1290\n",
      "           1      0.639     0.290     0.399       476\n",
      "\n",
      "    accuracy                          0.764      1766\n",
      "   macro avg      0.710     0.615     0.626      1766\n",
      "weighted avg      0.743     0.764     0.731      1766\n",
      "\n"
     ]
    },
    {
     "data": {
      "image/png": "[encoded data removed]",
      "text/plain": [
       "<Figure size 432x288 with 2 Axes>"
      ]
     },
     "metadata": {
      "needs_background": "light"
     },
     "output_type": "display_data"
    }
   ],
   "source": [
    "# print classification report\n",
    "print(classification_report(y_val, y_pred, digits=3))\n",
    "\n",
    "# show confusion matrix\n",
    "ConfusionMatrixDisplay.from_predictions(y_val, y_pred)\n",
    "plt.show()"
   ]
  },
  {
   "cell_type": "markdown",
   "id": "04c54168-8511-40bd-9bdf-04dd9d1702db",
   "metadata": {
    "tags": []
   },
   "source": [
    "#### Logistic Regression Tuning"
   ]
  },
  {
   "cell_type": "code",
   "execution_count": 4043,
   "id": "18360b8b-835a-44c0-a9f2-db7163766b2b",
   "metadata": {
    "tags": []
   },
   "outputs": [
    {
     "name": "stderr",
     "output_type": "stream",
     "text": [
      "C:\\Users\\Administrator\\anaconda3\\lib\\site-packages\\sklearn\\linear_model\\_logistic.py:814: ConvergenceWarning: lbfgs failed to converge (status=1):\n",
      "STOP: TOTAL NO. of ITERATIONS REACHED LIMIT.\n",
      "\n",
      "Increase the number of iterations (max_iter) or scale the data as shown in:\n",
      "    https://scikit-learn.org/stable/modules/preprocessing.html\n",
      "Please also refer to the documentation for alternative solver options:\n",
      "    https://scikit-learn.org/stable/modules/linear_model.html#logistic-regression\n",
      "  n_iter_i = _check_optimize_result(\n"
     ]
    }
   ],
   "source": [
    "c_values = [100, 10, 1.0, 0.1, 0.01]\n",
    "scores = []\n",
    "\n",
    "for c in c_values:\n",
    "    model_name = 'Logistic Regression'\n",
    "    model = model = LogisticRegression(max_iter= 300, C = c)\n",
    "    model.fit(X_train, y_train)\n",
    "    \n",
    "    y_pred = model.predict_proba(X_val)[:, 1]\n",
    "    y_pred2 = model.predict(X_val)\n",
    "    auc=roc_auc_score(y_val, y_pred)\n",
    "    acc = accuracy_score(y_val, y_pred2 )\n",
    "    prec = precision_score(y_val, y_pred2)\n",
    "    rec = recall_score(y_val, y_pred2)\n",
    "    f1 = f1_score(y_val, y_pred2)\n",
    "    \n",
    "    scores.append((c,model_name,auc,acc,prec,rec,f1))"
   ]
  },
  {
   "cell_type": "code",
   "execution_count": 4044,
   "id": "2cf40335-372b-4acf-945a-bbb3aac5e4a1",
   "metadata": {},
   "outputs": [],
   "source": [
    "columns = ['C','model_mame', 'auc','accuracy','prec','rec','f1']\n",
    "df_scores = pd.DataFrame(scores, columns=columns)"
   ]
  },
  {
   "cell_type": "code",
   "execution_count": 4045,
   "id": "a657c47d-6233-4d39-8771-0a5944f141aa",
   "metadata": {
    "tags": []
   },
   "outputs": [
    {
     "data": {
      "text/html": [
       "<div>\n",
       "<style scoped>\n",
       "    .dataframe tbody tr th:only-of-type {\n",
       "        vertical-align: middle;\n",
       "    }\n",
       "\n",
       "    .dataframe tbody tr th {\n",
       "        vertical-align: top;\n",
       "    }\n",
       "\n",
       "    .dataframe thead th {\n",
       "        text-align: right;\n",
       "    }\n",
       "</style>\n",
       "<table border=\"1\" class=\"dataframe\">\n",
       "  <thead>\n",
       "    <tr style=\"text-align: right;\">\n",
       "      <th></th>\n",
       "      <th>C</th>\n",
       "      <th>model_mame</th>\n",
       "      <th>auc</th>\n",
       "      <th>accuracy</th>\n",
       "      <th>prec</th>\n",
       "      <th>rec</th>\n",
       "      <th>f1</th>\n",
       "    </tr>\n",
       "  </thead>\n",
       "  <tbody>\n",
       "    <tr>\n",
       "      <th>2</th>\n",
       "      <td>1.00</td>\n",
       "      <td>Logistic Regression</td>\n",
       "      <td>0.720048</td>\n",
       "      <td>0.764439</td>\n",
       "      <td>0.638889</td>\n",
       "      <td>0.289916</td>\n",
       "      <td>0.398844</td>\n",
       "    </tr>\n",
       "    <tr>\n",
       "      <th>4</th>\n",
       "      <td>0.01</td>\n",
       "      <td>Logistic Regression</td>\n",
       "      <td>0.723528</td>\n",
       "      <td>0.753114</td>\n",
       "      <td>0.629870</td>\n",
       "      <td>0.203782</td>\n",
       "      <td>0.307937</td>\n",
       "    </tr>\n",
       "    <tr>\n",
       "      <th>0</th>\n",
       "      <td>100.00</td>\n",
       "      <td>Logistic Regression</td>\n",
       "      <td>0.723476</td>\n",
       "      <td>0.751982</td>\n",
       "      <td>0.625000</td>\n",
       "      <td>0.199580</td>\n",
       "      <td>0.302548</td>\n",
       "    </tr>\n",
       "    <tr>\n",
       "      <th>1</th>\n",
       "      <td>10.00</td>\n",
       "      <td>Logistic Regression</td>\n",
       "      <td>0.723464</td>\n",
       "      <td>0.751982</td>\n",
       "      <td>0.625000</td>\n",
       "      <td>0.199580</td>\n",
       "      <td>0.302548</td>\n",
       "    </tr>\n",
       "    <tr>\n",
       "      <th>3</th>\n",
       "      <td>0.10</td>\n",
       "      <td>Logistic Regression</td>\n",
       "      <td>0.723466</td>\n",
       "      <td>0.751982</td>\n",
       "      <td>0.625000</td>\n",
       "      <td>0.199580</td>\n",
       "      <td>0.302548</td>\n",
       "    </tr>\n",
       "  </tbody>\n",
       "</table>\n",
       "</div>"
      ],
      "text/plain": [
       "        C           model_mame       auc  accuracy      prec       rec  \\\n",
       "2    1.00  Logistic Regression  0.720048  0.764439  0.638889  0.289916   \n",
       "4    0.01  Logistic Regression  0.723528  0.753114  0.629870  0.203782   \n",
       "0  100.00  Logistic Regression  0.723476  0.751982  0.625000  0.199580   \n",
       "1   10.00  Logistic Regression  0.723464  0.751982  0.625000  0.199580   \n",
       "3    0.10  Logistic Regression  0.723466  0.751982  0.625000  0.199580   \n",
       "\n",
       "         f1  \n",
       "2  0.398844  \n",
       "4  0.307937  \n",
       "0  0.302548  \n",
       "1  0.302548  \n",
       "3  0.302548  "
      ]
     },
     "execution_count": 4045,
     "metadata": {},
     "output_type": "execute_result"
    }
   ],
   "source": [
    "df_scores.sort_values('f1',ascending=False).head()"
   ]
  },
  {
   "cell_type": "markdown",
   "id": "746ec31d-3098-451b-8e07-87483b0cd61a",
   "metadata": {},
   "source": [
    "- i will chose the best C = 1.00"
   ]
  },
  {
   "cell_type": "code",
   "execution_count": 4046,
   "id": "9b63cfa3-348e-46f9-8802-324238a3c578",
   "metadata": {},
   "outputs": [],
   "source": [
    "models.append(tuple(df_scores.loc[2,'model_mame':]))"
   ]
  },
  {
   "cell_type": "markdown",
   "id": "8d99cce1-3028-4ef9-a1df-335ba8b98dec",
   "metadata": {
    "tags": []
   },
   "source": [
    "### Decision Trees"
   ]
  },
  {
   "cell_type": "code",
   "execution_count": 4047,
   "id": "3e37a3ce-2ef6-48bd-9b37-0ff352fab463",
   "metadata": {},
   "outputs": [],
   "source": [
    "dt = DecisionTreeClassifier()"
   ]
  },
  {
   "cell_type": "code",
   "execution_count": 4048,
   "id": "4deb8525-bf30-4a98-9b84-f5d7d30b9cb8",
   "metadata": {},
   "outputs": [
    {
     "data": {
      "text/plain": [
       "DecisionTreeClassifier()"
      ]
     },
     "execution_count": 4048,
     "metadata": {},
     "output_type": "execute_result"
    }
   ],
   "source": [
    "dt.fit(X_train, y_train)"
   ]
  },
  {
   "cell_type": "code",
   "execution_count": 4049,
   "id": "6f24a6ce-4053-478f-894f-a6b9859de881",
   "metadata": {},
   "outputs": [
    {
     "data": {
      "text/plain": [
       "0.6891279728199321"
      ]
     },
     "execution_count": 4049,
     "metadata": {},
     "output_type": "execute_result"
    }
   ],
   "source": [
    "dt.score(X_val, y_val)"
   ]
  },
  {
   "cell_type": "code",
   "execution_count": 4050,
   "id": "11e1aa35-6ab0-4a1c-80b1-aec9750f37bd",
   "metadata": {},
   "outputs": [],
   "source": [
    "y_pred = dt.predict_proba(X_val)[:,1]"
   ]
  },
  {
   "cell_type": "code",
   "execution_count": 4051,
   "id": "9d1795bc-026e-479f-8e23-51f74d052e82",
   "metadata": {},
   "outputs": [
    {
     "data": {
      "text/plain": [
       "0.6209375610709401"
      ]
     },
     "execution_count": 4051,
     "metadata": {},
     "output_type": "execute_result"
    }
   ],
   "source": [
    "roc_auc_score(y_val,y_pred)"
   ]
  },
  {
   "cell_type": "markdown",
   "id": "e4eaae1e-772a-46a3-b4eb-9b39d409cb5d",
   "metadata": {
    "tags": []
   },
   "source": [
    "#### Decision Trees Tuning"
   ]
  },
  {
   "cell_type": "markdown",
   "id": "49af7d0d-fbbf-42ed-92d0-e03162cb9c2f",
   "metadata": {},
   "source": [
    "- Selecting best depth"
   ]
  },
  {
   "cell_type": "code",
   "execution_count": 4052,
   "id": "030081cf-7d50-489e-a8ef-1c9683fb6dfe",
   "metadata": {},
   "outputs": [
    {
     "name": "stdout",
     "output_type": "stream",
     "text": [
      "   1 -> 0.704 -> 0.790\n",
      "   2 -> 0.749 -> 0.794\n",
      "   3 -> 0.755 -> 0.790\n",
      "   4 -> 0.750 -> 0.786\n",
      "   5 -> 0.750 -> 0.792\n",
      "   6 -> 0.748 -> 0.790\n",
      "   7 -> 0.737 -> 0.785\n",
      "   8 -> 0.729 -> 0.780\n",
      "   9 -> 0.719 -> 0.781\n",
      "  10 -> 0.707 -> 0.772\n",
      "  15 -> 0.661 -> 0.730\n",
      "  20 -> 0.634 -> 0.706\n",
      "None -> 0.618 -> 0.685\n"
     ]
    }
   ],
   "source": [
    "depths = [1, 2, 3, 4, 5, 6,7,8,9,10, 15, 20, None]\n",
    "\n",
    "for depth in depths: \n",
    "    dt = DecisionTreeClassifier(max_depth=depth)\n",
    "    dt.fit(X_train, y_train)\n",
    "    \n",
    "    y_pred = dt.predict_proba(X_val)[:, 1]\n",
    "    auc = roc_auc_score(y_val, y_pred)\n",
    "    score = dt.score(X_val, y_val)\n",
    "    print('%4s -> %.3f -> %.3f' % (depth, auc,score))\n",
    "    \n",
    "# best depth is 3,4,5,2"
   ]
  },
  {
   "cell_type": "markdown",
   "id": "5675b572-e5a4-453e-9f3e-d175b4549e6d",
   "metadata": {},
   "source": [
    "- selecting depth and min samples leaf"
   ]
  },
  {
   "cell_type": "code",
   "execution_count": 4053,
   "id": "cb3c455c-7098-467d-b03e-ab9c4711e610",
   "metadata": {},
   "outputs": [],
   "source": [
    "scores = []\n",
    "for depth in [2,3, 4,5]:\n",
    "    for s in range(1,110):\n",
    "        dt = DecisionTreeClassifier(max_depth=depth, min_samples_leaf=s)\n",
    "        dt.fit(X_train, y_train)\n",
    "\n",
    "        y_pred = dt.predict_proba(X_val)[:, 1]\n",
    "        y_pred2 = dt.predict(X_val)\n",
    "        auc=roc_auc_score(y_val, y_pred)\n",
    "        acc = accuracy_score(y_val, y_pred2 )\n",
    "        prec = precision_score(y_val, y_pred2)\n",
    "        rec = recall_score(y_val, y_pred2)\n",
    "        f1 = f1_score(y_val, y_pred2)\n",
    "        \n",
    "        scores.append((depth, s, model_name,auc,acc,prec,rec,f1))"
   ]
  },
  {
   "cell_type": "code",
   "execution_count": 4054,
   "id": "d23b3577-daf0-4fa9-9d7e-9f8dc727100e",
   "metadata": {},
   "outputs": [],
   "source": [
    "columns = ['max_depth', 'min_samples_leaf','model_name', 'auc','accuracy','prec','rec','f1']\n",
    "df_scores = pd.DataFrame(scores, columns=columns)"
   ]
  },
  {
   "cell_type": "code",
   "execution_count": 4055,
   "id": "acaef611-4140-4cfd-8be9-2bf0a323e98e",
   "metadata": {
    "tags": []
   },
   "outputs": [
    {
     "data": {
      "text/html": [
       "<div>\n",
       "<style scoped>\n",
       "    .dataframe tbody tr th:only-of-type {\n",
       "        vertical-align: middle;\n",
       "    }\n",
       "\n",
       "    .dataframe tbody tr th {\n",
       "        vertical-align: top;\n",
       "    }\n",
       "\n",
       "    .dataframe thead th {\n",
       "        text-align: right;\n",
       "    }\n",
       "</style>\n",
       "<table border=\"1\" class=\"dataframe\">\n",
       "  <thead>\n",
       "    <tr style=\"text-align: right;\">\n",
       "      <th></th>\n",
       "      <th>max_depth</th>\n",
       "      <th>min_samples_leaf</th>\n",
       "      <th>model_name</th>\n",
       "      <th>auc</th>\n",
       "      <th>accuracy</th>\n",
       "      <th>prec</th>\n",
       "      <th>rec</th>\n",
       "      <th>f1</th>\n",
       "    </tr>\n",
       "  </thead>\n",
       "  <tbody>\n",
       "    <tr>\n",
       "      <th>268</th>\n",
       "      <td>4</td>\n",
       "      <td>51</td>\n",
       "      <td>Logistic Regression</td>\n",
       "      <td>0.766127</td>\n",
       "      <td>0.797848</td>\n",
       "      <td>0.695082</td>\n",
       "      <td>0.445378</td>\n",
       "      <td>0.542894</td>\n",
       "    </tr>\n",
       "    <tr>\n",
       "      <th>254</th>\n",
       "      <td>4</td>\n",
       "      <td>37</td>\n",
       "      <td>Logistic Regression</td>\n",
       "      <td>0.765712</td>\n",
       "      <td>0.796149</td>\n",
       "      <td>0.687097</td>\n",
       "      <td>0.447479</td>\n",
       "      <td>0.541985</td>\n",
       "    </tr>\n",
       "    <tr>\n",
       "      <th>267</th>\n",
       "      <td>4</td>\n",
       "      <td>50</td>\n",
       "      <td>Logistic Regression</td>\n",
       "      <td>0.765698</td>\n",
       "      <td>0.797848</td>\n",
       "      <td>0.695082</td>\n",
       "      <td>0.445378</td>\n",
       "      <td>0.542894</td>\n",
       "    </tr>\n",
       "    <tr>\n",
       "      <th>266</th>\n",
       "      <td>4</td>\n",
       "      <td>49</td>\n",
       "      <td>Logistic Regression</td>\n",
       "      <td>0.765698</td>\n",
       "      <td>0.797848</td>\n",
       "      <td>0.695082</td>\n",
       "      <td>0.445378</td>\n",
       "      <td>0.542894</td>\n",
       "    </tr>\n",
       "    <tr>\n",
       "      <th>253</th>\n",
       "      <td>4</td>\n",
       "      <td>36</td>\n",
       "      <td>Logistic Regression</td>\n",
       "      <td>0.765640</td>\n",
       "      <td>0.797848</td>\n",
       "      <td>0.691318</td>\n",
       "      <td>0.451681</td>\n",
       "      <td>0.546379</td>\n",
       "    </tr>\n",
       "    <tr>\n",
       "      <th>251</th>\n",
       "      <td>4</td>\n",
       "      <td>34</td>\n",
       "      <td>Logistic Regression</td>\n",
       "      <td>0.765609</td>\n",
       "      <td>0.797848</td>\n",
       "      <td>0.691318</td>\n",
       "      <td>0.451681</td>\n",
       "      <td>0.546379</td>\n",
       "    </tr>\n",
       "    <tr>\n",
       "      <th>252</th>\n",
       "      <td>4</td>\n",
       "      <td>35</td>\n",
       "      <td>Logistic Regression</td>\n",
       "      <td>0.765609</td>\n",
       "      <td>0.797848</td>\n",
       "      <td>0.691318</td>\n",
       "      <td>0.451681</td>\n",
       "      <td>0.546379</td>\n",
       "    </tr>\n",
       "  </tbody>\n",
       "</table>\n",
       "</div>"
      ],
      "text/plain": [
       "     max_depth  min_samples_leaf           model_name       auc  accuracy  \\\n",
       "268          4                51  Logistic Regression  0.766127  0.797848   \n",
       "254          4                37  Logistic Regression  0.765712  0.796149   \n",
       "267          4                50  Logistic Regression  0.765698  0.797848   \n",
       "266          4                49  Logistic Regression  0.765698  0.797848   \n",
       "253          4                36  Logistic Regression  0.765640  0.797848   \n",
       "251          4                34  Logistic Regression  0.765609  0.797848   \n",
       "252          4                35  Logistic Regression  0.765609  0.797848   \n",
       "\n",
       "         prec       rec        f1  \n",
       "268  0.695082  0.445378  0.542894  \n",
       "254  0.687097  0.447479  0.541985  \n",
       "267  0.695082  0.445378  0.542894  \n",
       "266  0.695082  0.445378  0.542894  \n",
       "253  0.691318  0.451681  0.546379  \n",
       "251  0.691318  0.451681  0.546379  \n",
       "252  0.691318  0.451681  0.546379  "
      ]
     },
     "execution_count": 4055,
     "metadata": {},
     "output_type": "execute_result"
    }
   ],
   "source": [
    "df_scores.sort_values('auc',ascending=False).head(7)"
   ]
  },
  {
   "cell_type": "code",
   "execution_count": 4056,
   "id": "1abbe545-a89b-4363-b1f7-e7c84352a548",
   "metadata": {},
   "outputs": [
    {
     "data": {
      "text/plain": [
       "<matplotlib.legend.Legend at 0x29d10abed30>"
      ]
     },
     "execution_count": 4056,
     "metadata": {},
     "output_type": "execute_result"
    },
    {
     "data": {
      "image/png": "[encoded data removed]",
      "text/plain": [
       "<Figure size 432x288 with 1 Axes>"
      ]
     },
     "metadata": {
      "needs_background": "light"
     },
     "output_type": "display_data"
    }
   ],
   "source": [
    "for d in [2,3, 4,5]:\n",
    "    df_subset = df_scores[df_scores.max_depth == d]\n",
    "    \n",
    "    plt.plot(df_subset.min_samples_leaf, df_subset.auc,label =d)\n",
    "\n",
    "plt.legend()"
   ]
  },
  {
   "cell_type": "markdown",
   "id": "53583575-5c57-4050-adee-772dcf921c36",
   "metadata": {},
   "source": [
    "- i will chose the best max_depth=4, min_samples_leaf=51"
   ]
  },
  {
   "cell_type": "code",
   "execution_count": 4057,
   "id": "5e347ec7-a400-4196-81ab-85aa8abe1ec8",
   "metadata": {},
   "outputs": [],
   "source": [
    "models.append(tuple(df_scores.loc[268,'model_name':]))"
   ]
  },
  {
   "cell_type": "markdown",
   "id": "42d506d5-431c-499b-89a8-3001431bda92",
   "metadata": {
    "tags": []
   },
   "source": [
    "### Random Forest "
   ]
  },
  {
   "cell_type": "code",
   "execution_count": 4058,
   "id": "2429e830-9726-447a-9135-02e1e2eb4042",
   "metadata": {},
   "outputs": [],
   "source": [
    "rf =  RandomForestClassifier(random_state=53)"
   ]
  },
  {
   "cell_type": "code",
   "execution_count": 4059,
   "id": "53e3783b-06ec-4ed6-bb05-e1b2e098789e",
   "metadata": {},
   "outputs": [
    {
     "data": {
      "text/plain": [
       "RandomForestClassifier(random_state=53)"
      ]
     },
     "execution_count": 4059,
     "metadata": {},
     "output_type": "execute_result"
    }
   ],
   "source": [
    "rf.fit(X_train, y_train)"
   ]
  },
  {
   "cell_type": "code",
   "execution_count": 4060,
   "id": "9562b275-1fde-4beb-a90b-bb98a83f7bff",
   "metadata": {},
   "outputs": [
    {
     "data": {
      "text/plain": [
       "0.7876557191392979"
      ]
     },
     "execution_count": 4060,
     "metadata": {},
     "output_type": "execute_result"
    }
   ],
   "source": [
    "rf.score(X_val, y_val)"
   ]
  },
  {
   "cell_type": "code",
   "execution_count": 4061,
   "id": "b9668314-bf85-4c23-b70a-67ba602ab6fa",
   "metadata": {},
   "outputs": [],
   "source": [
    "y_pred = rf.predict_proba(X_val)[:,1]"
   ]
  },
  {
   "cell_type": "code",
   "execution_count": 4062,
   "id": "5ddb605b-bf56-42f9-81ad-b87a544623f1",
   "metadata": {},
   "outputs": [
    {
     "data": {
      "text/plain": [
       "0.7628143117712202"
      ]
     },
     "execution_count": 4062,
     "metadata": {},
     "output_type": "execute_result"
    }
   ],
   "source": [
    "roc_auc_score(y_val,y_pred)"
   ]
  },
  {
   "cell_type": "markdown",
   "id": "722704cc-6b65-4e4e-b354-1657e2451709",
   "metadata": {
    "tags": []
   },
   "source": [
    "#### Random Forest  Tuning"
   ]
  },
  {
   "cell_type": "markdown",
   "id": "886bd6ff-f9d6-4b32-aee6-506fa0a7ff78",
   "metadata": {},
   "source": [
    "- Looking for best depths"
   ]
  },
  {
   "cell_type": "code",
   "execution_count": 4063,
   "id": "a4419940-cd1e-4aab-a1d1-7fed0c985a3d",
   "metadata": {},
   "outputs": [
    {
     "name": "stdout",
     "output_type": "stream",
     "text": [
      "   1 -> 0.715 -> 0.799\n",
      "   2 -> 0.773 -> 0.802\n",
      "   3 -> 0.776 -> 0.801\n",
      "   4 -> 0.776 -> 0.801\n",
      "   5 -> 0.776 -> 0.802\n",
      "   6 -> 0.777 -> 0.802\n",
      "   7 -> 0.779 -> 0.800\n",
      "   8 -> 0.776 -> 0.798\n",
      "   9 -> 0.774 -> 0.801\n",
      "  10 -> 0.773 -> 0.799\n",
      "  15 -> 0.772 -> 0.800\n",
      "  20 -> 0.771 -> 0.797\n",
      "None -> 0.763 -> 0.788\n"
     ]
    }
   ],
   "source": [
    "depths = [1, 2, 3, 4, 5, 6,7,8,9,10, 15, 20, None]\n",
    "\n",
    "for depth in depths: \n",
    "    rf = RandomForestClassifier(max_depth= depth, random_state=53)\n",
    "    rf.fit(X_train, y_train)\n",
    "    \n",
    "    y_pred = rf.predict_proba(X_val)[:, 1]\n",
    "    y_pred2 = rf.predict(X_val)\n",
    "    auc = roc_auc_score(y_val, y_pred)\n",
    "    score = rf.score(X_val, y_val)\n",
    "    print('%4s -> %.3f -> %.3f' % (depth, auc,score))\n",
    "    \n",
    "# best depth is 7, 6, 5 ,3"
   ]
  },
  {
   "cell_type": "markdown",
   "id": "ad83d6c2-d16a-44f3-a1dc-1a2a53591560",
   "metadata": {},
   "source": [
    "- Looking for best depths and n estimators"
   ]
  },
  {
   "cell_type": "code",
   "execution_count": 4064,
   "id": "871ebe9e",
   "metadata": {},
   "outputs": [],
   "source": [
    "scores = []\n",
    "n_estimators = list(range(1,20)) + [20,25,30,35,40,45,50,60,70,90,100]\n",
    "for d in [7, 6, 5, 4,3,None]:\n",
    "    for n in n_estimators:\n",
    "        model_name = 'Random Forest'\n",
    "        rf = RandomForestClassifier(n_estimators=n,\n",
    "                                    max_depth=d,\n",
    "                                    random_state=53)\n",
    "        rf.fit(X_train, y_train)\n",
    "        \n",
    "        y_pred = rf.predict_proba(X_val)[:, 1]\n",
    "        y_pred2 = rf.predict(X_val)\n",
    "        auc=roc_auc_score(y_val, y_pred)\n",
    "        acc = accuracy_score(y_val, y_pred2 )\n",
    "        prec = precision_score(y_val, y_pred2)\n",
    "        rec = recall_score(y_val, y_pred2)\n",
    "        f1 = f1_score(y_val, y_pred2)\n",
    "        \n",
    "        scores.append((str(d), n, model_name,auc,acc,prec,rec,f1))"
   ]
  },
  {
   "cell_type": "code",
   "execution_count": 4065,
   "id": "96f07149",
   "metadata": {},
   "outputs": [],
   "source": [
    "columns = ['max_depth', 'n_estimators', 'model_name', 'auc','accuracy','prec','rec','f1']\n",
    "df_scores = pd.DataFrame(scores, columns=columns)"
   ]
  },
  {
   "cell_type": "code",
   "execution_count": 4066,
   "id": "d86c8136-8d9a-40db-844a-75c969281d6a",
   "metadata": {
    "tags": []
   },
   "outputs": [
    {
     "data": {
      "text/html": [
       "<div>\n",
       "<style scoped>\n",
       "    .dataframe tbody tr th:only-of-type {\n",
       "        vertical-align: middle;\n",
       "    }\n",
       "\n",
       "    .dataframe tbody tr th {\n",
       "        vertical-align: top;\n",
       "    }\n",
       "\n",
       "    .dataframe thead th {\n",
       "        text-align: right;\n",
       "    }\n",
       "</style>\n",
       "<table border=\"1\" class=\"dataframe\">\n",
       "  <thead>\n",
       "    <tr style=\"text-align: right;\">\n",
       "      <th></th>\n",
       "      <th>max_depth</th>\n",
       "      <th>n_estimators</th>\n",
       "      <th>model_name</th>\n",
       "      <th>auc</th>\n",
       "      <th>accuracy</th>\n",
       "      <th>prec</th>\n",
       "      <th>rec</th>\n",
       "      <th>f1</th>\n",
       "    </tr>\n",
       "  </thead>\n",
       "  <tbody>\n",
       "    <tr>\n",
       "      <th>26</th>\n",
       "      <td>7</td>\n",
       "      <td>60</td>\n",
       "      <td>Random Forest</td>\n",
       "      <td>0.779432</td>\n",
       "      <td>0.800113</td>\n",
       "      <td>0.694006</td>\n",
       "      <td>0.462185</td>\n",
       "      <td>0.554855</td>\n",
       "    </tr>\n",
       "    <tr>\n",
       "      <th>28</th>\n",
       "      <td>7</td>\n",
       "      <td>90</td>\n",
       "      <td>Random Forest</td>\n",
       "      <td>0.779277</td>\n",
       "      <td>0.800113</td>\n",
       "      <td>0.696486</td>\n",
       "      <td>0.457983</td>\n",
       "      <td>0.552598</td>\n",
       "    </tr>\n",
       "    <tr>\n",
       "      <th>27</th>\n",
       "      <td>7</td>\n",
       "      <td>70</td>\n",
       "      <td>Random Forest</td>\n",
       "      <td>0.779246</td>\n",
       "      <td>0.801812</td>\n",
       "      <td>0.699367</td>\n",
       "      <td>0.464286</td>\n",
       "      <td>0.558081</td>\n",
       "    </tr>\n",
       "    <tr>\n",
       "      <th>25</th>\n",
       "      <td>7</td>\n",
       "      <td>50</td>\n",
       "      <td>Random Forest</td>\n",
       "      <td>0.778664</td>\n",
       "      <td>0.800113</td>\n",
       "      <td>0.694006</td>\n",
       "      <td>0.462185</td>\n",
       "      <td>0.554855</td>\n",
       "    </tr>\n",
       "    <tr>\n",
       "      <th>29</th>\n",
       "      <td>7</td>\n",
       "      <td>100</td>\n",
       "      <td>Random Forest</td>\n",
       "      <td>0.778646</td>\n",
       "      <td>0.800113</td>\n",
       "      <td>0.696486</td>\n",
       "      <td>0.457983</td>\n",
       "      <td>0.552598</td>\n",
       "    </tr>\n",
       "    <tr>\n",
       "      <th>24</th>\n",
       "      <td>7</td>\n",
       "      <td>45</td>\n",
       "      <td>Random Forest</td>\n",
       "      <td>0.778037</td>\n",
       "      <td>0.802945</td>\n",
       "      <td>0.700000</td>\n",
       "      <td>0.470588</td>\n",
       "      <td>0.562814</td>\n",
       "    </tr>\n",
       "    <tr>\n",
       "      <th>20</th>\n",
       "      <td>7</td>\n",
       "      <td>25</td>\n",
       "      <td>Random Forest</td>\n",
       "      <td>0.777766</td>\n",
       "      <td>0.804643</td>\n",
       "      <td>0.705329</td>\n",
       "      <td>0.472689</td>\n",
       "      <td>0.566038</td>\n",
       "    </tr>\n",
       "    <tr>\n",
       "      <th>86</th>\n",
       "      <td>5</td>\n",
       "      <td>60</td>\n",
       "      <td>Random Forest</td>\n",
       "      <td>0.777732</td>\n",
       "      <td>0.802378</td>\n",
       "      <td>0.702875</td>\n",
       "      <td>0.462185</td>\n",
       "      <td>0.557668</td>\n",
       "    </tr>\n",
       "    <tr>\n",
       "      <th>87</th>\n",
       "      <td>5</td>\n",
       "      <td>70</td>\n",
       "      <td>Random Forest</td>\n",
       "      <td>0.777279</td>\n",
       "      <td>0.801812</td>\n",
       "      <td>0.700637</td>\n",
       "      <td>0.462185</td>\n",
       "      <td>0.556962</td>\n",
       "    </tr>\n",
       "    <tr>\n",
       "      <th>17</th>\n",
       "      <td>7</td>\n",
       "      <td>18</td>\n",
       "      <td>Random Forest</td>\n",
       "      <td>0.777199</td>\n",
       "      <td>0.804077</td>\n",
       "      <td>0.708333</td>\n",
       "      <td>0.464286</td>\n",
       "      <td>0.560914</td>\n",
       "    </tr>\n",
       "  </tbody>\n",
       "</table>\n",
       "</div>"
      ],
      "text/plain": [
       "   max_depth  n_estimators     model_name       auc  accuracy      prec  \\\n",
       "26         7            60  Random Forest  0.779432  0.800113  0.694006   \n",
       "28         7            90  Random Forest  0.779277  0.800113  0.696486   \n",
       "27         7            70  Random Forest  0.779246  0.801812  0.699367   \n",
       "25         7            50  Random Forest  0.778664  0.800113  0.694006   \n",
       "29         7           100  Random Forest  0.778646  0.800113  0.696486   \n",
       "24         7            45  Random Forest  0.778037  0.802945  0.700000   \n",
       "20         7            25  Random Forest  0.777766  0.804643  0.705329   \n",
       "86         5            60  Random Forest  0.777732  0.802378  0.702875   \n",
       "87         5            70  Random Forest  0.777279  0.801812  0.700637   \n",
       "17         7            18  Random Forest  0.777199  0.804077  0.708333   \n",
       "\n",
       "         rec        f1  \n",
       "26  0.462185  0.554855  \n",
       "28  0.457983  0.552598  \n",
       "27  0.464286  0.558081  \n",
       "25  0.462185  0.554855  \n",
       "29  0.457983  0.552598  \n",
       "24  0.470588  0.562814  \n",
       "20  0.472689  0.566038  \n",
       "86  0.462185  0.557668  \n",
       "87  0.462185  0.556962  \n",
       "17  0.464286  0.560914  "
      ]
     },
     "execution_count": 4066,
     "metadata": {},
     "output_type": "execute_result"
    }
   ],
   "source": [
    "df_scores.sort_values('auc',ascending=False).head(10)"
   ]
  },
  {
   "cell_type": "code",
   "execution_count": 4067,
   "id": "e4e839b8",
   "metadata": {},
   "outputs": [
    {
     "data": {
      "text/plain": [
       "<matplotlib.legend.Legend at 0x29d01340bb0>"
      ]
     },
     "execution_count": 4067,
     "metadata": {},
     "output_type": "execute_result"
    },
    {
     "data": {
      "image/png": "[encoded data removed]",
      "text/plain": [
       "<Figure size 432x288 with 1 Axes>"
      ]
     },
     "metadata": {
      "needs_background": "light"
     },
     "output_type": "display_data"
    }
   ],
   "source": [
    "for d in [7, 5,3]:\n",
    "    df_subset = df_scores[df_scores.max_depth == str(d)]\n",
    "    \n",
    "    plt.plot(df_subset.n_estimators, df_subset.auc,label =d)\n",
    "\n",
    "\n",
    "plt.ylim([0.75, 0.78])\n",
    "\n",
    "plt.legend()\n"
   ]
  },
  {
   "cell_type": "code",
   "execution_count": 4068,
   "id": "c4735398-3376-4080-9aae-a2cc558c5512",
   "metadata": {},
   "outputs": [
    {
     "data": {
      "text/html": [
       "<div>\n",
       "<style scoped>\n",
       "    .dataframe tbody tr th:only-of-type {\n",
       "        vertical-align: middle;\n",
       "    }\n",
       "\n",
       "    .dataframe tbody tr th {\n",
       "        vertical-align: top;\n",
       "    }\n",
       "\n",
       "    .dataframe thead th {\n",
       "        text-align: right;\n",
       "    }\n",
       "</style>\n",
       "<table border=\"1\" class=\"dataframe\">\n",
       "  <thead>\n",
       "    <tr style=\"text-align: right;\">\n",
       "      <th></th>\n",
       "      <th>max_depth</th>\n",
       "      <th>n_estimators</th>\n",
       "      <th>model_name</th>\n",
       "      <th>auc</th>\n",
       "      <th>accuracy</th>\n",
       "      <th>prec</th>\n",
       "      <th>rec</th>\n",
       "      <th>f1</th>\n",
       "    </tr>\n",
       "  </thead>\n",
       "  <tbody>\n",
       "    <tr>\n",
       "      <th>15</th>\n",
       "      <td>7</td>\n",
       "      <td>16</td>\n",
       "      <td>Random Forest</td>\n",
       "      <td>0.775996</td>\n",
       "      <td>0.805210</td>\n",
       "      <td>0.707547</td>\n",
       "      <td>0.472689</td>\n",
       "      <td>0.566751</td>\n",
       "    </tr>\n",
       "    <tr>\n",
       "      <th>16</th>\n",
       "      <td>7</td>\n",
       "      <td>17</td>\n",
       "      <td>Random Forest</td>\n",
       "      <td>0.776793</td>\n",
       "      <td>0.805210</td>\n",
       "      <td>0.708861</td>\n",
       "      <td>0.470588</td>\n",
       "      <td>0.565657</td>\n",
       "    </tr>\n",
       "    <tr>\n",
       "      <th>17</th>\n",
       "      <td>7</td>\n",
       "      <td>18</td>\n",
       "      <td>Random Forest</td>\n",
       "      <td>0.777199</td>\n",
       "      <td>0.804077</td>\n",
       "      <td>0.708333</td>\n",
       "      <td>0.464286</td>\n",
       "      <td>0.560914</td>\n",
       "    </tr>\n",
       "    <tr>\n",
       "      <th>18</th>\n",
       "      <td>7</td>\n",
       "      <td>19</td>\n",
       "      <td>Random Forest</td>\n",
       "      <td>0.776340</td>\n",
       "      <td>0.804643</td>\n",
       "      <td>0.707937</td>\n",
       "      <td>0.468487</td>\n",
       "      <td>0.563843</td>\n",
       "    </tr>\n",
       "    <tr>\n",
       "      <th>19</th>\n",
       "      <td>7</td>\n",
       "      <td>20</td>\n",
       "      <td>Random Forest</td>\n",
       "      <td>0.776803</td>\n",
       "      <td>0.804077</td>\n",
       "      <td>0.704403</td>\n",
       "      <td>0.470588</td>\n",
       "      <td>0.564232</td>\n",
       "    </tr>\n",
       "    <tr>\n",
       "      <th>20</th>\n",
       "      <td>7</td>\n",
       "      <td>25</td>\n",
       "      <td>Random Forest</td>\n",
       "      <td>0.777766</td>\n",
       "      <td>0.804643</td>\n",
       "      <td>0.705329</td>\n",
       "      <td>0.472689</td>\n",
       "      <td>0.566038</td>\n",
       "    </tr>\n",
       "    <tr>\n",
       "      <th>21</th>\n",
       "      <td>7</td>\n",
       "      <td>30</td>\n",
       "      <td>Random Forest</td>\n",
       "      <td>0.777085</td>\n",
       "      <td>0.801246</td>\n",
       "      <td>0.698413</td>\n",
       "      <td>0.462185</td>\n",
       "      <td>0.556258</td>\n",
       "    </tr>\n",
       "    <tr>\n",
       "      <th>22</th>\n",
       "      <td>7</td>\n",
       "      <td>35</td>\n",
       "      <td>Random Forest</td>\n",
       "      <td>0.777072</td>\n",
       "      <td>0.801246</td>\n",
       "      <td>0.697161</td>\n",
       "      <td>0.464286</td>\n",
       "      <td>0.557377</td>\n",
       "    </tr>\n",
       "    <tr>\n",
       "      <th>23</th>\n",
       "      <td>7</td>\n",
       "      <td>40</td>\n",
       "      <td>Random Forest</td>\n",
       "      <td>0.777069</td>\n",
       "      <td>0.804077</td>\n",
       "      <td>0.703125</td>\n",
       "      <td>0.472689</td>\n",
       "      <td>0.565327</td>\n",
       "    </tr>\n",
       "    <tr>\n",
       "      <th>24</th>\n",
       "      <td>7</td>\n",
       "      <td>45</td>\n",
       "      <td>Random Forest</td>\n",
       "      <td>0.778037</td>\n",
       "      <td>0.802945</td>\n",
       "      <td>0.700000</td>\n",
       "      <td>0.470588</td>\n",
       "      <td>0.562814</td>\n",
       "    </tr>\n",
       "    <tr>\n",
       "      <th>25</th>\n",
       "      <td>7</td>\n",
       "      <td>50</td>\n",
       "      <td>Random Forest</td>\n",
       "      <td>0.778664</td>\n",
       "      <td>0.800113</td>\n",
       "      <td>0.694006</td>\n",
       "      <td>0.462185</td>\n",
       "      <td>0.554855</td>\n",
       "    </tr>\n",
       "    <tr>\n",
       "      <th>26</th>\n",
       "      <td>7</td>\n",
       "      <td>60</td>\n",
       "      <td>Random Forest</td>\n",
       "      <td>0.779432</td>\n",
       "      <td>0.800113</td>\n",
       "      <td>0.694006</td>\n",
       "      <td>0.462185</td>\n",
       "      <td>0.554855</td>\n",
       "    </tr>\n",
       "    <tr>\n",
       "      <th>27</th>\n",
       "      <td>7</td>\n",
       "      <td>70</td>\n",
       "      <td>Random Forest</td>\n",
       "      <td>0.779246</td>\n",
       "      <td>0.801812</td>\n",
       "      <td>0.699367</td>\n",
       "      <td>0.464286</td>\n",
       "      <td>0.558081</td>\n",
       "    </tr>\n",
       "    <tr>\n",
       "      <th>28</th>\n",
       "      <td>7</td>\n",
       "      <td>90</td>\n",
       "      <td>Random Forest</td>\n",
       "      <td>0.779277</td>\n",
       "      <td>0.800113</td>\n",
       "      <td>0.696486</td>\n",
       "      <td>0.457983</td>\n",
       "      <td>0.552598</td>\n",
       "    </tr>\n",
       "  </tbody>\n",
       "</table>\n",
       "</div>"
      ],
      "text/plain": [
       "   max_depth  n_estimators     model_name       auc  accuracy      prec  \\\n",
       "15         7            16  Random Forest  0.775996  0.805210  0.707547   \n",
       "16         7            17  Random Forest  0.776793  0.805210  0.708861   \n",
       "17         7            18  Random Forest  0.777199  0.804077  0.708333   \n",
       "18         7            19  Random Forest  0.776340  0.804643  0.707937   \n",
       "19         7            20  Random Forest  0.776803  0.804077  0.704403   \n",
       "20         7            25  Random Forest  0.777766  0.804643  0.705329   \n",
       "21         7            30  Random Forest  0.777085  0.801246  0.698413   \n",
       "22         7            35  Random Forest  0.777072  0.801246  0.697161   \n",
       "23         7            40  Random Forest  0.777069  0.804077  0.703125   \n",
       "24         7            45  Random Forest  0.778037  0.802945  0.700000   \n",
       "25         7            50  Random Forest  0.778664  0.800113  0.694006   \n",
       "26         7            60  Random Forest  0.779432  0.800113  0.694006   \n",
       "27         7            70  Random Forest  0.779246  0.801812  0.699367   \n",
       "28         7            90  Random Forest  0.779277  0.800113  0.696486   \n",
       "\n",
       "         rec        f1  \n",
       "15  0.472689  0.566751  \n",
       "16  0.470588  0.565657  \n",
       "17  0.464286  0.560914  \n",
       "18  0.468487  0.563843  \n",
       "19  0.470588  0.564232  \n",
       "20  0.472689  0.566038  \n",
       "21  0.462185  0.556258  \n",
       "22  0.464286  0.557377  \n",
       "23  0.472689  0.565327  \n",
       "24  0.470588  0.562814  \n",
       "25  0.462185  0.554855  \n",
       "26  0.462185  0.554855  \n",
       "27  0.464286  0.558081  \n",
       "28  0.457983  0.552598  "
      ]
     },
     "execution_count": 4068,
     "metadata": {},
     "output_type": "execute_result"
    }
   ],
   "source": [
    "df_scores.loc[15:28,]"
   ]
  },
  {
   "cell_type": "markdown",
   "id": "897da70a-104c-4d6f-94f4-f9fbe6b8d6fb",
   "metadata": {},
   "source": [
    "- i will chose the best max_depth=7, n_estimators=25"
   ]
  },
  {
   "cell_type": "code",
   "execution_count": 4069,
   "id": "30a4387e-ae5f-49c4-b481-588dc35ec2e1",
   "metadata": {},
   "outputs": [],
   "source": [
    "models.append(tuple(df_scores.loc[20,'model_name':]))"
   ]
  },
  {
   "cell_type": "markdown",
   "id": "798cf328-0c47-41f2-9a70-f3593bcfd8fe",
   "metadata": {},
   "source": [
    "## Selecting the best model"
   ]
  },
  {
   "cell_type": "code",
   "execution_count": 4070,
   "id": "d6b2411e-7418-4bfd-b29d-f7c9a528a231",
   "metadata": {},
   "outputs": [],
   "source": [
    "columns = ['model_name', 'auc','accuracy','prec','rec','f1']\n",
    "df_models = pd.DataFrame(models, columns=columns)"
   ]
  },
  {
   "cell_type": "code",
   "execution_count": 4071,
   "id": "676dcfe6-5aae-4668-ae16-0264c05fc206",
   "metadata": {},
   "outputs": [
    {
     "data": {
      "text/html": [
       "<div>\n",
       "<style scoped>\n",
       "    .dataframe tbody tr th:only-of-type {\n",
       "        vertical-align: middle;\n",
       "    }\n",
       "\n",
       "    .dataframe tbody tr th {\n",
       "        vertical-align: top;\n",
       "    }\n",
       "\n",
       "    .dataframe thead th {\n",
       "        text-align: right;\n",
       "    }\n",
       "</style>\n",
       "<table border=\"1\" class=\"dataframe\">\n",
       "  <thead>\n",
       "    <tr style=\"text-align: right;\">\n",
       "      <th></th>\n",
       "      <th>model_name</th>\n",
       "      <th>auc</th>\n",
       "      <th>accuracy</th>\n",
       "      <th>prec</th>\n",
       "      <th>rec</th>\n",
       "      <th>f1</th>\n",
       "    </tr>\n",
       "  </thead>\n",
       "  <tbody>\n",
       "    <tr>\n",
       "      <th>0</th>\n",
       "      <td>Logistic Regression</td>\n",
       "      <td>0.720048</td>\n",
       "      <td>0.764439</td>\n",
       "      <td>0.638889</td>\n",
       "      <td>0.289916</td>\n",
       "      <td>0.398844</td>\n",
       "    </tr>\n",
       "    <tr>\n",
       "      <th>1</th>\n",
       "      <td>Logistic Regression</td>\n",
       "      <td>0.766127</td>\n",
       "      <td>0.797848</td>\n",
       "      <td>0.695082</td>\n",
       "      <td>0.445378</td>\n",
       "      <td>0.542894</td>\n",
       "    </tr>\n",
       "    <tr>\n",
       "      <th>2</th>\n",
       "      <td>Random Forest</td>\n",
       "      <td>0.777766</td>\n",
       "      <td>0.804643</td>\n",
       "      <td>0.705329</td>\n",
       "      <td>0.472689</td>\n",
       "      <td>0.566038</td>\n",
       "    </tr>\n",
       "  </tbody>\n",
       "</table>\n",
       "</div>"
      ],
      "text/plain": [
       "            model_name       auc  accuracy      prec       rec        f1\n",
       "0  Logistic Regression  0.720048  0.764439  0.638889  0.289916  0.398844\n",
       "1  Logistic Regression  0.766127  0.797848  0.695082  0.445378  0.542894\n",
       "2        Random Forest  0.777766  0.804643  0.705329  0.472689  0.566038"
      ]
     },
     "execution_count": 4071,
     "metadata": {},
     "output_type": "execute_result"
    }
   ],
   "source": [
    "df_models.head()"
   ]
  },
  {
   "cell_type": "markdown",
   "id": "2016ec75-f336-4a9d-bad3-c03148a1fa48",
   "metadata": {},
   "source": [
    "- when we look at the result Decision Tree and Random Forest are close \n",
    "- i will choose the Random Forest because it is better on auc score and accuracy\n",
    "- Random Forest values  max_depth=7, n_estimators=25"
   ]
  },
  {
   "cell_type": "code",
   "execution_count": null,
   "id": "9dc37655-3bb8-4123-a7b9-229687dca57e",
   "metadata": {},
   "outputs": [],
   "source": []
  },
  {
   "cell_type": "code",
   "execution_count": null,
   "id": "bff45493-54cc-4552-bdcc-09e90be6f2a0",
   "metadata": {},
   "outputs": [],
   "source": []
  }
 ],
 "metadata": {
  "kernelspec": {
   "display_name": "Python 3 (ipykernel)",
   "language": "python",
   "name": "python3"
  },
  "language_info": {
   "codemirror_mode": {
    "name": "ipython",
    "version": 3
   },
   "file_extension": ".py",
   "mimetype": "text/x-python",
   "name": "python",
   "nbconvert_exporter": "python",
   "pygments_lexer": "ipython3",
   "version": "3.9.12"
  }
 },
 "nbformat": 4,
 "nbformat_minor": 5
}

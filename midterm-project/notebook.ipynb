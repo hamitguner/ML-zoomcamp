{
 "cells": [
  {
   "cell_type": "markdown",
   "id": "f286c576-5d92-4a6c-abde-6a0c2774ab83",
   "metadata": {
    "tags": []
   },
   "source": [
    "# Outline\n",
    "    Will be fixed later"
   ]
  },
  {
   "cell_type": "markdown",
   "id": "becd14a6-1d96-4972-91ae-0e68846a23f6",
   "metadata": {},
   "source": [
    "### Data Set Information:\n",
    "\n",
    "This research aimed at the case of customers default payments in Taiwan and compares the predictive accuracy of probability of default among six data mining methods. From the perspective of risk management, the result of predictive accuracy of the estimated probability of default will be more valuable than the binary result of classification - credible or not credible clients. Because the real probability of default is unknown, this study presented the novel â€œSorting Smoothing Method to estimate the real probability of default. With the real probability of default as the response variable (Y), and the predictive probability of default as the independent variable (X), the simple linear regression result (Y = A + BX) shows that the forecasting model produced by artificial neural network has the highest coefficient of determination; its regression intercept (A) is close to zero, and regression coefficient (B) to one. Therefore, among the six data mining techniques, artificial neural network is the only one that can accurately estimate the real probability of default."
   ]
  },
  {
   "cell_type": "markdown",
   "id": "2189743d-6a8f-49b1-9afa-45639e21937b",
   "metadata": {},
   "source": [
    "### Attribute Information:\n",
    "\n",
    "This research employed a binary variable, default payment (Yes = 1, No = 0), as the response variable. This study reviewed the literature and used the following 23 variables as explanatory variables:\n",
    "\n",
    "- Limit Balance: Amount of the given credit (NT dollar): it includes both the individual consumer credit and his/her family (supplementary) credit.\n",
    "- Sex: Gender (1 = male; 2 = female).\n",
    "- Education: Education (1 = graduate school; 2 = university; 3 = high school; 4 = others).\n",
    "- Mariage: Marital status (1 = married; 2 = single; 3 = others).\n",
    "- Age: Age (year).\n",
    "- X6 - X11: History of past payment. We tracked the past monthly payment records (from April to September, 2005) as follows: X6 = the repayment status in September, 2005;\n",
    "- X7 = the repayment status in August, 2005; . . .;\n",
    "- X11 = the repayment status in April, 2005. The measurement scale for the repayment status is: -1 = pay duly; 1 = payment delay for one month; 2 = payment delay for two months; . . .; 8 = payment delay for eight months; 9 = payment delay for nine months and above.\n",
    "- X12-X17: Amount of bill statement (NT dollar). \n",
    "- X12 = amount of bill statement in September, 2005; \n",
    "- X13 = amount of bill statement in August, 2005; . . .; \n",
    "- X17 = amount of bill statement in April, 2005.\n",
    "- X18-X23: Amount of previous payment (NT dollar). \n",
    "- X18 = amount paid in September, 2005; X19 = amount paid in August, 2005; . . .;\n",
    "- X23 = amount paid in April, 2005."
   ]
  },
  {
   "cell_type": "markdown",
   "id": "978d1bc6-1dc4-4152-86fa-8f771e7685c7",
   "metadata": {},
   "source": [
    "## Import Libaries"
   ]
  },
  {
   "cell_type": "code",
   "execution_count": 658,
   "id": "7bf6db2c-5edf-424c-80a8-451f331cb0fe",
   "metadata": {},
   "outputs": [],
   "source": [
    "import pandas as pd\n",
    "import numpy as np\n",
    "import matplotlib.pyplot as plt\n",
    "import seaborn as sns\n",
    "\n",
    "from sklearn.model_selection import train_test_split\n",
    "from sklearn.feature_extraction import DictVectorizer\n",
    "from sklearn.linear_model import LogisticRegression\n",
    "from sklearn.metrics import accuracy_score"
   ]
  },
  {
   "cell_type": "code",
   "execution_count": 659,
   "id": "c40fb6fc-d408-4b04-b4a8-c9594dba08c0",
   "metadata": {},
   "outputs": [],
   "source": [
    "df = pd.read_excel('default-of-credit-card-clients.xls', skiprows= 1)"
   ]
  },
  {
   "cell_type": "code",
   "execution_count": 660,
   "id": "54d7300a-5724-4bb1-8746-9a204466e501",
   "metadata": {},
   "outputs": [],
   "source": [
    "# a copy of original dataset\n",
    "df_copy = df.copy()"
   ]
  },
  {
   "cell_type": "code",
   "execution_count": 661,
   "id": "1433261f-0a4a-4a31-bca6-19e842e28ea1",
   "metadata": {},
   "outputs": [
    {
     "data": {
      "text/html": [
       "<div>\n",
       "<style scoped>\n",
       "    .dataframe tbody tr th:only-of-type {\n",
       "        vertical-align: middle;\n",
       "    }\n",
       "\n",
       "    .dataframe tbody tr th {\n",
       "        vertical-align: top;\n",
       "    }\n",
       "\n",
       "    .dataframe thead th {\n",
       "        text-align: right;\n",
       "    }\n",
       "</style>\n",
       "<table border=\"1\" class=\"dataframe\">\n",
       "  <thead>\n",
       "    <tr style=\"text-align: right;\">\n",
       "      <th></th>\n",
       "      <th>0</th>\n",
       "      <th>1</th>\n",
       "      <th>2</th>\n",
       "      <th>3</th>\n",
       "      <th>4</th>\n",
       "    </tr>\n",
       "  </thead>\n",
       "  <tbody>\n",
       "    <tr>\n",
       "      <th>ID</th>\n",
       "      <td>1</td>\n",
       "      <td>2</td>\n",
       "      <td>3</td>\n",
       "      <td>4</td>\n",
       "      <td>5</td>\n",
       "    </tr>\n",
       "    <tr>\n",
       "      <th>LIMIT_BAL</th>\n",
       "      <td>20000</td>\n",
       "      <td>120000</td>\n",
       "      <td>90000</td>\n",
       "      <td>50000</td>\n",
       "      <td>50000</td>\n",
       "    </tr>\n",
       "    <tr>\n",
       "      <th>SEX</th>\n",
       "      <td>2</td>\n",
       "      <td>2</td>\n",
       "      <td>2</td>\n",
       "      <td>2</td>\n",
       "      <td>1</td>\n",
       "    </tr>\n",
       "    <tr>\n",
       "      <th>EDUCATION</th>\n",
       "      <td>2</td>\n",
       "      <td>2</td>\n",
       "      <td>2</td>\n",
       "      <td>2</td>\n",
       "      <td>2</td>\n",
       "    </tr>\n",
       "    <tr>\n",
       "      <th>MARRIAGE</th>\n",
       "      <td>1</td>\n",
       "      <td>2</td>\n",
       "      <td>2</td>\n",
       "      <td>1</td>\n",
       "      <td>1</td>\n",
       "    </tr>\n",
       "    <tr>\n",
       "      <th>AGE</th>\n",
       "      <td>24</td>\n",
       "      <td>26</td>\n",
       "      <td>34</td>\n",
       "      <td>37</td>\n",
       "      <td>57</td>\n",
       "    </tr>\n",
       "    <tr>\n",
       "      <th>PAY_0</th>\n",
       "      <td>2</td>\n",
       "      <td>-1</td>\n",
       "      <td>0</td>\n",
       "      <td>0</td>\n",
       "      <td>-1</td>\n",
       "    </tr>\n",
       "    <tr>\n",
       "      <th>PAY_2</th>\n",
       "      <td>2</td>\n",
       "      <td>2</td>\n",
       "      <td>0</td>\n",
       "      <td>0</td>\n",
       "      <td>0</td>\n",
       "    </tr>\n",
       "    <tr>\n",
       "      <th>PAY_3</th>\n",
       "      <td>-1</td>\n",
       "      <td>0</td>\n",
       "      <td>0</td>\n",
       "      <td>0</td>\n",
       "      <td>-1</td>\n",
       "    </tr>\n",
       "    <tr>\n",
       "      <th>PAY_4</th>\n",
       "      <td>-1</td>\n",
       "      <td>0</td>\n",
       "      <td>0</td>\n",
       "      <td>0</td>\n",
       "      <td>0</td>\n",
       "    </tr>\n",
       "    <tr>\n",
       "      <th>PAY_5</th>\n",
       "      <td>-2</td>\n",
       "      <td>0</td>\n",
       "      <td>0</td>\n",
       "      <td>0</td>\n",
       "      <td>0</td>\n",
       "    </tr>\n",
       "    <tr>\n",
       "      <th>PAY_6</th>\n",
       "      <td>-2</td>\n",
       "      <td>2</td>\n",
       "      <td>0</td>\n",
       "      <td>0</td>\n",
       "      <td>0</td>\n",
       "    </tr>\n",
       "    <tr>\n",
       "      <th>BILL_AMT1</th>\n",
       "      <td>3913</td>\n",
       "      <td>2682</td>\n",
       "      <td>29239</td>\n",
       "      <td>46990</td>\n",
       "      <td>8617</td>\n",
       "    </tr>\n",
       "    <tr>\n",
       "      <th>BILL_AMT2</th>\n",
       "      <td>3102</td>\n",
       "      <td>1725</td>\n",
       "      <td>14027</td>\n",
       "      <td>48233</td>\n",
       "      <td>5670</td>\n",
       "    </tr>\n",
       "    <tr>\n",
       "      <th>BILL_AMT3</th>\n",
       "      <td>689</td>\n",
       "      <td>2682</td>\n",
       "      <td>13559</td>\n",
       "      <td>49291</td>\n",
       "      <td>35835</td>\n",
       "    </tr>\n",
       "    <tr>\n",
       "      <th>BILL_AMT4</th>\n",
       "      <td>0</td>\n",
       "      <td>3272</td>\n",
       "      <td>14331</td>\n",
       "      <td>28314</td>\n",
       "      <td>20940</td>\n",
       "    </tr>\n",
       "    <tr>\n",
       "      <th>BILL_AMT5</th>\n",
       "      <td>0</td>\n",
       "      <td>3455</td>\n",
       "      <td>14948</td>\n",
       "      <td>28959</td>\n",
       "      <td>19146</td>\n",
       "    </tr>\n",
       "    <tr>\n",
       "      <th>BILL_AMT6</th>\n",
       "      <td>0</td>\n",
       "      <td>3261</td>\n",
       "      <td>15549</td>\n",
       "      <td>29547</td>\n",
       "      <td>19131</td>\n",
       "    </tr>\n",
       "    <tr>\n",
       "      <th>PAY_AMT1</th>\n",
       "      <td>0</td>\n",
       "      <td>0</td>\n",
       "      <td>1518</td>\n",
       "      <td>2000</td>\n",
       "      <td>2000</td>\n",
       "    </tr>\n",
       "    <tr>\n",
       "      <th>PAY_AMT2</th>\n",
       "      <td>689</td>\n",
       "      <td>1000</td>\n",
       "      <td>1500</td>\n",
       "      <td>2019</td>\n",
       "      <td>36681</td>\n",
       "    </tr>\n",
       "    <tr>\n",
       "      <th>PAY_AMT3</th>\n",
       "      <td>0</td>\n",
       "      <td>1000</td>\n",
       "      <td>1000</td>\n",
       "      <td>1200</td>\n",
       "      <td>10000</td>\n",
       "    </tr>\n",
       "    <tr>\n",
       "      <th>PAY_AMT4</th>\n",
       "      <td>0</td>\n",
       "      <td>1000</td>\n",
       "      <td>1000</td>\n",
       "      <td>1100</td>\n",
       "      <td>9000</td>\n",
       "    </tr>\n",
       "    <tr>\n",
       "      <th>PAY_AMT5</th>\n",
       "      <td>0</td>\n",
       "      <td>0</td>\n",
       "      <td>1000</td>\n",
       "      <td>1069</td>\n",
       "      <td>689</td>\n",
       "    </tr>\n",
       "    <tr>\n",
       "      <th>PAY_AMT6</th>\n",
       "      <td>0</td>\n",
       "      <td>2000</td>\n",
       "      <td>5000</td>\n",
       "      <td>1000</td>\n",
       "      <td>679</td>\n",
       "    </tr>\n",
       "    <tr>\n",
       "      <th>default payment next month</th>\n",
       "      <td>1</td>\n",
       "      <td>1</td>\n",
       "      <td>0</td>\n",
       "      <td>0</td>\n",
       "      <td>0</td>\n",
       "    </tr>\n",
       "  </tbody>\n",
       "</table>\n",
       "</div>"
      ],
      "text/plain": [
       "                                0       1      2      3      4\n",
       "ID                              1       2      3      4      5\n",
       "LIMIT_BAL                   20000  120000  90000  50000  50000\n",
       "SEX                             2       2      2      2      1\n",
       "EDUCATION                       2       2      2      2      2\n",
       "MARRIAGE                        1       2      2      1      1\n",
       "AGE                            24      26     34     37     57\n",
       "PAY_0                           2      -1      0      0     -1\n",
       "PAY_2                           2       2      0      0      0\n",
       "PAY_3                          -1       0      0      0     -1\n",
       "PAY_4                          -1       0      0      0      0\n",
       "PAY_5                          -2       0      0      0      0\n",
       "PAY_6                          -2       2      0      0      0\n",
       "BILL_AMT1                    3913    2682  29239  46990   8617\n",
       "BILL_AMT2                    3102    1725  14027  48233   5670\n",
       "BILL_AMT3                     689    2682  13559  49291  35835\n",
       "BILL_AMT4                       0    3272  14331  28314  20940\n",
       "BILL_AMT5                       0    3455  14948  28959  19146\n",
       "BILL_AMT6                       0    3261  15549  29547  19131\n",
       "PAY_AMT1                        0       0   1518   2000   2000\n",
       "PAY_AMT2                      689    1000   1500   2019  36681\n",
       "PAY_AMT3                        0    1000   1000   1200  10000\n",
       "PAY_AMT4                        0    1000   1000   1100   9000\n",
       "PAY_AMT5                        0       0   1000   1069    689\n",
       "PAY_AMT6                        0    2000   5000   1000    679\n",
       "default payment next month      1       1      0      0      0"
      ]
     },
     "execution_count": 661,
     "metadata": {},
     "output_type": "execute_result"
    }
   ],
   "source": [
    "df.head().T"
   ]
  },
  {
   "cell_type": "code",
   "execution_count": 662,
   "id": "34436290-7b41-4019-9574-1c09caf1a549",
   "metadata": {},
   "outputs": [
    {
     "name": "stdout",
     "output_type": "stream",
     "text": [
      "<class 'pandas.core.frame.DataFrame'>\n",
      "RangeIndex: 30000 entries, 0 to 29999\n",
      "Data columns (total 25 columns):\n",
      " #   Column                      Non-Null Count  Dtype\n",
      "---  ------                      --------------  -----\n",
      " 0   ID                          30000 non-null  int64\n",
      " 1   LIMIT_BAL                   30000 non-null  int64\n",
      " 2   SEX                         30000 non-null  int64\n",
      " 3   EDUCATION                   30000 non-null  int64\n",
      " 4   MARRIAGE                    30000 non-null  int64\n",
      " 5   AGE                         30000 non-null  int64\n",
      " 6   PAY_0                       30000 non-null  int64\n",
      " 7   PAY_2                       30000 non-null  int64\n",
      " 8   PAY_3                       30000 non-null  int64\n",
      " 9   PAY_4                       30000 non-null  int64\n",
      " 10  PAY_5                       30000 non-null  int64\n",
      " 11  PAY_6                       30000 non-null  int64\n",
      " 12  BILL_AMT1                   30000 non-null  int64\n",
      " 13  BILL_AMT2                   30000 non-null  int64\n",
      " 14  BILL_AMT3                   30000 non-null  int64\n",
      " 15  BILL_AMT4                   30000 non-null  int64\n",
      " 16  BILL_AMT5                   30000 non-null  int64\n",
      " 17  BILL_AMT6                   30000 non-null  int64\n",
      " 18  PAY_AMT1                    30000 non-null  int64\n",
      " 19  PAY_AMT2                    30000 non-null  int64\n",
      " 20  PAY_AMT3                    30000 non-null  int64\n",
      " 21  PAY_AMT4                    30000 non-null  int64\n",
      " 22  PAY_AMT5                    30000 non-null  int64\n",
      " 23  PAY_AMT6                    30000 non-null  int64\n",
      " 24  default payment next month  30000 non-null  int64\n",
      "dtypes: int64(25)\n",
      "memory usage: 5.7 MB\n"
     ]
    }
   ],
   "source": [
    "df.info() \n",
    "\n",
    "# there is no missing value\n",
    "# all variables are integer"
   ]
  },
  {
   "cell_type": "markdown",
   "id": "84051ef6-0b4e-4580-bc5b-f44a2fd7ec56",
   "metadata": {},
   "source": [
    "## Data Preparation and Cleaning"
   ]
  },
  {
   "cell_type": "code",
   "execution_count": 663,
   "id": "2ed25157-513c-4e43-b876-d09fbb180f26",
   "metadata": {},
   "outputs": [],
   "source": [
    "# i will remove the id \n",
    "del df['ID']"
   ]
  },
  {
   "cell_type": "code",
   "execution_count": 664,
   "id": "41d9811a-a3dc-4f6b-89e0-7a44169f49c0",
   "metadata": {},
   "outputs": [],
   "source": [
    "# rename the default payment next month \n",
    "df.rename(columns = {'default payment next month':'default_payment'}, inplace = True)"
   ]
  },
  {
   "cell_type": "code",
   "execution_count": 665,
   "id": "f1b1b860-b065-47c8-a657-0d112752451b",
   "metadata": {},
   "outputs": [],
   "source": [
    "# rename the pay_0 to pay_1\n",
    "df.rename(columns = {'PAY_0':'PAY_1'}, inplace = True)"
   ]
  },
  {
   "cell_type": "code",
   "execution_count": 666,
   "id": "e2bae0d1-44b7-4aab-b758-747fbd3a0d01",
   "metadata": {},
   "outputs": [],
   "source": [
    "# convert columns name  to lowercase\n",
    "df.columns = df.columns.str.lower()"
   ]
  },
  {
   "cell_type": "code",
   "execution_count": 667,
   "id": "3a2a2857-88ae-40dc-820d-dc1b6351bf19",
   "metadata": {},
   "outputs": [
    {
     "data": {
      "text/plain": [
       "Index(['limit_bal', 'sex', 'education', 'marriage', 'age', 'pay_1', 'pay_2',\n",
       "       'pay_3', 'pay_4', 'pay_5', 'pay_6', 'bill_amt1', 'bill_amt2',\n",
       "       'bill_amt3', 'bill_amt4', 'bill_amt5', 'bill_amt6', 'pay_amt1',\n",
       "       'pay_amt2', 'pay_amt3', 'pay_amt4', 'pay_amt5', 'pay_amt6',\n",
       "       'default_payment'],\n",
       "      dtype='object')"
      ]
     },
     "execution_count": 667,
     "metadata": {},
     "output_type": "execute_result"
    }
   ],
   "source": [
    "df.columns"
   ]
  },
  {
   "cell_type": "markdown",
   "id": "08371b56-7caa-461e-a3fc-c6d3ed19e90b",
   "metadata": {},
   "source": [
    "### Mapping on Categorilca Varieables"
   ]
  },
  {
   "cell_type": "markdown",
   "id": "bb0bf88d-be14-41c9-8d7b-cab764f0d6a0",
   "metadata": {
    "tags": []
   },
   "source": [
    "#### Categorical Variables \n",
    "\n",
    "- Sex: (1 = male; 2 = female).\n",
    "- Education: (1 = graduate school; 2 = university; 3 = high school; 4 = others).\n",
    "- Marial status: (1 = married; 2 = single; 3 = others)."
   ]
  },
  {
   "cell_type": "code",
   "execution_count": 668,
   "id": "98550285-8bd5-4a09-9d70-e9bcd78ed60d",
   "metadata": {},
   "outputs": [
    {
     "data": {
      "text/plain": [
       "Index(['limit_bal', 'sex', 'education', 'marriage', 'age', 'pay_1', 'pay_2',\n",
       "       'pay_3', 'pay_4', 'pay_5', 'pay_6', 'bill_amt1', 'bill_amt2',\n",
       "       'bill_amt3', 'bill_amt4', 'bill_amt5', 'bill_amt6', 'pay_amt1',\n",
       "       'pay_amt2', 'pay_amt3', 'pay_amt4', 'pay_amt5', 'pay_amt6',\n",
       "       'default_payment'],\n",
       "      dtype='object')"
      ]
     },
     "execution_count": 668,
     "metadata": {},
     "output_type": "execute_result"
    }
   ],
   "source": [
    "df.columns"
   ]
  },
  {
   "cell_type": "markdown",
   "id": "245a817e-45d3-42c4-a4f1-d167a071a29a",
   "metadata": {
    "tags": []
   },
   "source": [
    "##### For sex"
   ]
  },
  {
   "cell_type": "code",
   "execution_count": 733,
   "id": "cd3d351b-f42c-47d0-b0ce-3831b1d471a6",
   "metadata": {},
   "outputs": [
    {
     "data": {
      "text/plain": [
       "female    18112\n",
       "male      11888\n",
       "Name: sex, dtype: int64"
      ]
     },
     "execution_count": 733,
     "metadata": {},
     "output_type": "execute_result"
    }
   ],
   "source": [
    "df.sex.value_counts() \n",
    "# there is no problem. \n",
    "# there are two types as know"
   ]
  },
  {
   "cell_type": "code",
   "execution_count": 734,
   "id": "313afe0a-20a3-4065-8d84-b910deb904fe",
   "metadata": {},
   "outputs": [],
   "source": [
    "sex_values = {\n",
    "    1: 'male',\n",
    "    2: 'female'\n",
    "}\n",
    "\n",
    "df.sex = df.sex.map(sex_values)"
   ]
  },
  {
   "cell_type": "markdown",
   "id": "3bcf03fb-fca5-49e8-a2ce-60dece5c88a2",
   "metadata": {
    "tags": []
   },
   "source": [
    "##### For education"
   ]
  },
  {
   "cell_type": "code",
   "execution_count": 735,
   "id": "91ca0dcf-a6cc-4308-88ce-169d94958199",
   "metadata": {
    "jp-MarkdownHeadingCollapsed": true,
    "tags": []
   },
   "outputs": [
    {
     "data": {
      "text/plain": [
       "university         14030\n",
       "graduate school    10585\n",
       "high school         4917\n",
       "other                468\n",
       "Name: education, dtype: int64"
      ]
     },
     "execution_count": 735,
     "metadata": {},
     "output_type": "execute_result"
    }
   ],
   "source": [
    "df.education.value_counts() \n",
    "# there is a problem. \n",
    "# there are 7 types but we just know about 4 types\n",
    "# Education: (1 = graduate school; 2 = university; 3 = high school; 4 = others).\n",
    "\n",
    "# so i will change 0, 5 and 6 to 4(other)"
   ]
  },
  {
   "cell_type": "code",
   "execution_count": 736,
   "id": "1f1914e1-b3d6-4584-b802-d57331e749d6",
   "metadata": {},
   "outputs": [],
   "source": [
    "df['education'] =  df['education'].replace([0, 5, 6], 4)\n",
    "# now there are just 4 types"
   ]
  },
  {
   "cell_type": "code",
   "execution_count": 737,
   "id": "e626a8bb-15b8-4c06-9cd7-4b821c6666a8",
   "metadata": {},
   "outputs": [],
   "source": [
    "education_values = {\n",
    "    1: 'graduate school',\n",
    "    2: 'university',\n",
    "    3: 'high school',\n",
    "    4: 'other'\n",
    "}\n",
    "\n",
    "df.education = df.education.map(education_values)"
   ]
  },
  {
   "cell_type": "markdown",
   "id": "d16336a4-4090-49af-b333-034c28bb785d",
   "metadata": {
    "tags": []
   },
   "source": [
    "##### For marriage"
   ]
  },
  {
   "cell_type": "code",
   "execution_count": 738,
   "id": "1c23c697-aa46-4576-a7c4-52f0eb4d1e1f",
   "metadata": {},
   "outputs": [
    {
     "data": {
      "text/plain": [
       "single     15964\n",
       "married    13659\n",
       "other        377\n",
       "Name: marriage, dtype: int64"
      ]
     },
     "execution_count": 738,
     "metadata": {},
     "output_type": "execute_result"
    }
   ],
   "source": [
    "df.marriage.value_counts() \n",
    "# there is a problem. \n",
    "# there are 4 types but we just know about 3 types\n",
    "# Marial status: (1 = married; 2 = single; 3 = others).\n",
    "\n",
    "# so i will change 0 to 3(other)"
   ]
  },
  {
   "cell_type": "code",
   "execution_count": 675,
   "id": "ea1aa12a-80e0-426a-9c1a-02f37555be79",
   "metadata": {},
   "outputs": [],
   "source": [
    "df['marriage'] =  df['marriage'].replace(0, 3)"
   ]
  },
  {
   "cell_type": "code",
   "execution_count": 676,
   "id": "9a597bf1-e133-4113-ade1-62a3ceac629c",
   "metadata": {},
   "outputs": [],
   "source": [
    "marriage_values = {\n",
    "    1: 'married',\n",
    "    2: 'single',\n",
    "    3: 'other'\n",
    "}\n",
    "\n",
    "df.marriage = df.marriage.map(marriage_values)"
   ]
  },
  {
   "cell_type": "code",
   "execution_count": 677,
   "id": "dd5b508c-e350-4e63-9f7b-3abb2d51a572",
   "metadata": {},
   "outputs": [],
   "source": [
    "#df['pay_1'] = df['pay_1'].astype(str) \n",
    "#df['pay_2'] = df['pay_2'].astype(str) \n",
    "#df['pay_3'] = df['pay_3'].astype(str) \n",
    "#df['pay_4'] = df['pay_4'].astype(str)  \n",
    "#df['pay_5'] = df['pay_5'].astype(str) \n",
    "#df['pay_6'] = df['pay_6'].astype(str) "
   ]
  },
  {
   "cell_type": "code",
   "execution_count": 678,
   "id": "8b9637f5-b0ca-4c95-981a-b252db9c96ba",
   "metadata": {},
   "outputs": [
    {
     "data": {
      "text/html": [
       "<div>\n",
       "<style scoped>\n",
       "    .dataframe tbody tr th:only-of-type {\n",
       "        vertical-align: middle;\n",
       "    }\n",
       "\n",
       "    .dataframe tbody tr th {\n",
       "        vertical-align: top;\n",
       "    }\n",
       "\n",
       "    .dataframe thead th {\n",
       "        text-align: right;\n",
       "    }\n",
       "</style>\n",
       "<table border=\"1\" class=\"dataframe\">\n",
       "  <thead>\n",
       "    <tr style=\"text-align: right;\">\n",
       "      <th></th>\n",
       "      <th>limit_bal</th>\n",
       "      <th>sex</th>\n",
       "      <th>education</th>\n",
       "      <th>marriage</th>\n",
       "      <th>age</th>\n",
       "      <th>pay_1</th>\n",
       "      <th>pay_2</th>\n",
       "      <th>pay_3</th>\n",
       "      <th>pay_4</th>\n",
       "      <th>pay_5</th>\n",
       "      <th>...</th>\n",
       "      <th>bill_amt4</th>\n",
       "      <th>bill_amt5</th>\n",
       "      <th>bill_amt6</th>\n",
       "      <th>pay_amt1</th>\n",
       "      <th>pay_amt2</th>\n",
       "      <th>pay_amt3</th>\n",
       "      <th>pay_amt4</th>\n",
       "      <th>pay_amt5</th>\n",
       "      <th>pay_amt6</th>\n",
       "      <th>default_payment</th>\n",
       "    </tr>\n",
       "  </thead>\n",
       "  <tbody>\n",
       "    <tr>\n",
       "      <th>0</th>\n",
       "      <td>20000</td>\n",
       "      <td>female</td>\n",
       "      <td>university</td>\n",
       "      <td>married</td>\n",
       "      <td>24</td>\n",
       "      <td>2</td>\n",
       "      <td>2</td>\n",
       "      <td>-1</td>\n",
       "      <td>-1</td>\n",
       "      <td>-2</td>\n",
       "      <td>...</td>\n",
       "      <td>0</td>\n",
       "      <td>0</td>\n",
       "      <td>0</td>\n",
       "      <td>0</td>\n",
       "      <td>689</td>\n",
       "      <td>0</td>\n",
       "      <td>0</td>\n",
       "      <td>0</td>\n",
       "      <td>0</td>\n",
       "      <td>1</td>\n",
       "    </tr>\n",
       "    <tr>\n",
       "      <th>1</th>\n",
       "      <td>120000</td>\n",
       "      <td>female</td>\n",
       "      <td>university</td>\n",
       "      <td>single</td>\n",
       "      <td>26</td>\n",
       "      <td>-1</td>\n",
       "      <td>2</td>\n",
       "      <td>0</td>\n",
       "      <td>0</td>\n",
       "      <td>0</td>\n",
       "      <td>...</td>\n",
       "      <td>3272</td>\n",
       "      <td>3455</td>\n",
       "      <td>3261</td>\n",
       "      <td>0</td>\n",
       "      <td>1000</td>\n",
       "      <td>1000</td>\n",
       "      <td>1000</td>\n",
       "      <td>0</td>\n",
       "      <td>2000</td>\n",
       "      <td>1</td>\n",
       "    </tr>\n",
       "    <tr>\n",
       "      <th>2</th>\n",
       "      <td>90000</td>\n",
       "      <td>female</td>\n",
       "      <td>university</td>\n",
       "      <td>single</td>\n",
       "      <td>34</td>\n",
       "      <td>0</td>\n",
       "      <td>0</td>\n",
       "      <td>0</td>\n",
       "      <td>0</td>\n",
       "      <td>0</td>\n",
       "      <td>...</td>\n",
       "      <td>14331</td>\n",
       "      <td>14948</td>\n",
       "      <td>15549</td>\n",
       "      <td>1518</td>\n",
       "      <td>1500</td>\n",
       "      <td>1000</td>\n",
       "      <td>1000</td>\n",
       "      <td>1000</td>\n",
       "      <td>5000</td>\n",
       "      <td>0</td>\n",
       "    </tr>\n",
       "    <tr>\n",
       "      <th>3</th>\n",
       "      <td>50000</td>\n",
       "      <td>female</td>\n",
       "      <td>university</td>\n",
       "      <td>married</td>\n",
       "      <td>37</td>\n",
       "      <td>0</td>\n",
       "      <td>0</td>\n",
       "      <td>0</td>\n",
       "      <td>0</td>\n",
       "      <td>0</td>\n",
       "      <td>...</td>\n",
       "      <td>28314</td>\n",
       "      <td>28959</td>\n",
       "      <td>29547</td>\n",
       "      <td>2000</td>\n",
       "      <td>2019</td>\n",
       "      <td>1200</td>\n",
       "      <td>1100</td>\n",
       "      <td>1069</td>\n",
       "      <td>1000</td>\n",
       "      <td>0</td>\n",
       "    </tr>\n",
       "    <tr>\n",
       "      <th>4</th>\n",
       "      <td>50000</td>\n",
       "      <td>male</td>\n",
       "      <td>university</td>\n",
       "      <td>married</td>\n",
       "      <td>57</td>\n",
       "      <td>-1</td>\n",
       "      <td>0</td>\n",
       "      <td>-1</td>\n",
       "      <td>0</td>\n",
       "      <td>0</td>\n",
       "      <td>...</td>\n",
       "      <td>20940</td>\n",
       "      <td>19146</td>\n",
       "      <td>19131</td>\n",
       "      <td>2000</td>\n",
       "      <td>36681</td>\n",
       "      <td>10000</td>\n",
       "      <td>9000</td>\n",
       "      <td>689</td>\n",
       "      <td>679</td>\n",
       "      <td>0</td>\n",
       "    </tr>\n",
       "  </tbody>\n",
       "</table>\n",
       "<p>5 rows × 24 columns</p>\n",
       "</div>"
      ],
      "text/plain": [
       "   limit_bal     sex   education marriage  age  pay_1  pay_2  pay_3  pay_4  \\\n",
       "0      20000  female  university  married   24      2      2     -1     -1   \n",
       "1     120000  female  university   single   26     -1      2      0      0   \n",
       "2      90000  female  university   single   34      0      0      0      0   \n",
       "3      50000  female  university  married   37      0      0      0      0   \n",
       "4      50000    male  university  married   57     -1      0     -1      0   \n",
       "\n",
       "   pay_5  ...  bill_amt4  bill_amt5  bill_amt6  pay_amt1  pay_amt2  pay_amt3  \\\n",
       "0     -2  ...          0          0          0         0       689         0   \n",
       "1      0  ...       3272       3455       3261         0      1000      1000   \n",
       "2      0  ...      14331      14948      15549      1518      1500      1000   \n",
       "3      0  ...      28314      28959      29547      2000      2019      1200   \n",
       "4      0  ...      20940      19146      19131      2000     36681     10000   \n",
       "\n",
       "   pay_amt4  pay_amt5  pay_amt6  default_payment  \n",
       "0         0         0         0                1  \n",
       "1      1000         0      2000                1  \n",
       "2      1000      1000      5000                0  \n",
       "3      1100      1069      1000                0  \n",
       "4      9000       689       679                0  \n",
       "\n",
       "[5 rows x 24 columns]"
      ]
     },
     "execution_count": 678,
     "metadata": {},
     "output_type": "execute_result"
    }
   ],
   "source": [
    "df.head()"
   ]
  },
  {
   "cell_type": "code",
   "execution_count": 679,
   "id": "1a8402ef-4d87-4fe5-9715-d60f6f41cbbf",
   "metadata": {},
   "outputs": [
    {
     "name": "stdout",
     "output_type": "stream",
     "text": [
      "<class 'pandas.core.frame.DataFrame'>\n",
      "RangeIndex: 30000 entries, 0 to 29999\n",
      "Data columns (total 24 columns):\n",
      " #   Column           Non-Null Count  Dtype \n",
      "---  ------           --------------  ----- \n",
      " 0   limit_bal        30000 non-null  int64 \n",
      " 1   sex              30000 non-null  object\n",
      " 2   education        30000 non-null  object\n",
      " 3   marriage         30000 non-null  object\n",
      " 4   age              30000 non-null  int64 \n",
      " 5   pay_1            30000 non-null  int64 \n",
      " 6   pay_2            30000 non-null  int64 \n",
      " 7   pay_3            30000 non-null  int64 \n",
      " 8   pay_4            30000 non-null  int64 \n",
      " 9   pay_5            30000 non-null  int64 \n",
      " 10  pay_6            30000 non-null  int64 \n",
      " 11  bill_amt1        30000 non-null  int64 \n",
      " 12  bill_amt2        30000 non-null  int64 \n",
      " 13  bill_amt3        30000 non-null  int64 \n",
      " 14  bill_amt4        30000 non-null  int64 \n",
      " 15  bill_amt5        30000 non-null  int64 \n",
      " 16  bill_amt6        30000 non-null  int64 \n",
      " 17  pay_amt1         30000 non-null  int64 \n",
      " 18  pay_amt2         30000 non-null  int64 \n",
      " 19  pay_amt3         30000 non-null  int64 \n",
      " 20  pay_amt4         30000 non-null  int64 \n",
      " 21  pay_amt5         30000 non-null  int64 \n",
      " 22  pay_amt6         30000 non-null  int64 \n",
      " 23  default_payment  30000 non-null  int64 \n",
      "dtypes: int64(21), object(3)\n",
      "memory usage: 5.5+ MB\n"
     ]
    }
   ],
   "source": [
    "df.info()"
   ]
  },
  {
   "cell_type": "markdown",
   "id": "4b8b43ee-f924-46eb-98aa-a64a41c1a061",
   "metadata": {
    "tags": []
   },
   "source": [
    "## EDA"
   ]
  },
  {
   "cell_type": "markdown",
   "id": "e6f168aa-7d58-4919-8822-f663e4502308",
   "metadata": {},
   "source": [
    "### Data Preprocessing"
   ]
  },
  {
   "cell_type": "code",
   "execution_count": 621,
   "id": "d3531e30-6098-4d51-aab8-97f1e16d454d",
   "metadata": {},
   "outputs": [
    {
     "data": {
      "text/plain": [
       "Index(['limit_bal', 'sex', 'education', 'marriage', 'age', 'pay_1', 'pay_2',\n",
       "       'pay_3', 'pay_4', 'pay_5', 'pay_6', 'bill_amt1', 'bill_amt2',\n",
       "       'bill_amt3', 'bill_amt4', 'bill_amt5', 'bill_amt6', 'pay_amt1',\n",
       "       'pay_amt2', 'pay_amt3', 'pay_amt4', 'pay_amt5', 'pay_amt6',\n",
       "       'default_payment'],\n",
       "      dtype='object')"
      ]
     },
     "execution_count": 621,
     "metadata": {},
     "output_type": "execute_result"
    }
   ],
   "source": [
    "df.columns"
   ]
  },
  {
   "cell_type": "code",
   "execution_count": 686,
   "id": "2d0d09d4-4720-4bd2-b759-a1e909a6f2de",
   "metadata": {},
   "outputs": [],
   "source": [
    "pay_amt = ['pay_amt1','pay_amt2', 'pay_amt3', 'pay_amt4', 'pay_amt5', 'pay_amt6']"
   ]
  },
  {
   "cell_type": "code",
   "execution_count": 687,
   "id": "f8a9c149-2b0a-4e7d-93fd-95b00c343757",
   "metadata": {},
   "outputs": [
    {
     "data": {
      "text/html": [
       "<div>\n",
       "<style scoped>\n",
       "    .dataframe tbody tr th:only-of-type {\n",
       "        vertical-align: middle;\n",
       "    }\n",
       "\n",
       "    .dataframe tbody tr th {\n",
       "        vertical-align: top;\n",
       "    }\n",
       "\n",
       "    .dataframe thead th {\n",
       "        text-align: right;\n",
       "    }\n",
       "</style>\n",
       "<table border=\"1\" class=\"dataframe\">\n",
       "  <thead>\n",
       "    <tr style=\"text-align: right;\">\n",
       "      <th></th>\n",
       "      <th>pay_amt1</th>\n",
       "      <th>pay_amt2</th>\n",
       "      <th>pay_amt3</th>\n",
       "      <th>pay_amt4</th>\n",
       "      <th>pay_amt5</th>\n",
       "      <th>pay_amt6</th>\n",
       "    </tr>\n",
       "  </thead>\n",
       "  <tbody>\n",
       "    <tr>\n",
       "      <th>count</th>\n",
       "      <td>30000.0</td>\n",
       "      <td>30000.0</td>\n",
       "      <td>30000.0</td>\n",
       "      <td>30000.0</td>\n",
       "      <td>30000.0</td>\n",
       "      <td>30000.0</td>\n",
       "    </tr>\n",
       "    <tr>\n",
       "      <th>mean</th>\n",
       "      <td>5663.6</td>\n",
       "      <td>5921.2</td>\n",
       "      <td>5225.7</td>\n",
       "      <td>4826.1</td>\n",
       "      <td>4799.4</td>\n",
       "      <td>5215.5</td>\n",
       "    </tr>\n",
       "    <tr>\n",
       "      <th>std</th>\n",
       "      <td>16563.3</td>\n",
       "      <td>23040.9</td>\n",
       "      <td>17607.0</td>\n",
       "      <td>15666.2</td>\n",
       "      <td>15278.3</td>\n",
       "      <td>17777.5</td>\n",
       "    </tr>\n",
       "    <tr>\n",
       "      <th>min</th>\n",
       "      <td>0.0</td>\n",
       "      <td>0.0</td>\n",
       "      <td>0.0</td>\n",
       "      <td>0.0</td>\n",
       "      <td>0.0</td>\n",
       "      <td>0.0</td>\n",
       "    </tr>\n",
       "    <tr>\n",
       "      <th>25%</th>\n",
       "      <td>1000.0</td>\n",
       "      <td>833.0</td>\n",
       "      <td>390.0</td>\n",
       "      <td>296.0</td>\n",
       "      <td>252.5</td>\n",
       "      <td>117.8</td>\n",
       "    </tr>\n",
       "    <tr>\n",
       "      <th>50%</th>\n",
       "      <td>2100.0</td>\n",
       "      <td>2009.0</td>\n",
       "      <td>1800.0</td>\n",
       "      <td>1500.0</td>\n",
       "      <td>1500.0</td>\n",
       "      <td>1500.0</td>\n",
       "    </tr>\n",
       "    <tr>\n",
       "      <th>75%</th>\n",
       "      <td>5006.0</td>\n",
       "      <td>5000.0</td>\n",
       "      <td>4505.0</td>\n",
       "      <td>4013.2</td>\n",
       "      <td>4031.5</td>\n",
       "      <td>4000.0</td>\n",
       "    </tr>\n",
       "    <tr>\n",
       "      <th>max</th>\n",
       "      <td>873552.0</td>\n",
       "      <td>1684259.0</td>\n",
       "      <td>896040.0</td>\n",
       "      <td>621000.0</td>\n",
       "      <td>426529.0</td>\n",
       "      <td>528666.0</td>\n",
       "    </tr>\n",
       "  </tbody>\n",
       "</table>\n",
       "</div>"
      ],
      "text/plain": [
       "       pay_amt1   pay_amt2  pay_amt3  pay_amt4  pay_amt5  pay_amt6\n",
       "count   30000.0    30000.0   30000.0   30000.0   30000.0   30000.0\n",
       "mean     5663.6     5921.2    5225.7    4826.1    4799.4    5215.5\n",
       "std     16563.3    23040.9   17607.0   15666.2   15278.3   17777.5\n",
       "min         0.0        0.0       0.0       0.0       0.0       0.0\n",
       "25%      1000.0      833.0     390.0     296.0     252.5     117.8\n",
       "50%      2100.0     2009.0    1800.0    1500.0    1500.0    1500.0\n",
       "75%      5006.0     5000.0    4505.0    4013.2    4031.5    4000.0\n",
       "max    873552.0  1684259.0  896040.0  621000.0  426529.0  528666.0"
      ]
     },
     "execution_count": 687,
     "metadata": {},
     "output_type": "execute_result"
    }
   ],
   "source": [
    "df[pay_amt].describe().round(1)\n",
    "\n",
    "# there is an anamolly in pay_amt2\n",
    "# pay_amt2 max value is very big."
   ]
  },
  {
   "cell_type": "code",
   "execution_count": 681,
   "id": "02775ac2-134e-4105-9fcf-ebedaa16b2ef",
   "metadata": {},
   "outputs": [],
   "source": [
    "bill_amt =['bill_amt1', 'bill_amt2','bill_amt3', 'bill_amt4', 'bill_amt5', 'bill_amt6']"
   ]
  },
  {
   "cell_type": "code",
   "execution_count": 683,
   "id": "b77cf5aa-1b02-4217-95f7-c3657bee1cdd",
   "metadata": {},
   "outputs": [
    {
     "data": {
      "text/html": [
       "<div>\n",
       "<style scoped>\n",
       "    .dataframe tbody tr th:only-of-type {\n",
       "        vertical-align: middle;\n",
       "    }\n",
       "\n",
       "    .dataframe tbody tr th {\n",
       "        vertical-align: top;\n",
       "    }\n",
       "\n",
       "    .dataframe thead th {\n",
       "        text-align: right;\n",
       "    }\n",
       "</style>\n",
       "<table border=\"1\" class=\"dataframe\">\n",
       "  <thead>\n",
       "    <tr style=\"text-align: right;\">\n",
       "      <th></th>\n",
       "      <th>bill_amt1</th>\n",
       "      <th>bill_amt2</th>\n",
       "      <th>bill_amt3</th>\n",
       "      <th>bill_amt4</th>\n",
       "      <th>bill_amt5</th>\n",
       "      <th>bill_amt6</th>\n",
       "    </tr>\n",
       "  </thead>\n",
       "  <tbody>\n",
       "    <tr>\n",
       "      <th>count</th>\n",
       "      <td>30000.0</td>\n",
       "      <td>30000.0</td>\n",
       "      <td>30000.0</td>\n",
       "      <td>30000.0</td>\n",
       "      <td>30000.0</td>\n",
       "      <td>30000.0</td>\n",
       "    </tr>\n",
       "    <tr>\n",
       "      <th>mean</th>\n",
       "      <td>51223.3</td>\n",
       "      <td>49179.1</td>\n",
       "      <td>47013.2</td>\n",
       "      <td>43262.9</td>\n",
       "      <td>40311.4</td>\n",
       "      <td>38871.8</td>\n",
       "    </tr>\n",
       "    <tr>\n",
       "      <th>std</th>\n",
       "      <td>73635.9</td>\n",
       "      <td>71173.8</td>\n",
       "      <td>69349.4</td>\n",
       "      <td>64332.9</td>\n",
       "      <td>60797.2</td>\n",
       "      <td>59554.1</td>\n",
       "    </tr>\n",
       "    <tr>\n",
       "      <th>min</th>\n",
       "      <td>-165580.0</td>\n",
       "      <td>-69777.0</td>\n",
       "      <td>-157264.0</td>\n",
       "      <td>-170000.0</td>\n",
       "      <td>-81334.0</td>\n",
       "      <td>-339603.0</td>\n",
       "    </tr>\n",
       "    <tr>\n",
       "      <th>25%</th>\n",
       "      <td>3558.8</td>\n",
       "      <td>2984.8</td>\n",
       "      <td>2666.2</td>\n",
       "      <td>2326.8</td>\n",
       "      <td>1763.0</td>\n",
       "      <td>1256.0</td>\n",
       "    </tr>\n",
       "    <tr>\n",
       "      <th>50%</th>\n",
       "      <td>22381.5</td>\n",
       "      <td>21200.0</td>\n",
       "      <td>20088.5</td>\n",
       "      <td>19052.0</td>\n",
       "      <td>18104.5</td>\n",
       "      <td>17071.0</td>\n",
       "    </tr>\n",
       "    <tr>\n",
       "      <th>75%</th>\n",
       "      <td>67091.0</td>\n",
       "      <td>64006.2</td>\n",
       "      <td>60164.8</td>\n",
       "      <td>54506.0</td>\n",
       "      <td>50190.5</td>\n",
       "      <td>49198.2</td>\n",
       "    </tr>\n",
       "    <tr>\n",
       "      <th>max</th>\n",
       "      <td>964511.0</td>\n",
       "      <td>983931.0</td>\n",
       "      <td>1664089.0</td>\n",
       "      <td>891586.0</td>\n",
       "      <td>927171.0</td>\n",
       "      <td>961664.0</td>\n",
       "    </tr>\n",
       "  </tbody>\n",
       "</table>\n",
       "</div>"
      ],
      "text/plain": [
       "       bill_amt1  bill_amt2  bill_amt3  bill_amt4  bill_amt5  bill_amt6\n",
       "count    30000.0    30000.0    30000.0    30000.0    30000.0    30000.0\n",
       "mean     51223.3    49179.1    47013.2    43262.9    40311.4    38871.8\n",
       "std      73635.9    71173.8    69349.4    64332.9    60797.2    59554.1\n",
       "min    -165580.0   -69777.0  -157264.0  -170000.0   -81334.0  -339603.0\n",
       "25%       3558.8     2984.8     2666.2     2326.8     1763.0     1256.0\n",
       "50%      22381.5    21200.0    20088.5    19052.0    18104.5    17071.0\n",
       "75%      67091.0    64006.2    60164.8    54506.0    50190.5    49198.2\n",
       "max     964511.0   983931.0  1664089.0   891586.0   927171.0   961664.0"
      ]
     },
     "execution_count": 683,
     "metadata": {},
     "output_type": "execute_result"
    }
   ],
   "source": [
    "df[bill_amt].describe().round(1)"
   ]
  },
  {
   "cell_type": "markdown",
   "id": "560dce45-68b1-413a-b2a2-b7361bc8eb54",
   "metadata": {},
   "source": [
    "#### Vale Ranges"
   ]
  },
  {
   "cell_type": "code",
   "execution_count": 748,
   "id": "40aa590d-7163-46ac-a01b-c3a688e3d67b",
   "metadata": {},
   "outputs": [],
   "source": [
    "cVar =  ['limit_bal','age','bill_amt1','pay_amt2'] # continuous var"
   ]
  },
  {
   "cell_type": "code",
   "execution_count": 751,
   "id": "94bc3c0a-846d-4cd2-ad50-9d2b3a9e0a7c",
   "metadata": {},
   "outputs": [
    {
     "data": {
      "text/html": [
       "<div>\n",
       "<style scoped>\n",
       "    .dataframe tbody tr th:only-of-type {\n",
       "        vertical-align: middle;\n",
       "    }\n",
       "\n",
       "    .dataframe tbody tr th {\n",
       "        vertical-align: top;\n",
       "    }\n",
       "\n",
       "    .dataframe thead th {\n",
       "        text-align: right;\n",
       "    }\n",
       "</style>\n",
       "<table border=\"1\" class=\"dataframe\">\n",
       "  <thead>\n",
       "    <tr style=\"text-align: right;\">\n",
       "      <th></th>\n",
       "      <th>limit_bal</th>\n",
       "      <th>age</th>\n",
       "      <th>bill_amt1</th>\n",
       "      <th>pay_amt2</th>\n",
       "    </tr>\n",
       "  </thead>\n",
       "  <tbody>\n",
       "    <tr>\n",
       "      <th>count</th>\n",
       "      <td>30000.0</td>\n",
       "      <td>30000.0</td>\n",
       "      <td>30000.0</td>\n",
       "      <td>30000.0</td>\n",
       "    </tr>\n",
       "    <tr>\n",
       "      <th>mean</th>\n",
       "      <td>167484.3</td>\n",
       "      <td>35.5</td>\n",
       "      <td>51223.3</td>\n",
       "      <td>5921.2</td>\n",
       "    </tr>\n",
       "    <tr>\n",
       "      <th>std</th>\n",
       "      <td>129747.7</td>\n",
       "      <td>9.2</td>\n",
       "      <td>73635.9</td>\n",
       "      <td>23040.9</td>\n",
       "    </tr>\n",
       "    <tr>\n",
       "      <th>min</th>\n",
       "      <td>10000.0</td>\n",
       "      <td>21.0</td>\n",
       "      <td>-165580.0</td>\n",
       "      <td>0.0</td>\n",
       "    </tr>\n",
       "    <tr>\n",
       "      <th>25%</th>\n",
       "      <td>50000.0</td>\n",
       "      <td>28.0</td>\n",
       "      <td>3558.8</td>\n",
       "      <td>833.0</td>\n",
       "    </tr>\n",
       "    <tr>\n",
       "      <th>50%</th>\n",
       "      <td>140000.0</td>\n",
       "      <td>34.0</td>\n",
       "      <td>22381.5</td>\n",
       "      <td>2009.0</td>\n",
       "    </tr>\n",
       "    <tr>\n",
       "      <th>75%</th>\n",
       "      <td>240000.0</td>\n",
       "      <td>41.0</td>\n",
       "      <td>67091.0</td>\n",
       "      <td>5000.0</td>\n",
       "    </tr>\n",
       "    <tr>\n",
       "      <th>max</th>\n",
       "      <td>1000000.0</td>\n",
       "      <td>79.0</td>\n",
       "      <td>964511.0</td>\n",
       "      <td>1684259.0</td>\n",
       "    </tr>\n",
       "  </tbody>\n",
       "</table>\n",
       "</div>"
      ],
      "text/plain": [
       "       limit_bal      age  bill_amt1   pay_amt2\n",
       "count    30000.0  30000.0    30000.0    30000.0\n",
       "mean    167484.3     35.5    51223.3     5921.2\n",
       "std     129747.7      9.2    73635.9    23040.9\n",
       "min      10000.0     21.0  -165580.0        0.0\n",
       "25%      50000.0     28.0     3558.8      833.0\n",
       "50%     140000.0     34.0    22381.5     2009.0\n",
       "75%     240000.0     41.0    67091.0     5000.0\n",
       "max    1000000.0     79.0   964511.0  1684259.0"
      ]
     },
     "execution_count": 751,
     "metadata": {},
     "output_type": "execute_result"
    }
   ],
   "source": [
    "df[cVar].describe().round(1)"
   ]
  },
  {
   "cell_type": "code",
   "execution_count": 752,
   "id": "4cb60ea9-96f6-4579-9d8c-d0f32e6287ab",
   "metadata": {},
   "outputs": [
    {
     "name": "stdout",
     "output_type": "stream",
     "text": [
      "It is seen that there are different value ranges.\n",
      "10000 1000000\n",
      "21 79\n",
      "-165580 964511\n",
      "0 1684259\n"
     ]
    }
   ],
   "source": [
    "print('It is seen that there are different value ranges.')\n",
    "print(df.limit_bal.min(), df.limit_bal.max())\n",
    "print(df.age.min(), df.age.max())\n",
    "print(df.bill_amt1.min(), df.bill_amt1.max())\n",
    "print(df.pay_amt2.min(), df.pay_amt2.max())"
   ]
  },
  {
   "cell_type": "markdown",
   "id": "75413dbd-621a-4fd6-a1fa-e72d536a82fd",
   "metadata": {},
   "source": [
    "### Data Visualization"
   ]
  },
  {
   "cell_type": "markdown",
   "id": "95041b42-38c6-4c2c-8742-8c1cdb93d2e2",
   "metadata": {
    "tags": []
   },
   "source": [
    "#### Histogram"
   ]
  },
  {
   "cell_type": "markdown",
   "id": "275f861e-f451-4ccc-a02c-6fee142c9717",
   "metadata": {
    "tags": []
   },
   "source": [
    "##### Amount of previous payment "
   ]
  },
  {
   "cell_type": "code",
   "execution_count": 715,
   "id": "d385a6db-dc3e-4444-bd18-f8530550b52e",
   "metadata": {},
   "outputs": [
    {
     "data": {
      "text/plain": [
       "0       5249\n",
       "2000    1363\n",
       "3000     891\n",
       "5000     698\n",
       "1500     507\n",
       "Name: pay_amt1, dtype: int64"
      ]
     },
     "execution_count": 715,
     "metadata": {},
     "output_type": "execute_result"
    }
   ],
   "source": [
    "df['pay_amt1'].value_counts().head()"
   ]
  },
  {
   "cell_type": "code",
   "execution_count": 706,
   "id": "e8081333-0113-47ba-9b21-725ab4b6f905",
   "metadata": {},
   "outputs": [
    {
     "data": {
      "image/png": "[encoded data removed]",
      "text/plain": [
       "<Figure size 432x288 with 1 Axes>"
      ]
     },
     "metadata": {
      "needs_background": "light"
     },
     "output_type": "display_data"
    }
   ],
   "source": [
    "# Linear scale\n",
    "plt.hist('pay_amt1', data =df)\n",
    "\n",
    "plt.show()\n",
    "\n",
    "# we could not get a meaningful plot"
   ]
  },
  {
   "cell_type": "code",
   "execution_count": 708,
   "id": "ccad07f2-7d0c-4e18-a7d6-a262537549cc",
   "metadata": {},
   "outputs": [
    {
     "data": {
      "image/png": "[encoded data removed]",
      "text/plain": [
       "<Figure size 432x288 with 1 Axes>"
      ]
     },
     "metadata": {
      "needs_background": "light"
     },
     "output_type": "display_data"
    }
   ],
   "source": [
    "# Log scale\n",
    "plt.hist('pay_amt1', log = True, data =df)\n",
    "\n",
    "plt.show()\n",
    "\n",
    "# right skewed"
   ]
  },
  {
   "cell_type": "code",
   "execution_count": 704,
   "id": "adb4f2e9-18c0-41d0-a4e7-c101a5c8017c",
   "metadata": {},
   "outputs": [
    {
     "data": {
      "image/png": "[encoded data removed]",
      "text/plain": [
       "<Figure size 432x288 with 1 Axes>"
      ]
     },
     "metadata": {
      "needs_background": "light"
     },
     "output_type": "display_data"
    }
   ],
   "source": [
    "# Linear scale\n",
    "plt.hist('pay_amt1', data =df,range = [0, 20000])\n",
    "\n",
    "plt.show()\n",
    "\n",
    "# between 0 -20k range there is a right skewed data."
   ]
  },
  {
   "cell_type": "code",
   "execution_count": 709,
   "id": "05c00ce1-adb4-421b-9bf1-79798c9f3d06",
   "metadata": {
    "tags": []
   },
   "outputs": [
    {
     "data": {
      "image/png": "[encoded data removed]",
      "text/plain": [
       "<Figure size 720x504 with 6 Axes>"
      ]
     },
     "metadata": {
      "needs_background": "light"
     },
     "output_type": "display_data"
    }
   ],
   "source": [
    "# we can see the distribution of pay amounts with log values\n",
    "\n",
    "figure, axis = plt.subplots(2, 3, figsize=(10, 7))\n",
    "figure = figsize=(3, 3)\n",
    "  \n",
    "# For Sine Function\n",
    "axis[0, 0].hist(np.log1p(df['pay_amt1']))\n",
    "axis[0, 0].set_title(\"PM Sept\")\n",
    "  \n",
    "# For Cosine Function\n",
    "axis[0, 1].hist(np.log1p(df['pay_amt2']))\n",
    "axis[0, 1].set_title(\"PM Aug\")\n",
    "\n",
    "# For Cosine Function\n",
    "axis[0, 2].hist(np.log1p(df['pay_amt3']))\n",
    "axis[0, 2].set_title(\"PM Jul\")\n",
    "  \n",
    "# For Tangent Function\n",
    "axis[1, 0].hist(np.log1p(df['pay_amt4']))\n",
    "axis[1, 0].set_title(\"PM Jun\")\n",
    "  \n",
    "# For Tanh Function\n",
    "axis[1, 1].hist(np.log1p(df['pay_amt5']))\n",
    "axis[1, 1].set_title(\"PM May\")\n",
    "\n",
    "# For Tanh Function\n",
    "axis[1, 2].hist(np.log1p(df['pay_amt6']))\n",
    "axis[1, 2].set_title(\"PM Apr\")\n",
    "  \n",
    "# Combine all the operations and display\n",
    "plt.show()"
   ]
  },
  {
   "cell_type": "markdown",
   "id": "d57cc695-195b-47b6-9f19-f4021be5bfb1",
   "metadata": {
    "tags": []
   },
   "source": [
    "##### Amount of bill statement "
   ]
  },
  {
   "cell_type": "code",
   "execution_count": 714,
   "id": "3bfb71d8-60b5-44b6-9e97-756eae5a6a91",
   "metadata": {},
   "outputs": [
    {
     "data": {
      "text/plain": [
       "0      2008\n",
       "390     244\n",
       "780      76\n",
       "326      72\n",
       "316      63\n",
       "Name: bill_amt1, dtype: int64"
      ]
     },
     "execution_count": 714,
     "metadata": {},
     "output_type": "execute_result"
    }
   ],
   "source": [
    "df['bill_amt1'].value_counts().head()"
   ]
  },
  {
   "cell_type": "code",
   "execution_count": 716,
   "id": "750b8ecf-8ed8-49f5-8548-4a072511ef7c",
   "metadata": {},
   "outputs": [
    {
     "data": {
      "text/plain": [
       "count     30000.000000\n",
       "mean      51223.330900\n",
       "std       73635.860576\n",
       "min     -165580.000000\n",
       "25%        3558.750000\n",
       "50%       22381.500000\n",
       "75%       67091.000000\n",
       "max      964511.000000\n",
       "Name: bill_amt1, dtype: float64"
      ]
     },
     "execution_count": 716,
     "metadata": {},
     "output_type": "execute_result"
    }
   ],
   "source": [
    "df['bill_amt1'].describe()"
   ]
  },
  {
   "cell_type": "code",
   "execution_count": 717,
   "id": "5c9116c9-51b3-44af-a35f-578fb12faa58",
   "metadata": {},
   "outputs": [
    {
     "data": {
      "image/png": "[encoded data removed]",
      "text/plain": [
       "<Figure size 432x288 with 1 Axes>"
      ]
     },
     "metadata": {
      "needs_background": "light"
     },
     "output_type": "display_data"
    }
   ],
   "source": [
    "# Linear scale\n",
    "plt.hist('bill_amt1', data =df)\n",
    "\n",
    "plt.show()\n",
    "\n",
    "# we could not get a meaningful plot"
   ]
  },
  {
   "cell_type": "code",
   "execution_count": 718,
   "id": "47a23f30-9522-4309-aea7-249f33175990",
   "metadata": {},
   "outputs": [
    {
     "data": {
      "image/png": "[encoded data removed]",
      "text/plain": [
       "<Figure size 432x288 with 1 Axes>"
      ]
     },
     "metadata": {
      "needs_background": "light"
     },
     "output_type": "display_data"
    }
   ],
   "source": [
    "# Log scale\n",
    "plt.hist('bill_amt1', log = True, data =df)\n",
    "\n",
    "plt.show()\n",
    "\n",
    "# right skewed"
   ]
  },
  {
   "cell_type": "code",
   "execution_count": 721,
   "id": "8aaf95b6-613e-4352-a189-5f313843e11f",
   "metadata": {},
   "outputs": [
    {
     "data": {
      "text/plain": [
       "29995    188948\n",
       "29996      1683\n",
       "29997      3565\n",
       "29998     -1645\n",
       "29999     47929\n",
       "Name: bill_amt1, dtype: int64"
      ]
     },
     "execution_count": 721,
     "metadata": {},
     "output_type": "execute_result"
    }
   ],
   "source": [
    "df['bill_amt1'].tail()"
   ]
  },
  {
   "cell_type": "markdown",
   "id": "2afc5f91-f4bf-4dec-afe7-70ef766bdc50",
   "metadata": {
    "tags": []
   },
   "source": [
    "#### Box plot"
   ]
  },
  {
   "cell_type": "markdown",
   "id": "7b956b37-30c9-4b1b-a401-c3bfaa82bfd6",
   "metadata": {
    "tags": []
   },
   "source": [
    "##### Amount of previous payment "
   ]
  },
  {
   "cell_type": "code",
   "execution_count": 560,
   "id": "33745639-42fa-4850-8ade-070e108a6bb1",
   "metadata": {},
   "outputs": [
    {
     "data": {
      "image/png": "[encoded data removed]",
      "text/plain": [
       "<Figure size 432x288 with 1 Axes>"
      ]
     },
     "metadata": {
      "needs_background": "light"
     },
     "output_type": "display_data"
    }
   ],
   "source": [
    "# Lienar scale\n",
    "plt.boxplot('pay_amt1', vert=False, data =df)\n",
    "\n",
    "plt.show()\n",
    "\n",
    "# there is a lot of outlier"
   ]
  },
  {
   "cell_type": "code",
   "execution_count": 731,
   "id": "d92aa8b8-a640-4da7-b4d1-06a163abed89",
   "metadata": {},
   "outputs": [
    {
     "data": {
      "image/png": "[encoded data removed]",
      "text/plain": [
       "<Figure size 1008x504 with 6 Axes>"
      ]
     },
     "metadata": {
      "needs_background": "light"
     },
     "output_type": "display_data"
    }
   ],
   "source": [
    "# we can see the outliers of pay amounts\n",
    "\n",
    "figure, axis = plt.subplots(2, 3, figsize=(14, 7))\n",
    "\n",
    "axis[0, 0].boxplot('pay_amt1', vert=False, data =df)\n",
    "axis[0, 0].set_title(\"PA Sept\")\n",
    "  \n",
    "axis[0, 1].boxplot('pay_amt2', vert=False, data =df)\n",
    "axis[0, 1].set_title(\"PA Aug\")\n",
    "\n",
    "axis[0, 2].boxplot('pay_amt3', vert=False, data =df)\n",
    "axis[0, 2].set_title(\"PA Jul\")\n",
    "  \n",
    "axis[1, 0].boxplot('pay_amt4', vert=False, data =df)\n",
    "axis[1, 0].set_title(\"PA Jun\")\n",
    "  \n",
    "axis[1, 1].boxplot('pay_amt5', vert=False, data =df)\n",
    "axis[1, 1].set_title(\"PA May\")\n",
    "\n",
    "axis[1, 2].boxplot('pay_amt6', vert=False, data =df)\n",
    "axis[1, 2].set_title(\"PA Apr\")\n",
    "  \n",
    "# Combine all the operations and display\n",
    "plt.show()"
   ]
  },
  {
   "cell_type": "markdown",
   "id": "1421a157-b208-401e-9148-06190e73bbf4",
   "metadata": {
    "tags": []
   },
   "source": [
    "##### Amount of bill statement "
   ]
  },
  {
   "cell_type": "code",
   "execution_count": 729,
   "id": "f996b9f8-64ef-43ac-a381-a86cced6de67",
   "metadata": {},
   "outputs": [
    {
     "data": {
      "image/png": "[encoded data removed]",
      "text/plain": [
       "<Figure size 432x288 with 1 Axes>"
      ]
     },
     "metadata": {
      "needs_background": "light"
     },
     "output_type": "display_data"
    }
   ],
   "source": [
    "# Lienar scale\n",
    "plt.boxplot('bill_amt1', vert=False, data =df)\n",
    "\n",
    "plt.show()\n",
    "\n",
    "# there is a lot of outlier"
   ]
  },
  {
   "cell_type": "code",
   "execution_count": 732,
   "id": "87419c03-46d0-4b90-b2fb-9fee0cd089d5",
   "metadata": {},
   "outputs": [
    {
     "data": {
      "image/png": "[encoded data removed]",
      "text/plain": [
       "<Figure size 1008x504 with 6 Axes>"
      ]
     },
     "metadata": {
      "needs_background": "light"
     },
     "output_type": "display_data"
    }
   ],
   "source": [
    "# we can see the outliers of pay amounts\n",
    "\n",
    "figure, axis = plt.subplots(2, 3, figsize=(14, 7))\n",
    "\n",
    "axis[0, 0].boxplot('bill_amt1', vert=False, data =df)\n",
    "axis[0, 0].set_title(\"BA Sept\")\n",
    "  \n",
    "axis[0, 1].boxplot('bill_amt2', vert=False, data =df)\n",
    "axis[0, 1].set_title(\"BA Aug\")\n",
    "\n",
    "axis[0, 2].boxplot('bill_amt3', vert=False, data =df)\n",
    "axis[0, 2].set_title(\"BA Jul\")\n",
    "  \n",
    "axis[1, 0].boxplot('bill_amt4', vert=False, data =df)\n",
    "axis[1, 0].set_title(\"BA Jun\")\n",
    "  \n",
    "axis[1, 1].boxplot('bill_amt5', vert=False, data =df)\n",
    "axis[1, 1].set_title(\"BA May\")\n",
    "\n",
    "axis[1, 2].boxplot('bill_amt6', vert=False, data =df)\n",
    "axis[1, 2].set_title(\"BA Apr\")\n",
    "  \n",
    "# Combine all the operations and display\n",
    "plt.show()"
   ]
  },
  {
   "cell_type": "markdown",
   "id": "99d59085-e1aa-4833-91d7-a5f18f851220",
   "metadata": {
    "tags": []
   },
   "source": [
    "#### Count plot"
   ]
  },
  {
   "cell_type": "code",
   "execution_count": 563,
   "id": "1406e8cd-f7f1-48ac-92cd-59472442e607",
   "metadata": {},
   "outputs": [
    {
     "data": {
      "image/png": "[encoded data removed]",
      "text/plain": [
       "<Figure size 864x720 with 4 Axes>"
      ]
     },
     "metadata": {
      "needs_background": "light"
     },
     "output_type": "display_data"
    }
   ],
   "source": [
    "# we can see the outliers of pay amounts\n",
    "\n",
    "figure, axis = plt.subplots(2, 2, figsize=(12,10 ))\n",
    "  \n",
    "sns.countplot(ax=axis[0,0], x=df['default_payment'])\n",
    "axis[0,0].set_title('Default Payment')\n",
    "\n",
    "# For Cosine Function\n",
    "sns.countplot(ax=axis[0,1], x=df['sex'])\n",
    "axis[0, 1].set_title(\"Sex\")\n",
    "\n",
    "\n",
    "sns.countplot(ax=axis[1,0], x=df['education'])\n",
    "axis[1, 0].set_title(\"Education\")\n",
    "  \n",
    "# For Tanh Function\n",
    "sns.countplot(ax=axis[1,1], x=df['marriage'])\n",
    "axis[1, 1].set_title(\"Marriage\")\n",
    "\n",
    "\n",
    "# Combine all the operations and display\n",
    "plt.show()"
   ]
  },
  {
   "cell_type": "markdown",
   "id": "87db8df4-9c2d-48cf-9e11-7e8172e7ec85",
   "metadata": {
    "tags": []
   },
   "source": [
    "## Split the Data"
   ]
  },
  {
   "cell_type": "code",
   "execution_count": 633,
   "id": "8a426d79-8204-4373-bc5c-e2955e6fc8a4",
   "metadata": {},
   "outputs": [],
   "source": [
    "# split data train - valid - test ==> %60 - %20 - %20"
   ]
  },
  {
   "cell_type": "code",
   "execution_count": 634,
   "id": "ba9629f4-1114-421a-874f-2c2366dcfb66",
   "metadata": {},
   "outputs": [],
   "source": [
    "df_full_train, df_test = train_test_split(df, test_size=0.2, random_state= 53)"
   ]
  },
  {
   "cell_type": "code",
   "execution_count": 635,
   "id": "820cc84c-712a-43d0-9cd0-338893e096af",
   "metadata": {},
   "outputs": [],
   "source": [
    "df_train, df_val = train_test_split(df_full_train, test_size= 0.25, random_state=53)"
   ]
  },
  {
   "cell_type": "code",
   "execution_count": 636,
   "id": "6f924284",
   "metadata": {},
   "outputs": [],
   "source": [
    "df_train = df_train.reset_index(drop=True)\n",
    "df_val = df_val.reset_index(drop=True)\n",
    "df_test = df_test.reset_index(drop=True)"
   ]
  },
  {
   "cell_type": "code",
   "execution_count": 637,
   "id": "61326776-5956-48ef-8dc6-a84d93a1a866",
   "metadata": {},
   "outputs": [
    {
     "data": {
      "text/plain": [
       "((18000, 24), (6000, 24), (6000, 24))"
      ]
     },
     "execution_count": 637,
     "metadata": {},
     "output_type": "execute_result"
    }
   ],
   "source": [
    "df_train.shape, df_val.shape, df_test.shape\n",
    "# splitting is succesful"
   ]
  },
  {
   "cell_type": "markdown",
   "id": "f65fb79f-f595-4049-b8c4-9d9461f595da",
   "metadata": {},
   "source": [
    "### Create y"
   ]
  },
  {
   "cell_type": "code",
   "execution_count": 638,
   "id": "781551e8-0dfd-4811-aab4-ec51ca577468",
   "metadata": {},
   "outputs": [],
   "source": [
    "y_full_train = df_full_train.default_payment.values\n",
    "y_train = df_train.default_payment.values\n",
    "y_val = df_val.default_payment.values\n",
    "y_test = df_test.default_payment.values"
   ]
  },
  {
   "cell_type": "code",
   "execution_count": 639,
   "id": "cf512172-5aa9-451c-a5fc-1100595bf54b",
   "metadata": {},
   "outputs": [],
   "source": [
    "del df_full_train['default_payment']\n",
    "del df_train['default_payment']\n",
    "del df_val['default_payment']\n",
    "del df_test['default_payment']\n"
   ]
  },
  {
   "cell_type": "markdown",
   "id": "9c3e414c-79c8-43ac-b30d-74352f6db6b9",
   "metadata": {},
   "source": [
    "### Dict Vectorizer"
   ]
  },
  {
   "cell_type": "code",
   "execution_count": 640,
   "id": "68ff059a-af4f-49b1-80f7-4f6ce473a7d9",
   "metadata": {},
   "outputs": [],
   "source": [
    "full_train_dicts = df_full_train.to_dict(orient='records')\n",
    "train_dicts = df_train.to_dict(orient='records')\n",
    "val_dicts = df_val.to_dict(orient='records')\n",
    "test_dicts = df_test.to_dict(orient='records')"
   ]
  },
  {
   "cell_type": "code",
   "execution_count": 641,
   "id": "deea54b5-295c-459a-8468-52fc2d0a5caf",
   "metadata": {},
   "outputs": [],
   "source": [
    "dt = DictVectorizer(sparse=False)"
   ]
  },
  {
   "cell_type": "markdown",
   "id": "70719680-8d22-4dfe-9417-1be9d653e1b0",
   "metadata": {},
   "source": [
    "#### Create X"
   ]
  },
  {
   "cell_type": "code",
   "execution_count": 642,
   "id": "32aaa368-c0c8-4d98-8158-00788bf666e7",
   "metadata": {},
   "outputs": [],
   "source": [
    "X_full_train =  dt.fit_transform(full_train_dicts)\n",
    "X_train = dt.transform(train_dicts)\n",
    "X_val = dt.transform(val_dicts)\n",
    "X_test = dt.transform(test_dicts)"
   ]
  },
  {
   "cell_type": "code",
   "execution_count": 643,
   "id": "67f7a634-7f9c-4176-b60b-9deb352109fe",
   "metadata": {},
   "outputs": [
    {
     "name": "stderr",
     "output_type": "stream",
     "text": [
      "C:\\Users\\Administrator\\anaconda3\\lib\\site-packages\\sklearn\\utils\\deprecation.py:87: FutureWarning: Function get_feature_names is deprecated; get_feature_names is deprecated in 1.0 and will be removed in 1.2. Please use get_feature_names_out instead.\n",
      "  warnings.warn(msg, category=FutureWarning)\n"
     ]
    },
    {
     "data": {
      "text/plain": [
       "['age',\n",
       " 'bill_amt1',\n",
       " 'bill_amt2',\n",
       " 'bill_amt3',\n",
       " 'bill_amt4',\n",
       " 'bill_amt5',\n",
       " 'bill_amt6',\n",
       " 'education=graduate school',\n",
       " 'education=high school',\n",
       " 'education=other',\n",
       " 'education=university',\n",
       " 'limit_bal',\n",
       " 'marriage=married',\n",
       " 'marriage=other',\n",
       " 'marriage=single',\n",
       " 'pay_1',\n",
       " 'pay_2',\n",
       " 'pay_3',\n",
       " 'pay_4',\n",
       " 'pay_5',\n",
       " 'pay_6',\n",
       " 'pay_amt1',\n",
       " 'pay_amt2',\n",
       " 'pay_amt3',\n",
       " 'pay_amt4',\n",
       " 'pay_amt5',\n",
       " 'pay_amt6',\n",
       " 'sex=female',\n",
       " 'sex=male']"
      ]
     },
     "execution_count": 643,
     "metadata": {},
     "output_type": "execute_result"
    }
   ],
   "source": [
    "dt.get_feature_names()"
   ]
  },
  {
   "cell_type": "markdown",
   "id": "d080a93e-5179-4d49-b5a4-8f73edc55d4c",
   "metadata": {},
   "source": [
    "## Logistic Regression"
   ]
  },
  {
   "cell_type": "code",
   "execution_count": 644,
   "id": "e7488ffb-db7f-443a-8e3b-c2ff16e617df",
   "metadata": {},
   "outputs": [],
   "source": [
    "model = LogisticRegression()"
   ]
  },
  {
   "cell_type": "code",
   "execution_count": 645,
   "id": "9f3282b7-cadb-4767-b6aa-a9434310ae73",
   "metadata": {},
   "outputs": [
    {
     "name": "stderr",
     "output_type": "stream",
     "text": [
      "C:\\Users\\Administrator\\anaconda3\\lib\\site-packages\\sklearn\\linear_model\\_logistic.py:814: ConvergenceWarning: lbfgs failed to converge (status=1):\n",
      "STOP: TOTAL NO. of ITERATIONS REACHED LIMIT.\n",
      "\n",
      "Increase the number of iterations (max_iter) or scale the data as shown in:\n",
      "    https://scikit-learn.org/stable/modules/preprocessing.html\n",
      "Please also refer to the documentation for alternative solver options:\n",
      "    https://scikit-learn.org/stable/modules/linear_model.html#logistic-regression\n",
      "  n_iter_i = _check_optimize_result(\n"
     ]
    },
    {
     "data": {
      "text/plain": [
       "LogisticRegression()"
      ]
     },
     "execution_count": 645,
     "metadata": {},
     "output_type": "execute_result"
    }
   ],
   "source": [
    "model.fit(X_train, y_train)"
   ]
  },
  {
   "cell_type": "code",
   "execution_count": 647,
   "id": "ce1be5c3-2f1f-441a-96ee-a2b5ca0f4f54",
   "metadata": {},
   "outputs": [
    {
     "data": {
      "text/plain": [
       "0.8115"
      ]
     },
     "execution_count": 647,
     "metadata": {},
     "output_type": "execute_result"
    }
   ],
   "source": [
    "model.score(X_val, y_val)"
   ]
  },
  {
   "cell_type": "code",
   "execution_count": 648,
   "id": "7d7887f5-8c82-4ea5-9c10-6a0730192c6c",
   "metadata": {},
   "outputs": [
    {
     "data": {
      "text/plain": [
       "0.8088333333333333"
      ]
     },
     "execution_count": 648,
     "metadata": {},
     "output_type": "execute_result"
    }
   ],
   "source": [
    "model.score(X_test, y_test)"
   ]
  },
  {
   "cell_type": "code",
   "execution_count": 649,
   "id": "02f92d5d-a026-4b2a-8dc5-3eb90b30920e",
   "metadata": {},
   "outputs": [
    {
     "data": {
      "text/plain": [
       "array([0, 0, 0, ..., 0, 0, 1], dtype=int64)"
      ]
     },
     "execution_count": 649,
     "metadata": {},
     "output_type": "execute_result"
    }
   ],
   "source": [
    "y_pred = model.predict(X_test)\n",
    "y_pred"
   ]
  },
  {
   "cell_type": "code",
   "execution_count": 650,
   "id": "c51431b8-78ad-45fe-91f9-c695ff2516aa",
   "metadata": {},
   "outputs": [
    {
     "data": {
      "text/plain": [
       "0.8088333333333333"
      ]
     },
     "execution_count": 650,
     "metadata": {},
     "output_type": "execute_result"
    }
   ],
   "source": [
    "accuracy_score(y_test, y_pred)"
   ]
  },
  {
   "cell_type": "code",
   "execution_count": 654,
   "id": "3482cc12-c45a-4a41-b28a-817ed04a78f6",
   "metadata": {},
   "outputs": [],
   "source": [
    "model = LogisticRegression()"
   ]
  },
  {
   "cell_type": "code",
   "execution_count": 655,
   "id": "04671eb0-8c26-478a-bcb8-cf9694ad620c",
   "metadata": {},
   "outputs": [
    {
     "name": "stderr",
     "output_type": "stream",
     "text": [
      "C:\\Users\\Administrator\\anaconda3\\lib\\site-packages\\sklearn\\linear_model\\_logistic.py:814: ConvergenceWarning: lbfgs failed to converge (status=1):\n",
      "STOP: TOTAL NO. of ITERATIONS REACHED LIMIT.\n",
      "\n",
      "Increase the number of iterations (max_iter) or scale the data as shown in:\n",
      "    https://scikit-learn.org/stable/modules/preprocessing.html\n",
      "Please also refer to the documentation for alternative solver options:\n",
      "    https://scikit-learn.org/stable/modules/linear_model.html#logistic-regression\n",
      "  n_iter_i = _check_optimize_result(\n"
     ]
    },
    {
     "data": {
      "text/plain": [
       "LogisticRegression()"
      ]
     },
     "execution_count": 655,
     "metadata": {},
     "output_type": "execute_result"
    }
   ],
   "source": [
    "model.fit(X_full_train, y_full_train)"
   ]
  },
  {
   "cell_type": "code",
   "execution_count": 656,
   "id": "55235abe-6e00-4ac6-9f59-835a82aa8020",
   "metadata": {},
   "outputs": [
    {
     "data": {
      "text/plain": [
       "0.8085"
      ]
     },
     "execution_count": 656,
     "metadata": {},
     "output_type": "execute_result"
    }
   ],
   "source": [
    "model.score(X_test, y_test)"
   ]
  },
  {
   "cell_type": "code",
   "execution_count": null,
   "id": "6f741459-0b07-4d14-a0c3-2ad8a17ec6a4",
   "metadata": {},
   "outputs": [],
   "source": []
  },
  {
   "cell_type": "code",
   "execution_count": null,
   "id": "ab9661fa-59cb-4b54-8590-d79958c01581",
   "metadata": {},
   "outputs": [],
   "source": []
  },
  {
   "cell_type": "code",
   "execution_count": null,
   "id": "f701dbf9-dc9e-4a13-8659-9605b5ea9b1d",
   "metadata": {},
   "outputs": [],
   "source": []
  },
  {
   "cell_type": "code",
   "execution_count": null,
   "id": "de4fb1bb-d70a-4020-b9a1-25dbb519e49d",
   "metadata": {},
   "outputs": [],
   "source": []
  },
  {
   "cell_type": "code",
   "execution_count": null,
   "id": "71b01ebd-c852-477e-aeb4-aa3676ba6ee7",
   "metadata": {},
   "outputs": [],
   "source": []
  },
  {
   "cell_type": "code",
   "execution_count": null,
   "id": "71124e83-8531-4e34-af74-04ab8434f975",
   "metadata": {},
   "outputs": [],
   "source": []
  },
  {
   "cell_type": "code",
   "execution_count": null,
   "id": "f3e4484f-cf14-465b-982f-f2a5f64c2e71",
   "metadata": {},
   "outputs": [],
   "source": []
  },
  {
   "cell_type": "code",
   "execution_count": null,
   "id": "b481eb8a-72bc-4bd5-b611-37279515661b",
   "metadata": {},
   "outputs": [],
   "source": []
  },
  {
   "cell_type": "code",
   "execution_count": null,
   "id": "030081cf-7d50-489e-a8ef-1c9683fb6dfe",
   "metadata": {},
   "outputs": [],
   "source": []
  },
  {
   "cell_type": "code",
   "execution_count": null,
   "id": "790595ff-abe7-4e9c-82e4-e3781af2032d",
   "metadata": {},
   "outputs": [],
   "source": []
  },
  {
   "cell_type": "code",
   "execution_count": null,
   "id": "2ee9a693-ad05-4f4f-8e1f-b9b0dce5e2b4",
   "metadata": {},
   "outputs": [],
   "source": []
  },
  {
   "cell_type": "code",
   "execution_count": null,
   "id": "d5bfcf2a-558c-43d0-9e68-5d70fad9c4da",
   "metadata": {},
   "outputs": [],
   "source": []
  },
  {
   "cell_type": "code",
   "execution_count": null,
   "id": "9106ccfe-100e-41b6-a9c3-f5b72e46ffe3",
   "metadata": {},
   "outputs": [],
   "source": []
  },
  {
   "cell_type": "code",
   "execution_count": null,
   "id": "ab491d3b-8bbe-4a3a-949f-e7c3763afff2",
   "metadata": {},
   "outputs": [],
   "source": []
  },
  {
   "cell_type": "code",
   "execution_count": null,
   "id": "84784410-b988-4cd0-86e9-7d8000396e0f",
   "metadata": {},
   "outputs": [],
   "source": []
  },
  {
   "cell_type": "code",
   "execution_count": null,
   "id": "a7412319-2bad-4670-baaf-3f2904342a02",
   "metadata": {},
   "outputs": [],
   "source": []
  }
 ],
 "metadata": {
  "kernelspec": {
   "display_name": "Python 3 (ipykernel)",
   "language": "python",
   "name": "python3"
  },
  "language_info": {
   "codemirror_mode": {
    "name": "ipython",
    "version": 3
   },
   "file_extension": ".py",
   "mimetype": "text/x-python",
   "name": "python",
   "nbconvert_exporter": "python",
   "pygments_lexer": "ipython3",
   "version": "3.9.12"
  }
 },
 "nbformat": 4,
 "nbformat_minor": 5
}

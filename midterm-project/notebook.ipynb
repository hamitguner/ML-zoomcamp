{
 "cells": [
  {
   "cell_type": "markdown",
   "id": "f286c576-5d92-4a6c-abde-6a0c2774ab83",
   "metadata": {
    "tags": []
   },
   "source": [
    "# Outline\n",
    "    Will be fixed later"
   ]
  },
  {
   "cell_type": "markdown",
   "id": "becd14a6-1d96-4972-91ae-0e68846a23f6",
   "metadata": {},
   "source": [
    "### Data Set Information:\n",
    "\n",
    "This research aimed at the case of customers default payments in Taiwan and compares the predictive accuracy of probability of default among six data mining methods. From the perspective of risk management, the result of predictive accuracy of the estimated probability of default will be more valuable than the binary result of classification - credible or not credible clients. Because the real probability of default is unknown, this study presented the novel â€œSorting Smoothing Method to estimate the real probability of default. With the real probability of default as the response variable (Y), and the predictive probability of default as the independent variable (X), the simple linear regression result (Y = A + BX) shows that the forecasting model produced by artificial neural network has the highest coefficient of determination; its regression intercept (A) is close to zero, and regression coefficient (B) to one. Therefore, among the six data mining techniques, artificial neural network is the only one that can accurately estimate the real probability of default."
   ]
  },
  {
   "cell_type": "markdown",
   "id": "2189743d-6a8f-49b1-9afa-45639e21937b",
   "metadata": {},
   "source": [
    "### Attribute Information:\n",
    "\n",
    "This research employed a binary variable, default payment (Yes = 1, No = 0), as the response variable. This study reviewed the literature and used the following 23 variables as explanatory variables:\n",
    "\n",
    "- Limit Balance: Amount of the given credit (NT dollar): it includes both the individual consumer credit and his/her family (supplementary) credit.\n",
    "- Sex: Gender (1 = male; 2 = female).\n",
    "- Education: Education (1 = graduate school; 2 = university; 3 = high school; 4 = others).\n",
    "- Mariage: Marital status (1 = married; 2 = single; 3 = others).\n",
    "- Age: Age (year).\n",
    "- X6 - X11: History of past payment. We tracked the past monthly payment records (from April to September, 2005) as follows: X6 = the repayment status in September, 2005;\n",
    "- X7 = the repayment status in August, 2005; . . .;\n",
    "- X11 = the repayment status in April, 2005. The measurement scale for the repayment status is: -1 = pay duly; 1 = payment delay for one month; 2 = payment delay for two months; . . .; 8 = payment delay for eight months; 9 = payment delay for nine months and above.\n",
    "- X12-X17: Amount of bill statement (NT dollar). \n",
    "- X12 = amount of bill statement in September, 2005; \n",
    "- X13 = amount of bill statement in August, 2005; . . .; \n",
    "- X17 = amount of bill statement in April, 2005.\n",
    "- X18-X23: Amount of previous payment (NT dollar). \n",
    "- X18 = amount paid in September, 2005; X19 = amount paid in August, 2005; . . .;\n",
    "- X23 = amount paid in April, 2005."
   ]
  },
  {
   "cell_type": "markdown",
   "id": "978d1bc6-1dc4-4152-86fa-8f771e7685c7",
   "metadata": {},
   "source": [
    "## Import Libaries"
   ]
  },
  {
   "cell_type": "code",
   "execution_count": 3263,
   "id": "7bf6db2c-5edf-424c-80a8-451f331cb0fe",
   "metadata": {},
   "outputs": [],
   "source": [
    "import pandas as pd\n",
    "import numpy as np\n",
    "import matplotlib.pyplot as plt\n",
    "import seaborn as sns\n",
    "\n",
    "from sklearn.model_selection import train_test_split\n",
    "from sklearn.feature_extraction import DictVectorizer\n",
    "from sklearn.linear_model import LogisticRegression\n",
    "from sklearn.metrics import accuracy_score\n",
    "from sklearn.metrics import mutual_info_score\n",
    "from sklearn.metrics import roc_auc_score"
   ]
  },
  {
   "cell_type": "markdown",
   "id": "45f7fe55-3ba8-4860-bb4a-4e3fc83c6563",
   "metadata": {},
   "source": [
    "## Import Data"
   ]
  },
  {
   "cell_type": "code",
   "execution_count": 3162,
   "id": "c40fb6fc-d408-4b04-b4a8-c9594dba08c0",
   "metadata": {},
   "outputs": [],
   "source": [
    "df = pd.read_excel('default-of-credit-card-clients.xls', skiprows= 1)"
   ]
  },
  {
   "cell_type": "code",
   "execution_count": 3163,
   "id": "54d7300a-5724-4bb1-8746-9a204466e501",
   "metadata": {},
   "outputs": [],
   "source": [
    "# a copy of original dataset\n",
    "df_copy = df.copy()"
   ]
  },
  {
   "cell_type": "code",
   "execution_count": 3164,
   "id": "1433261f-0a4a-4a31-bca6-19e842e28ea1",
   "metadata": {},
   "outputs": [
    {
     "data": {
      "text/html": [
       "<div>\n",
       "<style scoped>\n",
       "    .dataframe tbody tr th:only-of-type {\n",
       "        vertical-align: middle;\n",
       "    }\n",
       "\n",
       "    .dataframe tbody tr th {\n",
       "        vertical-align: top;\n",
       "    }\n",
       "\n",
       "    .dataframe thead th {\n",
       "        text-align: right;\n",
       "    }\n",
       "</style>\n",
       "<table border=\"1\" class=\"dataframe\">\n",
       "  <thead>\n",
       "    <tr style=\"text-align: right;\">\n",
       "      <th></th>\n",
       "      <th>0</th>\n",
       "      <th>1</th>\n",
       "      <th>2</th>\n",
       "      <th>3</th>\n",
       "      <th>4</th>\n",
       "    </tr>\n",
       "  </thead>\n",
       "  <tbody>\n",
       "    <tr>\n",
       "      <th>ID</th>\n",
       "      <td>1</td>\n",
       "      <td>2</td>\n",
       "      <td>3</td>\n",
       "      <td>4</td>\n",
       "      <td>5</td>\n",
       "    </tr>\n",
       "    <tr>\n",
       "      <th>LIMIT_BAL</th>\n",
       "      <td>20000</td>\n",
       "      <td>120000</td>\n",
       "      <td>90000</td>\n",
       "      <td>50000</td>\n",
       "      <td>50000</td>\n",
       "    </tr>\n",
       "    <tr>\n",
       "      <th>SEX</th>\n",
       "      <td>2</td>\n",
       "      <td>2</td>\n",
       "      <td>2</td>\n",
       "      <td>2</td>\n",
       "      <td>1</td>\n",
       "    </tr>\n",
       "    <tr>\n",
       "      <th>EDUCATION</th>\n",
       "      <td>2</td>\n",
       "      <td>2</td>\n",
       "      <td>2</td>\n",
       "      <td>2</td>\n",
       "      <td>2</td>\n",
       "    </tr>\n",
       "    <tr>\n",
       "      <th>MARRIAGE</th>\n",
       "      <td>1</td>\n",
       "      <td>2</td>\n",
       "      <td>2</td>\n",
       "      <td>1</td>\n",
       "      <td>1</td>\n",
       "    </tr>\n",
       "    <tr>\n",
       "      <th>AGE</th>\n",
       "      <td>24</td>\n",
       "      <td>26</td>\n",
       "      <td>34</td>\n",
       "      <td>37</td>\n",
       "      <td>57</td>\n",
       "    </tr>\n",
       "    <tr>\n",
       "      <th>PAY_0</th>\n",
       "      <td>2</td>\n",
       "      <td>-1</td>\n",
       "      <td>0</td>\n",
       "      <td>0</td>\n",
       "      <td>-1</td>\n",
       "    </tr>\n",
       "    <tr>\n",
       "      <th>PAY_2</th>\n",
       "      <td>2</td>\n",
       "      <td>2</td>\n",
       "      <td>0</td>\n",
       "      <td>0</td>\n",
       "      <td>0</td>\n",
       "    </tr>\n",
       "    <tr>\n",
       "      <th>PAY_3</th>\n",
       "      <td>-1</td>\n",
       "      <td>0</td>\n",
       "      <td>0</td>\n",
       "      <td>0</td>\n",
       "      <td>-1</td>\n",
       "    </tr>\n",
       "    <tr>\n",
       "      <th>PAY_4</th>\n",
       "      <td>-1</td>\n",
       "      <td>0</td>\n",
       "      <td>0</td>\n",
       "      <td>0</td>\n",
       "      <td>0</td>\n",
       "    </tr>\n",
       "    <tr>\n",
       "      <th>PAY_5</th>\n",
       "      <td>-2</td>\n",
       "      <td>0</td>\n",
       "      <td>0</td>\n",
       "      <td>0</td>\n",
       "      <td>0</td>\n",
       "    </tr>\n",
       "    <tr>\n",
       "      <th>PAY_6</th>\n",
       "      <td>-2</td>\n",
       "      <td>2</td>\n",
       "      <td>0</td>\n",
       "      <td>0</td>\n",
       "      <td>0</td>\n",
       "    </tr>\n",
       "    <tr>\n",
       "      <th>BILL_AMT1</th>\n",
       "      <td>3913</td>\n",
       "      <td>2682</td>\n",
       "      <td>29239</td>\n",
       "      <td>46990</td>\n",
       "      <td>8617</td>\n",
       "    </tr>\n",
       "    <tr>\n",
       "      <th>BILL_AMT2</th>\n",
       "      <td>3102</td>\n",
       "      <td>1725</td>\n",
       "      <td>14027</td>\n",
       "      <td>48233</td>\n",
       "      <td>5670</td>\n",
       "    </tr>\n",
       "    <tr>\n",
       "      <th>BILL_AMT3</th>\n",
       "      <td>689</td>\n",
       "      <td>2682</td>\n",
       "      <td>13559</td>\n",
       "      <td>49291</td>\n",
       "      <td>35835</td>\n",
       "    </tr>\n",
       "    <tr>\n",
       "      <th>BILL_AMT4</th>\n",
       "      <td>0</td>\n",
       "      <td>3272</td>\n",
       "      <td>14331</td>\n",
       "      <td>28314</td>\n",
       "      <td>20940</td>\n",
       "    </tr>\n",
       "    <tr>\n",
       "      <th>BILL_AMT5</th>\n",
       "      <td>0</td>\n",
       "      <td>3455</td>\n",
       "      <td>14948</td>\n",
       "      <td>28959</td>\n",
       "      <td>19146</td>\n",
       "    </tr>\n",
       "    <tr>\n",
       "      <th>BILL_AMT6</th>\n",
       "      <td>0</td>\n",
       "      <td>3261</td>\n",
       "      <td>15549</td>\n",
       "      <td>29547</td>\n",
       "      <td>19131</td>\n",
       "    </tr>\n",
       "    <tr>\n",
       "      <th>PAY_AMT1</th>\n",
       "      <td>0</td>\n",
       "      <td>0</td>\n",
       "      <td>1518</td>\n",
       "      <td>2000</td>\n",
       "      <td>2000</td>\n",
       "    </tr>\n",
       "    <tr>\n",
       "      <th>PAY_AMT2</th>\n",
       "      <td>689</td>\n",
       "      <td>1000</td>\n",
       "      <td>1500</td>\n",
       "      <td>2019</td>\n",
       "      <td>36681</td>\n",
       "    </tr>\n",
       "    <tr>\n",
       "      <th>PAY_AMT3</th>\n",
       "      <td>0</td>\n",
       "      <td>1000</td>\n",
       "      <td>1000</td>\n",
       "      <td>1200</td>\n",
       "      <td>10000</td>\n",
       "    </tr>\n",
       "    <tr>\n",
       "      <th>PAY_AMT4</th>\n",
       "      <td>0</td>\n",
       "      <td>1000</td>\n",
       "      <td>1000</td>\n",
       "      <td>1100</td>\n",
       "      <td>9000</td>\n",
       "    </tr>\n",
       "    <tr>\n",
       "      <th>PAY_AMT5</th>\n",
       "      <td>0</td>\n",
       "      <td>0</td>\n",
       "      <td>1000</td>\n",
       "      <td>1069</td>\n",
       "      <td>689</td>\n",
       "    </tr>\n",
       "    <tr>\n",
       "      <th>PAY_AMT6</th>\n",
       "      <td>0</td>\n",
       "      <td>2000</td>\n",
       "      <td>5000</td>\n",
       "      <td>1000</td>\n",
       "      <td>679</td>\n",
       "    </tr>\n",
       "    <tr>\n",
       "      <th>default payment next month</th>\n",
       "      <td>1</td>\n",
       "      <td>1</td>\n",
       "      <td>0</td>\n",
       "      <td>0</td>\n",
       "      <td>0</td>\n",
       "    </tr>\n",
       "  </tbody>\n",
       "</table>\n",
       "</div>"
      ],
      "text/plain": [
       "                                0       1      2      3      4\n",
       "ID                              1       2      3      4      5\n",
       "LIMIT_BAL                   20000  120000  90000  50000  50000\n",
       "SEX                             2       2      2      2      1\n",
       "EDUCATION                       2       2      2      2      2\n",
       "MARRIAGE                        1       2      2      1      1\n",
       "AGE                            24      26     34     37     57\n",
       "PAY_0                           2      -1      0      0     -1\n",
       "PAY_2                           2       2      0      0      0\n",
       "PAY_3                          -1       0      0      0     -1\n",
       "PAY_4                          -1       0      0      0      0\n",
       "PAY_5                          -2       0      0      0      0\n",
       "PAY_6                          -2       2      0      0      0\n",
       "BILL_AMT1                    3913    2682  29239  46990   8617\n",
       "BILL_AMT2                    3102    1725  14027  48233   5670\n",
       "BILL_AMT3                     689    2682  13559  49291  35835\n",
       "BILL_AMT4                       0    3272  14331  28314  20940\n",
       "BILL_AMT5                       0    3455  14948  28959  19146\n",
       "BILL_AMT6                       0    3261  15549  29547  19131\n",
       "PAY_AMT1                        0       0   1518   2000   2000\n",
       "PAY_AMT2                      689    1000   1500   2019  36681\n",
       "PAY_AMT3                        0    1000   1000   1200  10000\n",
       "PAY_AMT4                        0    1000   1000   1100   9000\n",
       "PAY_AMT5                        0       0   1000   1069    689\n",
       "PAY_AMT6                        0    2000   5000   1000    679\n",
       "default payment next month      1       1      0      0      0"
      ]
     },
     "execution_count": 3164,
     "metadata": {},
     "output_type": "execute_result"
    }
   ],
   "source": [
    "df.head().T"
   ]
  },
  {
   "cell_type": "code",
   "execution_count": 3165,
   "id": "34436290-7b41-4019-9574-1c09caf1a549",
   "metadata": {},
   "outputs": [
    {
     "name": "stdout",
     "output_type": "stream",
     "text": [
      "<class 'pandas.core.frame.DataFrame'>\n",
      "RangeIndex: 30000 entries, 0 to 29999\n",
      "Data columns (total 25 columns):\n",
      " #   Column                      Non-Null Count  Dtype\n",
      "---  ------                      --------------  -----\n",
      " 0   ID                          30000 non-null  int64\n",
      " 1   LIMIT_BAL                   30000 non-null  int64\n",
      " 2   SEX                         30000 non-null  int64\n",
      " 3   EDUCATION                   30000 non-null  int64\n",
      " 4   MARRIAGE                    30000 non-null  int64\n",
      " 5   AGE                         30000 non-null  int64\n",
      " 6   PAY_0                       30000 non-null  int64\n",
      " 7   PAY_2                       30000 non-null  int64\n",
      " 8   PAY_3                       30000 non-null  int64\n",
      " 9   PAY_4                       30000 non-null  int64\n",
      " 10  PAY_5                       30000 non-null  int64\n",
      " 11  PAY_6                       30000 non-null  int64\n",
      " 12  BILL_AMT1                   30000 non-null  int64\n",
      " 13  BILL_AMT2                   30000 non-null  int64\n",
      " 14  BILL_AMT3                   30000 non-null  int64\n",
      " 15  BILL_AMT4                   30000 non-null  int64\n",
      " 16  BILL_AMT5                   30000 non-null  int64\n",
      " 17  BILL_AMT6                   30000 non-null  int64\n",
      " 18  PAY_AMT1                    30000 non-null  int64\n",
      " 19  PAY_AMT2                    30000 non-null  int64\n",
      " 20  PAY_AMT3                    30000 non-null  int64\n",
      " 21  PAY_AMT4                    30000 non-null  int64\n",
      " 22  PAY_AMT5                    30000 non-null  int64\n",
      " 23  PAY_AMT6                    30000 non-null  int64\n",
      " 24  default payment next month  30000 non-null  int64\n",
      "dtypes: int64(25)\n",
      "memory usage: 5.7 MB\n"
     ]
    }
   ],
   "source": [
    "df.info() \n",
    "\n",
    "# there is no missing value\n",
    "# all variables are integer"
   ]
  },
  {
   "cell_type": "markdown",
   "id": "84051ef6-0b4e-4580-bc5b-f44a2fd7ec56",
   "metadata": {},
   "source": [
    "## Data Preparation and Cleaning"
   ]
  },
  {
   "cell_type": "code",
   "execution_count": 3166,
   "id": "2ed25157-513c-4e43-b876-d09fbb180f26",
   "metadata": {},
   "outputs": [],
   "source": [
    "# i will remove the id \n",
    "del df['ID']"
   ]
  },
  {
   "cell_type": "code",
   "execution_count": 3167,
   "id": "41d9811a-a3dc-4f6b-89e0-7a44169f49c0",
   "metadata": {},
   "outputs": [],
   "source": [
    "# rename the default payment next month \n",
    "df.rename(columns = {'default payment next month':'default_payment'}, inplace = True)"
   ]
  },
  {
   "cell_type": "code",
   "execution_count": 3168,
   "id": "f1b1b860-b065-47c8-a657-0d112752451b",
   "metadata": {},
   "outputs": [],
   "source": [
    "# rename the pay_0 to pay_1\n",
    "df.rename(columns = {'PAY_0':'PAY_1'}, inplace = True)"
   ]
  },
  {
   "cell_type": "code",
   "execution_count": 3169,
   "id": "e2bae0d1-44b7-4aab-b758-747fbd3a0d01",
   "metadata": {},
   "outputs": [],
   "source": [
    "# convert columns name  to lowercase\n",
    "df.columns = df.columns.str.lower()"
   ]
  },
  {
   "cell_type": "code",
   "execution_count": 3170,
   "id": "3a2a2857-88ae-40dc-820d-dc1b6351bf19",
   "metadata": {},
   "outputs": [
    {
     "name": "stderr",
     "output_type": "stream",
     "text": [
      "C:\\Users\\Administrator\\anaconda3\\lib\\site-packages\\IPython\\core\\displayhook.py:275: UserWarning: Output cache limit (currently 1000 entries) hit.\n",
      "Flushing oldest 200 entries.\n",
      "  warn('Output cache limit (currently {sz} entries) hit.\\n'\n"
     ]
    },
    {
     "data": {
      "text/plain": [
       "Index(['limit_bal', 'sex', 'education', 'marriage', 'age', 'pay_1', 'pay_2',\n",
       "       'pay_3', 'pay_4', 'pay_5', 'pay_6', 'bill_amt1', 'bill_amt2',\n",
       "       'bill_amt3', 'bill_amt4', 'bill_amt5', 'bill_amt6', 'pay_amt1',\n",
       "       'pay_amt2', 'pay_amt3', 'pay_amt4', 'pay_amt5', 'pay_amt6',\n",
       "       'default_payment'],\n",
       "      dtype='object')"
      ]
     },
     "execution_count": 3170,
     "metadata": {},
     "output_type": "execute_result"
    }
   ],
   "source": [
    "df.columns"
   ]
  },
  {
   "cell_type": "markdown",
   "id": "08371b56-7caa-461e-a3fc-c6d3ed19e90b",
   "metadata": {},
   "source": [
    "### Mapping on Categorilca Varieables"
   ]
  },
  {
   "cell_type": "markdown",
   "id": "bb0bf88d-be14-41c9-8d7b-cab764f0d6a0",
   "metadata": {
    "tags": []
   },
   "source": [
    "#### Categorical Variables \n",
    "\n",
    "- Sex: (1 = male; 2 = female).\n",
    "- Education: (1 = graduate school; 2 = university; 3 = high school; 4 = others).\n",
    "- Marial status: (1 = married; 2 = single; 3 = others).\n",
    "-  the repayment status in April, 2005. The measurement scale for the repayment status is: -1 = pay duly; 1 = payment delay for one month; 2 = payment delay for two months; . . .; 8 = payment delay for eight months; 9 = payment delay for nine months and above."
   ]
  },
  {
   "cell_type": "code",
   "execution_count": 3171,
   "id": "98550285-8bd5-4a09-9d70-e9bcd78ed60d",
   "metadata": {},
   "outputs": [
    {
     "data": {
      "text/plain": [
       "Index(['limit_bal', 'sex', 'education', 'marriage', 'age', 'pay_1', 'pay_2',\n",
       "       'pay_3', 'pay_4', 'pay_5', 'pay_6', 'bill_amt1', 'bill_amt2',\n",
       "       'bill_amt3', 'bill_amt4', 'bill_amt5', 'bill_amt6', 'pay_amt1',\n",
       "       'pay_amt2', 'pay_amt3', 'pay_amt4', 'pay_amt5', 'pay_amt6',\n",
       "       'default_payment'],\n",
       "      dtype='object')"
      ]
     },
     "execution_count": 3171,
     "metadata": {},
     "output_type": "execute_result"
    }
   ],
   "source": [
    "df.columns"
   ]
  },
  {
   "cell_type": "markdown",
   "id": "994175cb-1c68-42df-b1d9-12484b316b4e",
   "metadata": {
    "tags": []
   },
   "source": [
    "##### For Payment Status"
   ]
  },
  {
   "cell_type": "code",
   "execution_count": 3172,
   "id": "a2c1ba52-f3a4-4253-bd67-5faa48221bfc",
   "metadata": {
    "tags": []
   },
   "outputs": [
    {
     "name": "stdout",
     "output_type": "stream",
     "text": [
      "11\n",
      " 0    14737\n",
      "-1     5686\n",
      "Name: pay_1, dtype: int64\n",
      "11\n",
      " 0    15730\n",
      "-1     6050\n",
      "Name: pay_2, dtype: int64\n",
      "11\n",
      " 0    15764\n",
      "-1     5938\n",
      "Name: pay_3, dtype: int64\n",
      "11\n",
      " 0    16455\n",
      "-1     5687\n",
      "Name: pay_4, dtype: int64\n",
      "10\n",
      " 0    16947\n",
      "-1     5539\n",
      "Name: pay_5, dtype: int64\n",
      "10\n",
      " 0    16286\n",
      "-1     5740\n",
      "Name: pay_6, dtype: int64\n"
     ]
    }
   ],
   "source": [
    "pay_status = ['pay_1', 'pay_2',\n",
    "       'pay_3', 'pay_4', 'pay_5', 'pay_6']\n",
    "\n",
    "for i in pay_status:\n",
    "    print(df[i].nunique())\n",
    "    print(df[i].value_counts().head(2))"
   ]
  },
  {
   "cell_type": "code",
   "execution_count": 3173,
   "id": "1d16bec8-21a0-4fd4-a393-460c1c7d1e9c",
   "metadata": {},
   "outputs": [
    {
     "data": {
      "text/plain": [
       " 0    16455\n",
       "-1     5687\n",
       "Name: pay_4, dtype: int64"
      ]
     },
     "execution_count": 3173,
     "metadata": {},
     "output_type": "execute_result"
    }
   ],
   "source": [
    "df['pay_4'].value_counts().head(2)"
   ]
  },
  {
   "cell_type": "code",
   "execution_count": 3174,
   "id": "0b8cd340-5c6d-40fb-b761-d82d82be2333",
   "metadata": {
    "tags": []
   },
   "outputs": [
    {
     "data": {
      "text/plain": [
       " 0    16947\n",
       "-1     5539\n",
       "-2     4546\n",
       " 2     2626\n",
       " 3      178\n",
       " 4       84\n",
       " 7       58\n",
       " 5       17\n",
       " 6        4\n",
       " 8        1\n",
       "Name: pay_5, dtype: int64"
      ]
     },
     "execution_count": 3174,
     "metadata": {},
     "output_type": "execute_result"
    }
   ],
   "source": [
    "df['pay_5'].value_counts()"
   ]
  },
  {
   "cell_type": "markdown",
   "id": "a54b7047-5c84-411c-ac72-f4dc8c5c4c9f",
   "metadata": {},
   "source": [
    "- When we look at the dataset there is 0 values and we don't know what is zero it could be nan values so i don't use this variables.\n",
    "- Almost half of the data is 0 and we don't know exactly what 0 is, likewise there is an unknown -2."
   ]
  },
  {
   "cell_type": "markdown",
   "id": "275b2d19-5671-469a-a038-af26e67a4dab",
   "metadata": {},
   "source": [
    "- I will remove the values that are 0 from the dataset"
   ]
  },
  {
   "cell_type": "code",
   "execution_count": 3175,
   "id": "82de3800-4647-4dbc-af6b-01b672ce2c72",
   "metadata": {},
   "outputs": [],
   "source": [
    "for i in pay_status:\n",
    "    df = df.loc[(df[i] != 0)]\n"
   ]
  },
  {
   "cell_type": "markdown",
   "id": "245a817e-45d3-42c4-a4f1-d167a071a29a",
   "metadata": {
    "tags": []
   },
   "source": [
    "##### For sex"
   ]
  },
  {
   "cell_type": "code",
   "execution_count": 3176,
   "id": "cd3d351b-f42c-47d0-b0ce-3831b1d471a6",
   "metadata": {},
   "outputs": [
    {
     "data": {
      "text/plain": [
       "2    5580\n",
       "1    3247\n",
       "Name: sex, dtype: int64"
      ]
     },
     "execution_count": 3176,
     "metadata": {},
     "output_type": "execute_result"
    }
   ],
   "source": [
    "df.sex.value_counts() \n",
    "# there is no problem. \n",
    "# there are two types as know"
   ]
  },
  {
   "cell_type": "code",
   "execution_count": 3177,
   "id": "313afe0a-20a3-4065-8d84-b910deb904fe",
   "metadata": {},
   "outputs": [],
   "source": [
    "sex_values = {\n",
    "    1: 'male',\n",
    "    2: 'female'\n",
    "}\n",
    "\n",
    "df.sex = df.sex.map(sex_values)"
   ]
  },
  {
   "cell_type": "markdown",
   "id": "3bcf03fb-fca5-49e8-a2ce-60dece5c88a2",
   "metadata": {
    "tags": []
   },
   "source": [
    "##### For education"
   ]
  },
  {
   "cell_type": "code",
   "execution_count": 3178,
   "id": "91ca0dcf-a6cc-4308-88ce-169d94958199",
   "metadata": {
    "jp-MarkdownHeadingCollapsed": true,
    "tags": []
   },
   "outputs": [
    {
     "data": {
      "text/plain": [
       "1    4094\n",
       "2    3369\n",
       "3    1248\n",
       "5      50\n",
       "4      44\n",
       "6      13\n",
       "0       9\n",
       "Name: education, dtype: int64"
      ]
     },
     "execution_count": 3178,
     "metadata": {},
     "output_type": "execute_result"
    }
   ],
   "source": [
    "df.education.value_counts() \n",
    "# there is a problem. \n",
    "# there are 7 types but we just know about 4 types\n",
    "# Education: (1 = graduate school; 2 = university; 3 = high school; 4 = others).\n",
    "\n",
    "# so i will change 0, 5 and 6 to 4(other)"
   ]
  },
  {
   "cell_type": "code",
   "execution_count": 3179,
   "id": "1f1914e1-b3d6-4584-b802-d57331e749d6",
   "metadata": {},
   "outputs": [],
   "source": [
    "df['education'] =  df['education'].replace([0, 5, 6], 4)\n",
    "# now there are just 4 types"
   ]
  },
  {
   "cell_type": "code",
   "execution_count": 3180,
   "id": "e626a8bb-15b8-4c06-9cd7-4b821c6666a8",
   "metadata": {},
   "outputs": [],
   "source": [
    "education_values = {\n",
    "    1: 'graduate school',\n",
    "    2: 'university',\n",
    "    3: 'high school',\n",
    "    4: 'other'\n",
    "}\n",
    "\n",
    "df.education = df.education.map(education_values)"
   ]
  },
  {
   "cell_type": "markdown",
   "id": "d16336a4-4090-49af-b333-034c28bb785d",
   "metadata": {
    "tags": []
   },
   "source": [
    "##### For marriage"
   ]
  },
  {
   "cell_type": "code",
   "execution_count": 3181,
   "id": "1c23c697-aa46-4576-a7c4-52f0eb4d1e1f",
   "metadata": {},
   "outputs": [
    {
     "data": {
      "text/plain": [
       "1    4483\n",
       "2    4265\n",
       "3      59\n",
       "0      20\n",
       "Name: marriage, dtype: int64"
      ]
     },
     "execution_count": 3181,
     "metadata": {},
     "output_type": "execute_result"
    }
   ],
   "source": [
    "df.marriage.value_counts() \n",
    "# there is a problem. \n",
    "# there are 4 types but we just know about 3 types\n",
    "# Marial status: (1 = married; 2 = single; 3 = others).\n",
    "\n",
    "# so i will change 0 to 3(other)"
   ]
  },
  {
   "cell_type": "code",
   "execution_count": 3182,
   "id": "ea1aa12a-80e0-426a-9c1a-02f37555be79",
   "metadata": {},
   "outputs": [],
   "source": [
    "df['marriage'] =  df['marriage'].replace(0, 3)"
   ]
  },
  {
   "cell_type": "code",
   "execution_count": 3183,
   "id": "9a597bf1-e133-4113-ade1-62a3ceac629c",
   "metadata": {},
   "outputs": [],
   "source": [
    "marriage_values = {\n",
    "    1: 'married',\n",
    "    2: 'single',\n",
    "    3: 'other'\n",
    "}\n",
    "\n",
    "df.marriage = df.marriage.map(marriage_values)"
   ]
  },
  {
   "cell_type": "code",
   "execution_count": 3184,
   "id": "dd5b508c-e350-4e63-9f7b-3abb2d51a572",
   "metadata": {},
   "outputs": [],
   "source": [
    "#df['pay_1'] = df['pay_1'].astype(str) \n",
    "#df['pay_2'] = df['pay_2'].astype(str) \n",
    "#df['pay_3'] = df['pay_3'].astype(str) \n",
    "#df['pay_4'] = df['pay_4'].astype(str)  \n",
    "#df['pay_5'] = df['pay_5'].astype(str) \n",
    "#df['pay_6'] = df['pay_6'].astype(str) "
   ]
  },
  {
   "cell_type": "code",
   "execution_count": 3185,
   "id": "8b9637f5-b0ca-4c95-981a-b252db9c96ba",
   "metadata": {},
   "outputs": [
    {
     "data": {
      "text/html": [
       "<div>\n",
       "<style scoped>\n",
       "    .dataframe tbody tr th:only-of-type {\n",
       "        vertical-align: middle;\n",
       "    }\n",
       "\n",
       "    .dataframe tbody tr th {\n",
       "        vertical-align: top;\n",
       "    }\n",
       "\n",
       "    .dataframe thead th {\n",
       "        text-align: right;\n",
       "    }\n",
       "</style>\n",
       "<table border=\"1\" class=\"dataframe\">\n",
       "  <thead>\n",
       "    <tr style=\"text-align: right;\">\n",
       "      <th></th>\n",
       "      <th>limit_bal</th>\n",
       "      <th>sex</th>\n",
       "      <th>education</th>\n",
       "      <th>marriage</th>\n",
       "      <th>age</th>\n",
       "      <th>pay_1</th>\n",
       "      <th>pay_2</th>\n",
       "      <th>pay_3</th>\n",
       "      <th>pay_4</th>\n",
       "      <th>pay_5</th>\n",
       "      <th>...</th>\n",
       "      <th>bill_amt4</th>\n",
       "      <th>bill_amt5</th>\n",
       "      <th>bill_amt6</th>\n",
       "      <th>pay_amt1</th>\n",
       "      <th>pay_amt2</th>\n",
       "      <th>pay_amt3</th>\n",
       "      <th>pay_amt4</th>\n",
       "      <th>pay_amt5</th>\n",
       "      <th>pay_amt6</th>\n",
       "      <th>default_payment</th>\n",
       "    </tr>\n",
       "  </thead>\n",
       "  <tbody>\n",
       "    <tr>\n",
       "      <th>0</th>\n",
       "      <td>20000</td>\n",
       "      <td>female</td>\n",
       "      <td>university</td>\n",
       "      <td>married</td>\n",
       "      <td>24</td>\n",
       "      <td>2</td>\n",
       "      <td>2</td>\n",
       "      <td>-1</td>\n",
       "      <td>-1</td>\n",
       "      <td>-2</td>\n",
       "      <td>...</td>\n",
       "      <td>0</td>\n",
       "      <td>0</td>\n",
       "      <td>0</td>\n",
       "      <td>0</td>\n",
       "      <td>689</td>\n",
       "      <td>0</td>\n",
       "      <td>0</td>\n",
       "      <td>0</td>\n",
       "      <td>0</td>\n",
       "      <td>1</td>\n",
       "    </tr>\n",
       "    <tr>\n",
       "      <th>9</th>\n",
       "      <td>20000</td>\n",
       "      <td>male</td>\n",
       "      <td>high school</td>\n",
       "      <td>single</td>\n",
       "      <td>35</td>\n",
       "      <td>-2</td>\n",
       "      <td>-2</td>\n",
       "      <td>-2</td>\n",
       "      <td>-2</td>\n",
       "      <td>-1</td>\n",
       "      <td>...</td>\n",
       "      <td>0</td>\n",
       "      <td>13007</td>\n",
       "      <td>13912</td>\n",
       "      <td>0</td>\n",
       "      <td>0</td>\n",
       "      <td>0</td>\n",
       "      <td>13007</td>\n",
       "      <td>1122</td>\n",
       "      <td>0</td>\n",
       "      <td>0</td>\n",
       "    </tr>\n",
       "    <tr>\n",
       "      <th>11</th>\n",
       "      <td>260000</td>\n",
       "      <td>female</td>\n",
       "      <td>graduate school</td>\n",
       "      <td>single</td>\n",
       "      <td>51</td>\n",
       "      <td>-1</td>\n",
       "      <td>-1</td>\n",
       "      <td>-1</td>\n",
       "      <td>-1</td>\n",
       "      <td>-1</td>\n",
       "      <td>...</td>\n",
       "      <td>8517</td>\n",
       "      <td>22287</td>\n",
       "      <td>13668</td>\n",
       "      <td>21818</td>\n",
       "      <td>9966</td>\n",
       "      <td>8583</td>\n",
       "      <td>22301</td>\n",
       "      <td>0</td>\n",
       "      <td>3640</td>\n",
       "      <td>0</td>\n",
       "    </tr>\n",
       "    <tr>\n",
       "      <th>18</th>\n",
       "      <td>360000</td>\n",
       "      <td>female</td>\n",
       "      <td>graduate school</td>\n",
       "      <td>married</td>\n",
       "      <td>49</td>\n",
       "      <td>1</td>\n",
       "      <td>-2</td>\n",
       "      <td>-2</td>\n",
       "      <td>-2</td>\n",
       "      <td>-2</td>\n",
       "      <td>...</td>\n",
       "      <td>0</td>\n",
       "      <td>0</td>\n",
       "      <td>0</td>\n",
       "      <td>0</td>\n",
       "      <td>0</td>\n",
       "      <td>0</td>\n",
       "      <td>0</td>\n",
       "      <td>0</td>\n",
       "      <td>0</td>\n",
       "      <td>0</td>\n",
       "    </tr>\n",
       "    <tr>\n",
       "      <th>19</th>\n",
       "      <td>180000</td>\n",
       "      <td>female</td>\n",
       "      <td>graduate school</td>\n",
       "      <td>single</td>\n",
       "      <td>29</td>\n",
       "      <td>1</td>\n",
       "      <td>-2</td>\n",
       "      <td>-2</td>\n",
       "      <td>-2</td>\n",
       "      <td>-2</td>\n",
       "      <td>...</td>\n",
       "      <td>0</td>\n",
       "      <td>0</td>\n",
       "      <td>0</td>\n",
       "      <td>0</td>\n",
       "      <td>0</td>\n",
       "      <td>0</td>\n",
       "      <td>0</td>\n",
       "      <td>0</td>\n",
       "      <td>0</td>\n",
       "      <td>0</td>\n",
       "    </tr>\n",
       "  </tbody>\n",
       "</table>\n",
       "<p>5 rows × 24 columns</p>\n",
       "</div>"
      ],
      "text/plain": [
       "    limit_bal     sex        education marriage  age  pay_1  pay_2  pay_3  \\\n",
       "0       20000  female       university  married   24      2      2     -1   \n",
       "9       20000    male      high school   single   35     -2     -2     -2   \n",
       "11     260000  female  graduate school   single   51     -1     -1     -1   \n",
       "18     360000  female  graduate school  married   49      1     -2     -2   \n",
       "19     180000  female  graduate school   single   29      1     -2     -2   \n",
       "\n",
       "    pay_4  pay_5  ...  bill_amt4  bill_amt5  bill_amt6  pay_amt1  pay_amt2  \\\n",
       "0      -1     -2  ...          0          0          0         0       689   \n",
       "9      -2     -1  ...          0      13007      13912         0         0   \n",
       "11     -1     -1  ...       8517      22287      13668     21818      9966   \n",
       "18     -2     -2  ...          0          0          0         0         0   \n",
       "19     -2     -2  ...          0          0          0         0         0   \n",
       "\n",
       "    pay_amt3  pay_amt4  pay_amt5  pay_amt6  default_payment  \n",
       "0          0         0         0         0                1  \n",
       "9          0     13007      1122         0                0  \n",
       "11      8583     22301         0      3640                0  \n",
       "18         0         0         0         0                0  \n",
       "19         0         0         0         0                0  \n",
       "\n",
       "[5 rows x 24 columns]"
      ]
     },
     "execution_count": 3185,
     "metadata": {},
     "output_type": "execute_result"
    }
   ],
   "source": [
    "df.head()"
   ]
  },
  {
   "cell_type": "code",
   "execution_count": 3186,
   "id": "1a8402ef-4d87-4fe5-9715-d60f6f41cbbf",
   "metadata": {},
   "outputs": [
    {
     "name": "stdout",
     "output_type": "stream",
     "text": [
      "<class 'pandas.core.frame.DataFrame'>\n",
      "Int64Index: 8827 entries, 0 to 29994\n",
      "Data columns (total 24 columns):\n",
      " #   Column           Non-Null Count  Dtype \n",
      "---  ------           --------------  ----- \n",
      " 0   limit_bal        8827 non-null   int64 \n",
      " 1   sex              8827 non-null   object\n",
      " 2   education        8827 non-null   object\n",
      " 3   marriage         8827 non-null   object\n",
      " 4   age              8827 non-null   int64 \n",
      " 5   pay_1            8827 non-null   int64 \n",
      " 6   pay_2            8827 non-null   int64 \n",
      " 7   pay_3            8827 non-null   int64 \n",
      " 8   pay_4            8827 non-null   int64 \n",
      " 9   pay_5            8827 non-null   int64 \n",
      " 10  pay_6            8827 non-null   int64 \n",
      " 11  bill_amt1        8827 non-null   int64 \n",
      " 12  bill_amt2        8827 non-null   int64 \n",
      " 13  bill_amt3        8827 non-null   int64 \n",
      " 14  bill_amt4        8827 non-null   int64 \n",
      " 15  bill_amt5        8827 non-null   int64 \n",
      " 16  bill_amt6        8827 non-null   int64 \n",
      " 17  pay_amt1         8827 non-null   int64 \n",
      " 18  pay_amt2         8827 non-null   int64 \n",
      " 19  pay_amt3         8827 non-null   int64 \n",
      " 20  pay_amt4         8827 non-null   int64 \n",
      " 21  pay_amt5         8827 non-null   int64 \n",
      " 22  pay_amt6         8827 non-null   int64 \n",
      " 23  default_payment  8827 non-null   int64 \n",
      "dtypes: int64(21), object(3)\n",
      "memory usage: 1.7+ MB\n"
     ]
    }
   ],
   "source": [
    "df.info()"
   ]
  },
  {
   "cell_type": "markdown",
   "id": "3d0b2b6b-4b71-4bba-8dbf-f9e331986032",
   "metadata": {
    "tags": []
   },
   "source": [
    "### Split the Data"
   ]
  },
  {
   "cell_type": "markdown",
   "id": "a8dd76c2-d71a-44d1-af2c-90ff553e7abc",
   "metadata": {},
   "source": [
    "col_to_norm = ['limit_bal', 'age', 'bill_amt1', 'bill_amt2', 'bill_amt3', 'bill_amt4',\n",
    "       'bill_amt5', 'bill_amt6', 'pay_amt1', 'pay_amt2', 'pay_amt3',\n",
    "       'pay_amt4', 'pay_amt5', 'pay_amt6']\n",
    "df[col_to_norm] = df[col_to_norm].apply(lambda x : (x-np.mean(x))/np.std(x))"
   ]
  },
  {
   "cell_type": "code",
   "execution_count": 3187,
   "id": "7cc95715-eee0-41aa-93f9-d7ef93137611",
   "metadata": {},
   "outputs": [
    {
     "data": {
      "text/plain": [
       "Index(['limit_bal', 'sex', 'education', 'marriage', 'age', 'pay_1', 'pay_2',\n",
       "       'pay_3', 'pay_4', 'pay_5', 'pay_6', 'bill_amt1', 'bill_amt2',\n",
       "       'bill_amt3', 'bill_amt4', 'bill_amt5', 'bill_amt6', 'pay_amt1',\n",
       "       'pay_amt2', 'pay_amt3', 'pay_amt4', 'pay_amt5', 'pay_amt6',\n",
       "       'default_payment'],\n",
       "      dtype='object')"
      ]
     },
     "execution_count": 3187,
     "metadata": {},
     "output_type": "execute_result"
    }
   ],
   "source": [
    "df.columns"
   ]
  },
  {
   "cell_type": "code",
   "execution_count": 3188,
   "id": "5689326e-bdea-4a2e-a57b-d798f7f024dd",
   "metadata": {},
   "outputs": [],
   "source": [
    "new = [ 'limit_bal', 'sex', 'education', 'marriage', 'age', 'pay_1', 'pay_2',\n",
    "       'pay_3', 'pay_4', 'pay_5', 'pay_6', 'bill_amt6','pay_amt1',\n",
    "       'pay_amt2', 'pay_amt3', 'pay_amt4', 'pay_amt5', 'pay_amt6','default_payment']"
   ]
  },
  {
   "cell_type": "code",
   "execution_count": 3189,
   "id": "74f4352d-b888-46e7-8d4f-31d782ed1de7",
   "metadata": {},
   "outputs": [],
   "source": [
    "#df = df[new]"
   ]
  },
  {
   "cell_type": "code",
   "execution_count": 3190,
   "id": "8a426d79-8204-4373-bc5c-e2955e6fc8a4",
   "metadata": {},
   "outputs": [],
   "source": [
    "# split data train - valid - test ==> %60 - %20 - %20"
   ]
  },
  {
   "cell_type": "code",
   "execution_count": 3191,
   "id": "ba9629f4-1114-421a-874f-2c2366dcfb66",
   "metadata": {},
   "outputs": [],
   "source": [
    "df_full_train, df_test = train_test_split(df, test_size=0.2, random_state= 53)"
   ]
  },
  {
   "cell_type": "code",
   "execution_count": 3192,
   "id": "820cc84c-712a-43d0-9cd0-338893e096af",
   "metadata": {},
   "outputs": [],
   "source": [
    "df_train, df_val = train_test_split(df_full_train, test_size= 0.25, random_state=53)"
   ]
  },
  {
   "cell_type": "code",
   "execution_count": 3193,
   "id": "6f924284",
   "metadata": {},
   "outputs": [],
   "source": [
    "df_train = df_train.reset_index(drop=True)\n",
    "df_val = df_val.reset_index(drop=True)\n",
    "df_test = df_test.reset_index(drop=True)"
   ]
  },
  {
   "cell_type": "code",
   "execution_count": 3194,
   "id": "61326776-5956-48ef-8dc6-a84d93a1a866",
   "metadata": {},
   "outputs": [
    {
     "data": {
      "text/plain": [
       "((5295, 24), (1766, 24), (1766, 24))"
      ]
     },
     "execution_count": 3194,
     "metadata": {},
     "output_type": "execute_result"
    }
   ],
   "source": [
    "df_train.shape, df_val.shape, df_test.shape\n",
    "# splitting is succesful"
   ]
  },
  {
   "cell_type": "markdown",
   "id": "17e6f5f3-c338-46e2-9250-481c3dc9b2af",
   "metadata": {},
   "source": [
    "#### Create y"
   ]
  },
  {
   "cell_type": "code",
   "execution_count": 3195,
   "id": "781551e8-0dfd-4811-aab4-ec51ca577468",
   "metadata": {},
   "outputs": [],
   "source": [
    "y_full_train = df_full_train.default_payment.values\n",
    "y_train = df_train.default_payment.values\n",
    "y_val = df_val.default_payment.values\n",
    "y_test = df_test.default_payment.values"
   ]
  },
  {
   "cell_type": "code",
   "execution_count": 3196,
   "id": "cf512172-5aa9-451c-a5fc-1100595bf54b",
   "metadata": {},
   "outputs": [],
   "source": [
    "del df_full_train['default_payment']\n",
    "del df_train['default_payment']\n",
    "del df_val['default_payment']\n",
    "del df_test['default_payment']\n"
   ]
  },
  {
   "cell_type": "markdown",
   "id": "4e758e59-4514-401f-b117-cef9d65eb640",
   "metadata": {},
   "source": [
    "#### Dict Vectorizer"
   ]
  },
  {
   "cell_type": "code",
   "execution_count": 3197,
   "id": "68ff059a-af4f-49b1-80f7-4f6ce473a7d9",
   "metadata": {},
   "outputs": [],
   "source": [
    "full_train_dicts = df_full_train.to_dict(orient='records')\n",
    "train_dicts = df_train.to_dict(orient='records')\n",
    "val_dicts = df_val.to_dict(orient='records')\n",
    "test_dicts = df_test.to_dict(orient='records')"
   ]
  },
  {
   "cell_type": "code",
   "execution_count": 3198,
   "id": "deea54b5-295c-459a-8468-52fc2d0a5caf",
   "metadata": {},
   "outputs": [],
   "source": [
    "dv = DictVectorizer(sparse=False)"
   ]
  },
  {
   "cell_type": "markdown",
   "id": "8479c323-399e-4360-8fa1-dd25942cbbf7",
   "metadata": {},
   "source": [
    "##### Create X"
   ]
  },
  {
   "cell_type": "code",
   "execution_count": 3199,
   "id": "32aaa368-c0c8-4d98-8158-00788bf666e7",
   "metadata": {},
   "outputs": [],
   "source": [
    "X_full_train =  dv.fit_transform(full_train_dicts)\n",
    "X_train = dv.transform(train_dicts)\n",
    "X_val = dv.transform(val_dicts)\n",
    "X_test = dv.transform(test_dicts)"
   ]
  },
  {
   "cell_type": "code",
   "execution_count": 3200,
   "id": "77a6517c-42f0-4952-a22a-0345c1d208f1",
   "metadata": {},
   "outputs": [
    {
     "data": {
      "text/plain": [
       "array(['age', 'bill_amt1', 'bill_amt2', 'bill_amt3', 'bill_amt4',\n",
       "       'bill_amt5', 'bill_amt6', 'education=graduate school',\n",
       "       'education=high school', 'education=other', 'education=university',\n",
       "       'limit_bal', 'marriage=married', 'marriage=other',\n",
       "       'marriage=single', 'pay_1', 'pay_2', 'pay_3', 'pay_4', 'pay_5',\n",
       "       'pay_6', 'pay_amt1', 'pay_amt2', 'pay_amt3', 'pay_amt4',\n",
       "       'pay_amt5', 'pay_amt6', 'sex=female', 'sex=male'], dtype=object)"
      ]
     },
     "execution_count": 3200,
     "metadata": {},
     "output_type": "execute_result"
    }
   ],
   "source": [
    "dv.get_feature_names_out()"
   ]
  },
  {
   "cell_type": "markdown",
   "id": "4b8b43ee-f924-46eb-98aa-a64a41c1a061",
   "metadata": {
    "tags": []
   },
   "source": [
    "## EDA"
   ]
  },
  {
   "cell_type": "markdown",
   "id": "e6f168aa-7d58-4919-8822-f663e4502308",
   "metadata": {},
   "source": [
    "### Data Preprocessing"
   ]
  },
  {
   "cell_type": "code",
   "execution_count": 3201,
   "id": "d3531e30-6098-4d51-aab8-97f1e16d454d",
   "metadata": {},
   "outputs": [
    {
     "data": {
      "text/plain": [
       "Index(['limit_bal', 'sex', 'education', 'marriage', 'age', 'pay_1', 'pay_2',\n",
       "       'pay_3', 'pay_4', 'pay_5', 'pay_6', 'bill_amt1', 'bill_amt2',\n",
       "       'bill_amt3', 'bill_amt4', 'bill_amt5', 'bill_amt6', 'pay_amt1',\n",
       "       'pay_amt2', 'pay_amt3', 'pay_amt4', 'pay_amt5', 'pay_amt6',\n",
       "       'default_payment'],\n",
       "      dtype='object')"
      ]
     },
     "execution_count": 3201,
     "metadata": {},
     "output_type": "execute_result"
    }
   ],
   "source": [
    "df.columns"
   ]
  },
  {
   "cell_type": "code",
   "execution_count": 3202,
   "id": "2d0d09d4-4720-4bd2-b759-a1e909a6f2de",
   "metadata": {},
   "outputs": [],
   "source": [
    "pay_amt = ['pay_amt1','pay_amt2', 'pay_amt3', 'pay_amt4', 'pay_amt5', 'pay_amt6']"
   ]
  },
  {
   "cell_type": "code",
   "execution_count": 3203,
   "id": "f8a9c149-2b0a-4e7d-93fd-95b00c343757",
   "metadata": {},
   "outputs": [
    {
     "data": {
      "text/html": [
       "<div>\n",
       "<style scoped>\n",
       "    .dataframe tbody tr th:only-of-type {\n",
       "        vertical-align: middle;\n",
       "    }\n",
       "\n",
       "    .dataframe tbody tr th {\n",
       "        vertical-align: top;\n",
       "    }\n",
       "\n",
       "    .dataframe thead th {\n",
       "        text-align: right;\n",
       "    }\n",
       "</style>\n",
       "<table border=\"1\" class=\"dataframe\">\n",
       "  <thead>\n",
       "    <tr style=\"text-align: right;\">\n",
       "      <th></th>\n",
       "      <th>pay_amt1</th>\n",
       "      <th>pay_amt2</th>\n",
       "      <th>pay_amt3</th>\n",
       "      <th>pay_amt4</th>\n",
       "      <th>pay_amt5</th>\n",
       "      <th>pay_amt6</th>\n",
       "    </tr>\n",
       "  </thead>\n",
       "  <tbody>\n",
       "    <tr>\n",
       "      <th>count</th>\n",
       "      <td>8827.0</td>\n",
       "      <td>8827.0</td>\n",
       "      <td>8827.0</td>\n",
       "      <td>8827.0</td>\n",
       "      <td>8827.0</td>\n",
       "      <td>8827.0</td>\n",
       "    </tr>\n",
       "    <tr>\n",
       "      <th>mean</th>\n",
       "      <td>4152.8</td>\n",
       "      <td>4304.7</td>\n",
       "      <td>3990.1</td>\n",
       "      <td>3850.5</td>\n",
       "      <td>4250.5</td>\n",
       "      <td>4377.8</td>\n",
       "    </tr>\n",
       "    <tr>\n",
       "      <th>std</th>\n",
       "      <td>12310.7</td>\n",
       "      <td>22027.2</td>\n",
       "      <td>13024.4</td>\n",
       "      <td>11689.5</td>\n",
       "      <td>14950.6</td>\n",
       "      <td>15868.9</td>\n",
       "    </tr>\n",
       "    <tr>\n",
       "      <th>min</th>\n",
       "      <td>0.0</td>\n",
       "      <td>0.0</td>\n",
       "      <td>0.0</td>\n",
       "      <td>0.0</td>\n",
       "      <td>0.0</td>\n",
       "      <td>0.0</td>\n",
       "    </tr>\n",
       "    <tr>\n",
       "      <th>25%</th>\n",
       "      <td>0.0</td>\n",
       "      <td>0.0</td>\n",
       "      <td>0.0</td>\n",
       "      <td>0.0</td>\n",
       "      <td>0.0</td>\n",
       "      <td>0.0</td>\n",
       "    </tr>\n",
       "    <tr>\n",
       "      <th>50%</th>\n",
       "      <td>770.0</td>\n",
       "      <td>641.0</td>\n",
       "      <td>527.0</td>\n",
       "      <td>530.0</td>\n",
       "      <td>477.0</td>\n",
       "      <td>423.0</td>\n",
       "    </tr>\n",
       "    <tr>\n",
       "      <th>75%</th>\n",
       "      <td>3500.0</td>\n",
       "      <td>3384.0</td>\n",
       "      <td>3063.0</td>\n",
       "      <td>2915.0</td>\n",
       "      <td>3000.0</td>\n",
       "      <td>2956.0</td>\n",
       "    </tr>\n",
       "    <tr>\n",
       "      <th>max</th>\n",
       "      <td>298887.0</td>\n",
       "      <td>1684259.0</td>\n",
       "      <td>417588.0</td>\n",
       "      <td>265852.0</td>\n",
       "      <td>379267.0</td>\n",
       "      <td>403500.0</td>\n",
       "    </tr>\n",
       "  </tbody>\n",
       "</table>\n",
       "</div>"
      ],
      "text/plain": [
       "       pay_amt1   pay_amt2  pay_amt3  pay_amt4  pay_amt5  pay_amt6\n",
       "count    8827.0     8827.0    8827.0    8827.0    8827.0    8827.0\n",
       "mean     4152.8     4304.7    3990.1    3850.5    4250.5    4377.8\n",
       "std     12310.7    22027.2   13024.4   11689.5   14950.6   15868.9\n",
       "min         0.0        0.0       0.0       0.0       0.0       0.0\n",
       "25%         0.0        0.0       0.0       0.0       0.0       0.0\n",
       "50%       770.0      641.0     527.0     530.0     477.0     423.0\n",
       "75%      3500.0     3384.0    3063.0    2915.0    3000.0    2956.0\n",
       "max    298887.0  1684259.0  417588.0  265852.0  379267.0  403500.0"
      ]
     },
     "execution_count": 3203,
     "metadata": {},
     "output_type": "execute_result"
    }
   ],
   "source": [
    "df[pay_amt].describe().round(1)\n",
    "\n",
    "# there is an anamolly in pay_amt2\n",
    "# pay_amt2 max value is very big."
   ]
  },
  {
   "cell_type": "code",
   "execution_count": 3204,
   "id": "02775ac2-134e-4105-9fcf-ebedaa16b2ef",
   "metadata": {},
   "outputs": [],
   "source": [
    "bill_amt =['bill_amt1', 'bill_amt2','bill_amt3', 'bill_amt4', 'bill_amt5', 'bill_amt6']"
   ]
  },
  {
   "cell_type": "code",
   "execution_count": 3205,
   "id": "b77cf5aa-1b02-4217-95f7-c3657bee1cdd",
   "metadata": {},
   "outputs": [
    {
     "data": {
      "text/html": [
       "<div>\n",
       "<style scoped>\n",
       "    .dataframe tbody tr th:only-of-type {\n",
       "        vertical-align: middle;\n",
       "    }\n",
       "\n",
       "    .dataframe tbody tr th {\n",
       "        vertical-align: top;\n",
       "    }\n",
       "\n",
       "    .dataframe thead th {\n",
       "        text-align: right;\n",
       "    }\n",
       "</style>\n",
       "<table border=\"1\" class=\"dataframe\">\n",
       "  <thead>\n",
       "    <tr style=\"text-align: right;\">\n",
       "      <th></th>\n",
       "      <th>bill_amt1</th>\n",
       "      <th>bill_amt2</th>\n",
       "      <th>bill_amt3</th>\n",
       "      <th>bill_amt4</th>\n",
       "      <th>bill_amt5</th>\n",
       "      <th>bill_amt6</th>\n",
       "    </tr>\n",
       "  </thead>\n",
       "  <tbody>\n",
       "    <tr>\n",
       "      <th>count</th>\n",
       "      <td>8827.0</td>\n",
       "      <td>8827.0</td>\n",
       "      <td>8827.0</td>\n",
       "      <td>8827.0</td>\n",
       "      <td>8827.0</td>\n",
       "      <td>8827.0</td>\n",
       "    </tr>\n",
       "    <tr>\n",
       "      <th>mean</th>\n",
       "      <td>13590.4</td>\n",
       "      <td>12969.1</td>\n",
       "      <td>12859.5</td>\n",
       "      <td>12527.7</td>\n",
       "      <td>12292.8</td>\n",
       "      <td>12582.6</td>\n",
       "    </tr>\n",
       "    <tr>\n",
       "      <th>std</th>\n",
       "      <td>35577.9</td>\n",
       "      <td>34308.5</td>\n",
       "      <td>38161.2</td>\n",
       "      <td>34028.1</td>\n",
       "      <td>33266.4</td>\n",
       "      <td>34404.8</td>\n",
       "    </tr>\n",
       "    <tr>\n",
       "      <th>min</th>\n",
       "      <td>-14386.0</td>\n",
       "      <td>-69777.0</td>\n",
       "      <td>-61506.0</td>\n",
       "      <td>-65167.0</td>\n",
       "      <td>-53007.0</td>\n",
       "      <td>-339603.0</td>\n",
       "    </tr>\n",
       "    <tr>\n",
       "      <th>25%</th>\n",
       "      <td>108.0</td>\n",
       "      <td>0.0</td>\n",
       "      <td>0.0</td>\n",
       "      <td>0.0</td>\n",
       "      <td>0.0</td>\n",
       "      <td>0.0</td>\n",
       "    </tr>\n",
       "    <tr>\n",
       "      <th>50%</th>\n",
       "      <td>1761.0</td>\n",
       "      <td>1427.0</td>\n",
       "      <td>1160.0</td>\n",
       "      <td>1006.0</td>\n",
       "      <td>952.0</td>\n",
       "      <td>986.0</td>\n",
       "    </tr>\n",
       "    <tr>\n",
       "      <th>75%</th>\n",
       "      <td>9124.0</td>\n",
       "      <td>8457.5</td>\n",
       "      <td>8041.5</td>\n",
       "      <td>7742.5</td>\n",
       "      <td>7501.5</td>\n",
       "      <td>7670.5</td>\n",
       "    </tr>\n",
       "    <tr>\n",
       "      <th>max</th>\n",
       "      <td>581775.0</td>\n",
       "      <td>572677.0</td>\n",
       "      <td>1664089.0</td>\n",
       "      <td>486776.0</td>\n",
       "      <td>503914.0</td>\n",
       "      <td>527711.0</td>\n",
       "    </tr>\n",
       "  </tbody>\n",
       "</table>\n",
       "</div>"
      ],
      "text/plain": [
       "       bill_amt1  bill_amt2  bill_amt3  bill_amt4  bill_amt5  bill_amt6\n",
       "count     8827.0     8827.0     8827.0     8827.0     8827.0     8827.0\n",
       "mean     13590.4    12969.1    12859.5    12527.7    12292.8    12582.6\n",
       "std      35577.9    34308.5    38161.2    34028.1    33266.4    34404.8\n",
       "min     -14386.0   -69777.0   -61506.0   -65167.0   -53007.0  -339603.0\n",
       "25%        108.0        0.0        0.0        0.0        0.0        0.0\n",
       "50%       1761.0     1427.0     1160.0     1006.0      952.0      986.0\n",
       "75%       9124.0     8457.5     8041.5     7742.5     7501.5     7670.5\n",
       "max     581775.0   572677.0  1664089.0   486776.0   503914.0   527711.0"
      ]
     },
     "execution_count": 3205,
     "metadata": {},
     "output_type": "execute_result"
    }
   ],
   "source": [
    "df[bill_amt].describe().round(1)"
   ]
  },
  {
   "cell_type": "markdown",
   "id": "560dce45-68b1-413a-b2a2-b7361bc8eb54",
   "metadata": {},
   "source": [
    "#### Vale Ranges"
   ]
  },
  {
   "cell_type": "code",
   "execution_count": 3206,
   "id": "40aa590d-7163-46ac-a01b-c3a688e3d67b",
   "metadata": {},
   "outputs": [],
   "source": [
    "cVar =  ['limit_bal','age','bill_amt1','pay_amt2'] # continuous var"
   ]
  },
  {
   "cell_type": "code",
   "execution_count": 3207,
   "id": "94bc3c0a-846d-4cd2-ad50-9d2b3a9e0a7c",
   "metadata": {},
   "outputs": [
    {
     "data": {
      "text/html": [
       "<div>\n",
       "<style scoped>\n",
       "    .dataframe tbody tr th:only-of-type {\n",
       "        vertical-align: middle;\n",
       "    }\n",
       "\n",
       "    .dataframe tbody tr th {\n",
       "        vertical-align: top;\n",
       "    }\n",
       "\n",
       "    .dataframe thead th {\n",
       "        text-align: right;\n",
       "    }\n",
       "</style>\n",
       "<table border=\"1\" class=\"dataframe\">\n",
       "  <thead>\n",
       "    <tr style=\"text-align: right;\">\n",
       "      <th></th>\n",
       "      <th>limit_bal</th>\n",
       "      <th>age</th>\n",
       "      <th>bill_amt1</th>\n",
       "      <th>pay_amt2</th>\n",
       "    </tr>\n",
       "  </thead>\n",
       "  <tbody>\n",
       "    <tr>\n",
       "      <th>count</th>\n",
       "      <td>8827.0</td>\n",
       "      <td>8827.0</td>\n",
       "      <td>8827.0</td>\n",
       "      <td>8827.0</td>\n",
       "    </tr>\n",
       "    <tr>\n",
       "      <th>mean</th>\n",
       "      <td>199872.0</td>\n",
       "      <td>36.7</td>\n",
       "      <td>13590.4</td>\n",
       "      <td>4304.7</td>\n",
       "    </tr>\n",
       "    <tr>\n",
       "      <th>std</th>\n",
       "      <td>128347.9</td>\n",
       "      <td>9.0</td>\n",
       "      <td>35577.9</td>\n",
       "      <td>22027.2</td>\n",
       "    </tr>\n",
       "    <tr>\n",
       "      <th>min</th>\n",
       "      <td>10000.0</td>\n",
       "      <td>21.0</td>\n",
       "      <td>-14386.0</td>\n",
       "      <td>0.0</td>\n",
       "    </tr>\n",
       "    <tr>\n",
       "      <th>25%</th>\n",
       "      <td>100000.0</td>\n",
       "      <td>30.0</td>\n",
       "      <td>108.0</td>\n",
       "      <td>0.0</td>\n",
       "    </tr>\n",
       "    <tr>\n",
       "      <th>50%</th>\n",
       "      <td>190000.0</td>\n",
       "      <td>35.0</td>\n",
       "      <td>1761.0</td>\n",
       "      <td>641.0</td>\n",
       "    </tr>\n",
       "    <tr>\n",
       "      <th>75%</th>\n",
       "      <td>280000.0</td>\n",
       "      <td>42.0</td>\n",
       "      <td>9124.0</td>\n",
       "      <td>3384.0</td>\n",
       "    </tr>\n",
       "    <tr>\n",
       "      <th>max</th>\n",
       "      <td>800000.0</td>\n",
       "      <td>75.0</td>\n",
       "      <td>581775.0</td>\n",
       "      <td>1684259.0</td>\n",
       "    </tr>\n",
       "  </tbody>\n",
       "</table>\n",
       "</div>"
      ],
      "text/plain": [
       "       limit_bal     age  bill_amt1   pay_amt2\n",
       "count     8827.0  8827.0     8827.0     8827.0\n",
       "mean    199872.0    36.7    13590.4     4304.7\n",
       "std     128347.9     9.0    35577.9    22027.2\n",
       "min      10000.0    21.0   -14386.0        0.0\n",
       "25%     100000.0    30.0      108.0        0.0\n",
       "50%     190000.0    35.0     1761.0      641.0\n",
       "75%     280000.0    42.0     9124.0     3384.0\n",
       "max     800000.0    75.0   581775.0  1684259.0"
      ]
     },
     "execution_count": 3207,
     "metadata": {},
     "output_type": "execute_result"
    }
   ],
   "source": [
    "df[cVar].describe().round(1)"
   ]
  },
  {
   "cell_type": "code",
   "execution_count": 3208,
   "id": "4cb60ea9-96f6-4579-9d8c-d0f32e6287ab",
   "metadata": {},
   "outputs": [
    {
     "name": "stdout",
     "output_type": "stream",
     "text": [
      "It is seen that there are different value ranges.\n",
      "10000 800000\n",
      "21 75\n",
      "-14386 581775\n",
      "0 1684259\n"
     ]
    }
   ],
   "source": [
    "print('It is seen that there are different value ranges.')\n",
    "print(df.limit_bal.min(), df.limit_bal.max())\n",
    "print(df.age.min(), df.age.max())\n",
    "print(df.bill_amt1.min(), df.bill_amt1.max())\n",
    "print(df.pay_amt2.min(), df.pay_amt2.max())"
   ]
  },
  {
   "cell_type": "markdown",
   "id": "75413dbd-621a-4fd6-a1fa-e72d536a82fd",
   "metadata": {},
   "source": [
    "### Data Visualization"
   ]
  },
  {
   "cell_type": "markdown",
   "id": "95041b42-38c6-4c2c-8742-8c1cdb93d2e2",
   "metadata": {
    "tags": []
   },
   "source": [
    "#### Histogram"
   ]
  },
  {
   "cell_type": "markdown",
   "id": "275f861e-f451-4ccc-a02c-6fee142c9717",
   "metadata": {
    "tags": []
   },
   "source": [
    "##### Amount of previous payment "
   ]
  },
  {
   "cell_type": "code",
   "execution_count": 3209,
   "id": "d385a6db-dc3e-4444-bd18-f8530550b52e",
   "metadata": {},
   "outputs": [
    {
     "data": {
      "text/plain": [
       "0       3211\n",
       "390      139\n",
       "2000     124\n",
       "3000      73\n",
       "1000      65\n",
       "Name: pay_amt1, dtype: int64"
      ]
     },
     "execution_count": 3209,
     "metadata": {},
     "output_type": "execute_result"
    }
   ],
   "source": [
    "df['pay_amt1'].value_counts().head()"
   ]
  },
  {
   "cell_type": "code",
   "execution_count": 3210,
   "id": "e8081333-0113-47ba-9b21-725ab4b6f905",
   "metadata": {},
   "outputs": [
    {
     "data": {
      "image/png": "[encoded data removed]",
      "text/plain": [
       "<Figure size 432x288 with 1 Axes>"
      ]
     },
     "metadata": {
      "needs_background": "light"
     },
     "output_type": "display_data"
    }
   ],
   "source": [
    "# Linear scale\n",
    "plt.hist('pay_amt1', data =df)\n",
    "\n",
    "plt.show()\n",
    "\n",
    "# we could not get a meaningful plot"
   ]
  },
  {
   "cell_type": "code",
   "execution_count": 3211,
   "id": "ccad07f2-7d0c-4e18-a7d6-a262537549cc",
   "metadata": {},
   "outputs": [
    {
     "data": {
      "image/png": "[encoded data removed]",
      "text/plain": [
       "<Figure size 432x288 with 1 Axes>"
      ]
     },
     "metadata": {
      "needs_background": "light"
     },
     "output_type": "display_data"
    }
   ],
   "source": [
    "# Log scale\n",
    "plt.hist('pay_amt1', log = True, data =df)\n",
    "\n",
    "plt.show()\n",
    "\n",
    "# right skewed"
   ]
  },
  {
   "cell_type": "code",
   "execution_count": 3212,
   "id": "adb4f2e9-18c0-41d0-a4e7-c101a5c8017c",
   "metadata": {},
   "outputs": [
    {
     "data": {
      "image/png": "[encoded data removed]",
      "text/plain": [
       "<Figure size 432x288 with 1 Axes>"
      ]
     },
     "metadata": {
      "needs_background": "light"
     },
     "output_type": "display_data"
    }
   ],
   "source": [
    "# Linear scale\n",
    "plt.hist('pay_amt1', data =df,range = [0, 20000])\n",
    "\n",
    "plt.show()\n",
    "\n",
    "# between 0 -20k range there is a right skewed data."
   ]
  },
  {
   "cell_type": "code",
   "execution_count": 3213,
   "id": "05c00ce1-adb4-421b-9bf1-79798c9f3d06",
   "metadata": {
    "tags": []
   },
   "outputs": [
    {
     "data": {
      "image/png": "[encoded data removed]",
      "text/plain": [
       "<Figure size 720x504 with 6 Axes>"
      ]
     },
     "metadata": {
      "needs_background": "light"
     },
     "output_type": "display_data"
    }
   ],
   "source": [
    "# we can see the distribution of pay amounts with log values\n",
    "\n",
    "figure, axis = plt.subplots(2, 3, figsize=(10, 7))\n",
    "figure = figsize=(3, 3)\n",
    "  \n",
    "# For Sine Function\n",
    "axis[0, 0].hist(np.log1p(df['pay_amt1']))\n",
    "axis[0, 0].set_title(\"PM Sept\")\n",
    "  \n",
    "# For Cosine Function\n",
    "axis[0, 1].hist(np.log1p(df['pay_amt2']))\n",
    "axis[0, 1].set_title(\"PM Aug\")\n",
    "\n",
    "# For Cosine Function\n",
    "axis[0, 2].hist(np.log1p(df['pay_amt3']))\n",
    "axis[0, 2].set_title(\"PM Jul\")\n",
    "  \n",
    "# For Tangent Function\n",
    "axis[1, 0].hist(np.log1p(df['pay_amt4']))\n",
    "axis[1, 0].set_title(\"PM Jun\")\n",
    "  \n",
    "# For Tanh Function\n",
    "axis[1, 1].hist(np.log1p(df['pay_amt5']))\n",
    "axis[1, 1].set_title(\"PM May\")\n",
    "\n",
    "# For Tanh Function\n",
    "axis[1, 2].hist(np.log1p(df['pay_amt6']))\n",
    "axis[1, 2].set_title(\"PM Apr\")\n",
    "  \n",
    "# Combine all the operations and display\n",
    "plt.show()"
   ]
  },
  {
   "cell_type": "markdown",
   "id": "d57cc695-195b-47b6-9f19-f4021be5bfb1",
   "metadata": {
    "tags": []
   },
   "source": [
    "##### Amount of bill statement "
   ]
  },
  {
   "cell_type": "code",
   "execution_count": 3214,
   "id": "3bfb71d8-60b5-44b6-9e97-756eae5a6a91",
   "metadata": {},
   "outputs": [
    {
     "data": {
      "text/plain": [
       "0       1733\n",
       "390      175\n",
       "2500      58\n",
       "316       55\n",
       "780       52\n",
       "Name: bill_amt1, dtype: int64"
      ]
     },
     "execution_count": 3214,
     "metadata": {},
     "output_type": "execute_result"
    }
   ],
   "source": [
    "df['bill_amt1'].value_counts().head()"
   ]
  },
  {
   "cell_type": "code",
   "execution_count": 3215,
   "id": "750b8ecf-8ed8-49f5-8548-4a072511ef7c",
   "metadata": {},
   "outputs": [
    {
     "data": {
      "text/plain": [
       "count      8827.000000\n",
       "mean      13590.405574\n",
       "std       35577.931198\n",
       "min      -14386.000000\n",
       "25%         108.000000\n",
       "50%        1761.000000\n",
       "75%        9124.000000\n",
       "max      581775.000000\n",
       "Name: bill_amt1, dtype: float64"
      ]
     },
     "execution_count": 3215,
     "metadata": {},
     "output_type": "execute_result"
    }
   ],
   "source": [
    "df['bill_amt1'].describe()"
   ]
  },
  {
   "cell_type": "code",
   "execution_count": 3216,
   "id": "5c9116c9-51b3-44af-a35f-578fb12faa58",
   "metadata": {},
   "outputs": [
    {
     "data": {
      "image/png": "[encoded data removed]",
      "text/plain": [
       "<Figure size 432x288 with 1 Axes>"
      ]
     },
     "metadata": {
      "needs_background": "light"
     },
     "output_type": "display_data"
    }
   ],
   "source": [
    "# Linear scale\n",
    "plt.hist('bill_amt1', data =df)\n",
    "\n",
    "plt.show()\n",
    "\n",
    "# we could not get a meaningful plot"
   ]
  },
  {
   "cell_type": "code",
   "execution_count": 3217,
   "id": "47a23f30-9522-4309-aea7-249f33175990",
   "metadata": {},
   "outputs": [
    {
     "data": {
      "image/png": "[encoded data removed]",
      "text/plain": [
       "<Figure size 432x288 with 1 Axes>"
      ]
     },
     "metadata": {
      "needs_background": "light"
     },
     "output_type": "display_data"
    }
   ],
   "source": [
    "# Log scale\n",
    "plt.hist('bill_amt1', log = True, data =df)\n",
    "\n",
    "plt.show()\n",
    "\n",
    "# right skewed"
   ]
  },
  {
   "cell_type": "code",
   "execution_count": 3218,
   "id": "8aaf95b6-613e-4352-a189-5f313843e11f",
   "metadata": {},
   "outputs": [
    {
     "data": {
      "text/plain": [
       "29985        0\n",
       "29986     2220\n",
       "29989     3425\n",
       "29991     2500\n",
       "29994    72557\n",
       "Name: bill_amt1, dtype: int64"
      ]
     },
     "execution_count": 3218,
     "metadata": {},
     "output_type": "execute_result"
    }
   ],
   "source": [
    "df['bill_amt1'].tail()"
   ]
  },
  {
   "cell_type": "markdown",
   "id": "2afc5f91-f4bf-4dec-afe7-70ef766bdc50",
   "metadata": {
    "tags": []
   },
   "source": [
    "#### Box plot"
   ]
  },
  {
   "cell_type": "markdown",
   "id": "7b956b37-30c9-4b1b-a401-c3bfaa82bfd6",
   "metadata": {
    "tags": []
   },
   "source": [
    "##### Amount of previous payment "
   ]
  },
  {
   "cell_type": "code",
   "execution_count": 3219,
   "id": "33745639-42fa-4850-8ade-070e108a6bb1",
   "metadata": {},
   "outputs": [
    {
     "data": {
      "image/png": "[encoded data removed]",
      "text/plain": [
       "<Figure size 432x288 with 1 Axes>"
      ]
     },
     "metadata": {
      "needs_background": "light"
     },
     "output_type": "display_data"
    }
   ],
   "source": [
    "# Lienar scale\n",
    "plt.boxplot('pay_amt1', vert=False, data =df)\n",
    "\n",
    "plt.show()\n",
    "\n",
    "# there is a lot of outlier"
   ]
  },
  {
   "cell_type": "code",
   "execution_count": 3220,
   "id": "d92aa8b8-a640-4da7-b4d1-06a163abed89",
   "metadata": {},
   "outputs": [
    {
     "data": {
      "image/png": "[encoded data removed]",
      "text/plain": [
       "<Figure size 1008x504 with 6 Axes>"
      ]
     },
     "metadata": {
      "needs_background": "light"
     },
     "output_type": "display_data"
    }
   ],
   "source": [
    "# we can see the outliers of pay amounts\n",
    "\n",
    "figure, axis = plt.subplots(2, 3, figsize=(14, 7))\n",
    "\n",
    "axis[0, 0].boxplot('pay_amt1', vert=False, data =df)\n",
    "axis[0, 0].set_title(\"PA Sept\")\n",
    "  \n",
    "axis[0, 1].boxplot('pay_amt2', vert=False, data =df)\n",
    "axis[0, 1].set_title(\"PA Aug\")\n",
    "\n",
    "axis[0, 2].boxplot('pay_amt3', vert=False, data =df)\n",
    "axis[0, 2].set_title(\"PA Jul\")\n",
    "  \n",
    "axis[1, 0].boxplot('pay_amt4', vert=False, data =df)\n",
    "axis[1, 0].set_title(\"PA Jun\")\n",
    "  \n",
    "axis[1, 1].boxplot('pay_amt5', vert=False, data =df)\n",
    "axis[1, 1].set_title(\"PA May\")\n",
    "\n",
    "axis[1, 2].boxplot('pay_amt6', vert=False, data =df)\n",
    "axis[1, 2].set_title(\"PA Apr\")\n",
    "  \n",
    "# Combine all the operations and display\n",
    "plt.show()"
   ]
  },
  {
   "cell_type": "markdown",
   "id": "1421a157-b208-401e-9148-06190e73bbf4",
   "metadata": {
    "tags": []
   },
   "source": [
    "##### Amount of bill statement "
   ]
  },
  {
   "cell_type": "code",
   "execution_count": 3221,
   "id": "f996b9f8-64ef-43ac-a381-a86cced6de67",
   "metadata": {},
   "outputs": [
    {
     "data": {
      "image/png": "[encoded data removed]",
      "text/plain": [
       "<Figure size 432x288 with 1 Axes>"
      ]
     },
     "metadata": {
      "needs_background": "light"
     },
     "output_type": "display_data"
    }
   ],
   "source": [
    "# Lienar scale\n",
    "plt.boxplot('bill_amt1', vert=False, data =df)\n",
    "\n",
    "plt.show()\n",
    "\n",
    "# there is a lot of outlier"
   ]
  },
  {
   "cell_type": "code",
   "execution_count": 3222,
   "id": "87419c03-46d0-4b90-b2fb-9fee0cd089d5",
   "metadata": {},
   "outputs": [
    {
     "data": {
      "image/png": "[encoded data removed]",
      "text/plain": [
       "<Figure size 1008x504 with 6 Axes>"
      ]
     },
     "metadata": {
      "needs_background": "light"
     },
     "output_type": "display_data"
    }
   ],
   "source": [
    "# we can see the outliers of pay amounts\n",
    "\n",
    "figure, axis = plt.subplots(2, 3, figsize=(14, 7))\n",
    "\n",
    "axis[0, 0].boxplot('bill_amt1', vert=False, data =df)\n",
    "axis[0, 0].set_title(\"BA Sept\")\n",
    "  \n",
    "axis[0, 1].boxplot('bill_amt2', vert=False, data =df)\n",
    "axis[0, 1].set_title(\"BA Aug\")\n",
    "\n",
    "axis[0, 2].boxplot('bill_amt3', vert=False, data =df)\n",
    "axis[0, 2].set_title(\"BA Jul\")\n",
    "  \n",
    "axis[1, 0].boxplot('bill_amt4', vert=False, data =df)\n",
    "axis[1, 0].set_title(\"BA Jun\")\n",
    "  \n",
    "axis[1, 1].boxplot('bill_amt5', vert=False, data =df)\n",
    "axis[1, 1].set_title(\"BA May\")\n",
    "\n",
    "axis[1, 2].boxplot('bill_amt6', vert=False, data =df)\n",
    "axis[1, 2].set_title(\"BA Apr\")\n",
    "  \n",
    "# Combine all the operations and display\n",
    "plt.show()"
   ]
  },
  {
   "cell_type": "markdown",
   "id": "99d59085-e1aa-4833-91d7-a5f18f851220",
   "metadata": {
    "tags": []
   },
   "source": [
    "#### Count plot"
   ]
  },
  {
   "cell_type": "code",
   "execution_count": 3223,
   "id": "1406e8cd-f7f1-48ac-92cd-59472442e607",
   "metadata": {},
   "outputs": [
    {
     "data": {
      "image/png": "[encoded data removed]",
      "text/plain": [
       "<Figure size 864x720 with 4 Axes>"
      ]
     },
     "metadata": {
      "needs_background": "light"
     },
     "output_type": "display_data"
    }
   ],
   "source": [
    "# we can see the outliers of pay amounts\n",
    "\n",
    "figure, axis = plt.subplots(2, 2, figsize=(12,10 ))\n",
    "  \n",
    "sns.countplot(ax=axis[0,0], x=df['default_payment'])\n",
    "axis[0,0].set_title('Default Payment')\n",
    "\n",
    "# For Cosine Function\n",
    "sns.countplot(ax=axis[0,1], x=df['sex'])\n",
    "axis[0, 1].set_title(\"Sex\")\n",
    "\n",
    "\n",
    "sns.countplot(ax=axis[1,0], x=df['education'])\n",
    "axis[1, 0].set_title(\"Education\")\n",
    "  \n",
    "# For Tanh Function\n",
    "sns.countplot(ax=axis[1,1], x=df['marriage'])\n",
    "axis[1, 1].set_title(\"Marriage\")\n",
    "\n",
    "\n",
    "# Combine all the operations and display\n",
    "plt.show()"
   ]
  },
  {
   "cell_type": "markdown",
   "id": "c2a5e615-c3ff-4638-a716-7c10768a60ed",
   "metadata": {},
   "source": [
    "##### Look at the target variable"
   ]
  },
  {
   "cell_type": "code",
   "execution_count": 3224,
   "id": "efb74c57-838a-4ae7-9a59-b23feceae64c",
   "metadata": {},
   "outputs": [],
   "source": [
    "# our target variable is default_payment \n",
    "# default payment (Yes = 1, No = 0)"
   ]
  },
  {
   "cell_type": "code",
   "execution_count": 3225,
   "id": "cc14fcf7-35dc-4d22-9e98-d15d6bb0e176",
   "metadata": {},
   "outputs": [
    {
     "data": {
      "text/plain": [
       "0    0.729353\n",
       "1    0.270647\n",
       "Name: default_payment, dtype: float64"
      ]
     },
     "execution_count": 3225,
     "metadata": {},
     "output_type": "execute_result"
    }
   ],
   "source": [
    "df.default_payment.value_counts(normalize=True)"
   ]
  },
  {
   "cell_type": "code",
   "execution_count": 3226,
   "id": "0e97ecb8-589f-4827-bc7f-405e8b01da8e",
   "metadata": {},
   "outputs": [
    {
     "data": {
      "image/png": "[encoded data removed]",
      "text/plain": [
       "<Figure size 432x288 with 1 Axes>"
      ]
     },
     "metadata": {
      "needs_background": "light"
     },
     "output_type": "display_data"
    }
   ],
   "source": [
    "sns.countplot(x='default_payment',hue = 'sex', data=df)\n",
    "plt.show()"
   ]
  },
  {
   "cell_type": "code",
   "execution_count": 3227,
   "id": "c9500052-13cd-4ac7-a9e8-38889c46e8bc",
   "metadata": {},
   "outputs": [
    {
     "data": {
      "image/png": "[encoded data removed]",
      "text/plain": [
       "<Figure size 432x288 with 1 Axes>"
      ]
     },
     "metadata": {
      "needs_background": "light"
     },
     "output_type": "display_data"
    }
   ],
   "source": [
    "sns.countplot(x='default_payment',hue = 'education', data=df)\n",
    "plt.show()"
   ]
  },
  {
   "cell_type": "code",
   "execution_count": 3228,
   "id": "dbe415b0-0e6b-4797-a205-28bead2a4cb3",
   "metadata": {},
   "outputs": [
    {
     "data": {
      "image/png": "[encoded data removed]",
      "text/plain": [
       "<Figure size 432x288 with 1 Axes>"
      ]
     },
     "metadata": {
      "needs_background": "light"
     },
     "output_type": "display_data"
    }
   ],
   "source": [
    "sns.countplot(x='default_payment',hue = 'marriage', data=df)\n",
    "plt.show()"
   ]
  },
  {
   "cell_type": "markdown",
   "id": "87c673e8-86fe-4599-9bf7-1923a7f265b6",
   "metadata": {
    "tags": []
   },
   "source": [
    "##  Feature importance"
   ]
  },
  {
   "cell_type": "markdown",
   "id": "53760404-3623-458f-b192-50f37fc224b2",
   "metadata": {
    "tags": []
   },
   "source": [
    "### Mutual information"
   ]
  },
  {
   "cell_type": "code",
   "execution_count": 3229,
   "id": "03bbe547",
   "metadata": {},
   "outputs": [],
   "source": [
    "def mutual_info_default_pay(series):\n",
    "    return mutual_info_score(series, df.default_payment)"
   ]
  },
  {
   "cell_type": "code",
   "execution_count": 3252,
   "id": "d6692b03-1749-4454-848c-cf411df12d26",
   "metadata": {},
   "outputs": [],
   "source": [
    "categorical = ['sex', 'education', 'marriage', 'pay_1', 'pay_2',\n",
    "       'pay_3', 'pay_4', 'pay_5', 'pay_6']"
   ]
  },
  {
   "cell_type": "code",
   "execution_count": 3253,
   "id": "36729306-d0c2-482c-babf-0d4feaff7e16",
   "metadata": {
    "tags": []
   },
   "outputs": [],
   "source": [
    "mi = df[categorical].apply(mutual_info_default_pay)"
   ]
  },
  {
   "cell_type": "code",
   "execution_count": 3254,
   "id": "7fc670ed",
   "metadata": {},
   "outputs": [
    {
     "data": {
      "text/plain": [
       "pay_1        0.086407\n",
       "pay_2        0.078619\n",
       "pay_5        0.075346\n",
       "pay_4        0.074768\n",
       "pay_3        0.072600\n",
       "pay_6        0.072244\n",
       "education    0.006688\n",
       "sex          0.001533\n",
       "marriage     0.000076\n",
       "dtype: float64"
      ]
     },
     "execution_count": 3254,
     "metadata": {},
     "output_type": "execute_result"
    }
   ],
   "source": [
    "mi.sort_values(ascending=False)"
   ]
  },
  {
   "cell_type": "code",
   "execution_count": 3255,
   "id": "2aee0009-e00d-4f52-9765-87b7b038cd8c",
   "metadata": {},
   "outputs": [],
   "source": [
    "mi = mi.sort_values(ascending=True)"
   ]
  },
  {
   "cell_type": "code",
   "execution_count": 3257,
   "id": "6c1cdbda-5f02-4460-ba19-f83216add976",
   "metadata": {},
   "outputs": [
    {
     "data": {
      "image/png": "[encoded data removed]",
      "text/plain": [
       "<Figure size 432x288 with 1 Axes>"
      ]
     },
     "metadata": {
      "needs_background": "light"
     },
     "output_type": "display_data"
    }
   ],
   "source": [
    "plt.barh(mi.index, mi.values)\n",
    "plt.show()"
   ]
  },
  {
   "cell_type": "markdown",
   "id": "4f559511-88ff-4a0b-a91e-19778ffa4adc",
   "metadata": {
    "tags": []
   },
   "source": [
    "### Correlation"
   ]
  },
  {
   "cell_type": "code",
   "execution_count": 3247,
   "id": "7d7ddbd5-9c48-4acb-a5c7-542ded1e2672",
   "metadata": {},
   "outputs": [],
   "source": [
    "numerical = ['limit_bal', 'age', 'bill_amt1', 'bill_amt2',\n",
    "       'bill_amt3', 'bill_amt4', 'bill_amt5', 'bill_amt6', 'pay_amt1',\n",
    "       'pay_amt2', 'pay_amt3', 'pay_amt4', 'pay_amt5', 'pay_amt6']"
   ]
  },
  {
   "cell_type": "code",
   "execution_count": 3248,
   "id": "30f0ad09-24e8-4918-97a1-a1a4df744179",
   "metadata": {},
   "outputs": [
    {
     "data": {
      "text/plain": [
       "bill_amt5    0.200493\n",
       "limit_bal    0.193820\n",
       "bill_amt6    0.188855\n",
       "bill_amt4    0.188629\n",
       "bill_amt2    0.184384\n",
       "bill_amt1    0.174515\n",
       "bill_amt3    0.162707\n",
       "pay_amt1     0.105207\n",
       "pay_amt3     0.087770\n",
       "pay_amt4     0.083947\n",
       "pay_amt5     0.080658\n",
       "pay_amt6     0.074752\n",
       "pay_amt2     0.059574\n",
       "age          0.019194\n",
       "dtype: float64"
      ]
     },
     "execution_count": 3248,
     "metadata": {},
     "output_type": "execute_result"
    }
   ],
   "source": [
    "df[numerical].corrwith(df.default_payment).abs().sort_values(ascending=False)"
   ]
  },
  {
   "cell_type": "markdown",
   "id": "d080a93e-5179-4d49-b5a4-8f73edc55d4c",
   "metadata": {
    "tags": []
   },
   "source": [
    "## Logistic Regression"
   ]
  },
  {
   "cell_type": "code",
   "execution_count": 3258,
   "id": "e7488ffb-db7f-443a-8e3b-c2ff16e617df",
   "metadata": {},
   "outputs": [],
   "source": [
    "model = LogisticRegression(max_iter= 300)"
   ]
  },
  {
   "cell_type": "markdown",
   "id": "6091bc00-34ec-4615-82b6-0cd1ea656b5b",
   "metadata": {
    "jp-MarkdownHeadingCollapsed": true,
    "tags": []
   },
   "source": [
    "- when solver is sag i got this warning \n",
    "\n",
    "ConvergenceWarning: The max_iter was reached which means the coef_ did not converge\n",
    "\n",
    "- when solver is lbfgs i got this warning\n",
    "\n",
    "ConvergenceWarning: lbfgs failed to converge (status=1):\n",
    "STOP: TOTAL NO. of ITERATIONS REACHED LIMIT\n",
    "\n",
    "- to solve this warning i set max_iter > 200"
   ]
  },
  {
   "cell_type": "code",
   "execution_count": 3259,
   "id": "9f3282b7-cadb-4767-b6aa-a9434310ae73",
   "metadata": {},
   "outputs": [
    {
     "data": {
      "text/plain": [
       "LogisticRegression(max_iter=300)"
      ]
     },
     "execution_count": 3259,
     "metadata": {},
     "output_type": "execute_result"
    }
   ],
   "source": [
    "model.fit(X_train, y_train )"
   ]
  },
  {
   "cell_type": "code",
   "execution_count": 3260,
   "id": "ce1be5c3-2f1f-441a-96ee-a2b5ca0f4f54",
   "metadata": {},
   "outputs": [
    {
     "data": {
      "text/plain": [
       "0.7644394110985278"
      ]
     },
     "execution_count": 3260,
     "metadata": {},
     "output_type": "execute_result"
    }
   ],
   "source": [
    "model.score(X_val, y_val)"
   ]
  },
  {
   "cell_type": "code",
   "execution_count": 3261,
   "id": "7d7887f5-8c82-4ea5-9c10-6a0730192c6c",
   "metadata": {},
   "outputs": [
    {
     "data": {
      "text/plain": [
       "0.7746319365798414"
      ]
     },
     "execution_count": 3261,
     "metadata": {},
     "output_type": "execute_result"
    }
   ],
   "source": [
    "model.score(X_test, y_test)"
   ]
  },
  {
   "cell_type": "code",
   "execution_count": 3123,
   "id": "d5102bd1-4e68-4966-b875-4b1745913c6d",
   "metadata": {},
   "outputs": [],
   "source": [
    "y_pred = model.predict_proba(X_val)[:,1]"
   ]
  },
  {
   "cell_type": "code",
   "execution_count": 3264,
   "id": "e9f98949-02ce-4164-911b-966390d1c6f0",
   "metadata": {},
   "outputs": [
    {
     "data": {
      "text/plain": [
       "0.7595124096150088"
      ]
     },
     "execution_count": 3264,
     "metadata": {},
     "output_type": "execute_result"
    }
   ],
   "source": [
    "roc_auc_score(y_val,y_pred)"
   ]
  },
  {
   "cell_type": "code",
   "execution_count": 3130,
   "id": "ce86f364",
   "metadata": {},
   "outputs": [],
   "source": [
    "model = LogisticRegression(max_iter=600)"
   ]
  },
  {
   "cell_type": "code",
   "execution_count": 3271,
   "id": "04671eb0-8c26-478a-bcb8-cf9694ad620c",
   "metadata": {},
   "outputs": [
    {
     "data": {
      "text/plain": [
       "LogisticRegression(max_iter=600)"
      ]
     },
     "execution_count": 3271,
     "metadata": {},
     "output_type": "execute_result"
    }
   ],
   "source": [
    "model.fit(X_full_train, y_full_train)"
   ]
  },
  {
   "cell_type": "code",
   "execution_count": 3272,
   "id": "55235abe-6e00-4ac6-9f59-835a82aa8020",
   "metadata": {},
   "outputs": [
    {
     "data": {
      "text/plain": [
       "0.7978482446206115"
      ]
     },
     "execution_count": 3272,
     "metadata": {},
     "output_type": "execute_result"
    }
   ],
   "source": [
    "model.score(X_test, y_test)"
   ]
  },
  {
   "cell_type": "code",
   "execution_count": 3273,
   "id": "3d98b8f8-28e3-4d3a-a2f7-a0fe12220cb9",
   "metadata": {},
   "outputs": [],
   "source": [
    "y_pred = model.predict_proba(X_test)[:,1]"
   ]
  },
  {
   "cell_type": "code",
   "execution_count": 3274,
   "id": "7095d7fa-07c5-482f-bb6f-83e53d69e203",
   "metadata": {},
   "outputs": [
    {
     "data": {
      "text/plain": [
       "0.7745737698234743"
      ]
     },
     "execution_count": 3274,
     "metadata": {},
     "output_type": "execute_result"
    }
   ],
   "source": [
    "roc_auc_score(y_test,y_pred)"
   ]
  },
  {
   "cell_type": "markdown",
   "id": "8d99cce1-3028-4ef9-a1df-335ba8b98dec",
   "metadata": {
    "tags": []
   },
   "source": [
    "## Decision Trees"
   ]
  },
  {
   "cell_type": "code",
   "execution_count": 3275,
   "id": "3e37a3ce-2ef6-48bd-9b37-0ff352fab463",
   "metadata": {},
   "outputs": [],
   "source": [
    "dt = DecisionTreeClassifier()"
   ]
  },
  {
   "cell_type": "code",
   "execution_count": 3276,
   "id": "4deb8525-bf30-4a98-9b84-f5d7d30b9cb8",
   "metadata": {},
   "outputs": [
    {
     "data": {
      "text/plain": [
       "DecisionTreeClassifier()"
      ]
     },
     "execution_count": 3276,
     "metadata": {},
     "output_type": "execute_result"
    }
   ],
   "source": [
    "dt.fit(X_train, y_train)"
   ]
  },
  {
   "cell_type": "code",
   "execution_count": 3277,
   "id": "6f24a6ce-4053-478f-894f-a6b9859de881",
   "metadata": {},
   "outputs": [
    {
     "data": {
      "text/plain": [
       "0.6891279728199321"
      ]
     },
     "execution_count": 3277,
     "metadata": {},
     "output_type": "execute_result"
    }
   ],
   "source": [
    "dt.score(X_val, y_val)"
   ]
  },
  {
   "cell_type": "code",
   "execution_count": 3278,
   "id": "11e1aa35-6ab0-4a1c-80b1-aec9750f37bd",
   "metadata": {},
   "outputs": [],
   "source": [
    "y_pred = dt.predict_proba(X_val)[:,1]"
   ]
  },
  {
   "cell_type": "code",
   "execution_count": 3279,
   "id": "9d1795bc-026e-479f-8e23-51f74d052e82",
   "metadata": {},
   "outputs": [
    {
     "data": {
      "text/plain": [
       "0.6201289818252883"
      ]
     },
     "execution_count": 3279,
     "metadata": {},
     "output_type": "execute_result"
    }
   ],
   "source": [
    "roc_auc_score(y_val,y_pred)"
   ]
  },
  {
   "cell_type": "markdown",
   "id": "d3068c23-6922-4076-9439-989955a98263",
   "metadata": {},
   "source": [
    "* selecting `max_depth`\n",
    "* selecting `min_samples_leaf`"
   ]
  },
  {
   "cell_type": "code",
   "execution_count": 3280,
   "id": "030081cf-7d50-489e-a8ef-1c9683fb6dfe",
   "metadata": {},
   "outputs": [
    {
     "name": "stdout",
     "output_type": "stream",
     "text": [
      "   1 -> 0.704 -> 0.790\n",
      "   2 -> 0.749 -> 0.794\n",
      "   3 -> 0.755 -> 0.790\n",
      "   4 -> 0.750 -> 0.786\n",
      "   5 -> 0.750 -> 0.792\n",
      "   6 -> 0.746 -> 0.789\n",
      "   7 -> 0.739 -> 0.787\n",
      "   8 -> 0.731 -> 0.781\n",
      "   9 -> 0.721 -> 0.783\n",
      "  10 -> 0.703 -> 0.772\n",
      "  15 -> 0.664 -> 0.738\n",
      "  20 -> 0.638 -> 0.713\n",
      "None -> 0.617 -> 0.683\n"
     ]
    }
   ],
   "source": [
    "depths = [1, 2, 3, 4, 5, 6,7,8,9,10, 15, 20, None]\n",
    "\n",
    "for depth in depths: \n",
    "    dt = DecisionTreeClassifier(max_depth=depth)\n",
    "    dt.fit(X_train, y_train)\n",
    "    \n",
    "    y_pred = dt.predict_proba(X_val)[:, 1]\n",
    "    auc = roc_auc_score(y_val, y_pred)\n",
    "    score = dt.score(X_val, y_val)\n",
    "    print('%4s -> %.3f -> %.3f' % (depth, auc,score))\n",
    "    \n",
    "# best depth is 3"
   ]
  },
  {
   "cell_type": "code",
   "execution_count": 3281,
   "id": "5c9b8564-d1f0-4f71-858c-e74f2d92dfbd",
   "metadata": {},
   "outputs": [],
   "source": [
    "from sklearn.metrics import  accuracy_score, f1_score, precision_score, recall_score, roc_auc_score,mean_absolute_error,mean_squared_error,r2_score\n"
   ]
  },
  {
   "cell_type": "code",
   "execution_count": 3282,
   "id": "cb3c455c-7098-467d-b03e-ab9c4711e610",
   "metadata": {},
   "outputs": [],
   "source": [
    "scores = []\n",
    "# [1, 5, 10, 15, 20, 500, 100, 200]\n",
    "for depth in [2,3, 4,5]:\n",
    "    for s in range(1,110):\n",
    "        dt = DecisionTreeClassifier(max_depth=depth, min_samples_leaf=s)\n",
    "        dt.fit(X_train, y_train)\n",
    "\n",
    "        y_pred = dt.predict_proba(X_val)[:, 1]\n",
    "        y_pred2 = dt.predict(X_val)\n",
    "        auc=roc_auc_score(y_val, y_pred)\n",
    "        acc = accuracy_score(y_val, y_pred2 )\n",
    "        prec = precision_score(y_val, y_pred2)\n",
    "        rec = recall_score(y_val, y_pred2)\n",
    "        f1 = f1_score(y_val, y_pred2)\n",
    "        mae = mean_absolute_error(y_val,y_pred)\n",
    "        mse = mean_squared_error(y_val,y_pred)\n",
    "        rms =  mean_squared_error(y_val,y_pred, squared=False)\n",
    "        r2 = r2_score(y_val,y_pred)\n",
    "        \n",
    "        scores.append((depth, s, auc,acc,prec,rec,f1,mae,mse,rms,r2))"
   ]
  },
  {
   "cell_type": "code",
   "execution_count": 3283,
   "id": "d23b3577-daf0-4fa9-9d7e-9f8dc727100e",
   "metadata": {},
   "outputs": [],
   "source": [
    "columns = ['max_depth', 'min_samples_leaf', 'auc','acc','prec','rec','f1','mae','mse','rms','r2']\n",
    "df_scores = pd.DataFrame(scores, columns=columns)"
   ]
  },
  {
   "cell_type": "code",
   "execution_count": 3287,
   "id": "acaef611-4140-4cfd-8be9-2bf0a323e98e",
   "metadata": {
    "tags": []
   },
   "outputs": [
    {
     "data": {
      "text/html": [
       "<div>\n",
       "<style scoped>\n",
       "    .dataframe tbody tr th:only-of-type {\n",
       "        vertical-align: middle;\n",
       "    }\n",
       "\n",
       "    .dataframe tbody tr th {\n",
       "        vertical-align: top;\n",
       "    }\n",
       "\n",
       "    .dataframe thead th {\n",
       "        text-align: right;\n",
       "    }\n",
       "</style>\n",
       "<table border=\"1\" class=\"dataframe\">\n",
       "  <thead>\n",
       "    <tr style=\"text-align: right;\">\n",
       "      <th></th>\n",
       "      <th>max_depth</th>\n",
       "      <th>min_samples_leaf</th>\n",
       "      <th>auc</th>\n",
       "      <th>acc</th>\n",
       "      <th>prec</th>\n",
       "      <th>rec</th>\n",
       "      <th>f1</th>\n",
       "      <th>mae</th>\n",
       "      <th>mse</th>\n",
       "      <th>rms</th>\n",
       "      <th>r2</th>\n",
       "    </tr>\n",
       "  </thead>\n",
       "  <tbody>\n",
       "    <tr>\n",
       "      <th>217</th>\n",
       "      <td>3</td>\n",
       "      <td>109</td>\n",
       "      <td>0.760915</td>\n",
       "      <td>0.793318</td>\n",
       "      <td>0.656338</td>\n",
       "      <td>0.489496</td>\n",
       "      <td>0.560770</td>\n",
       "      <td>0.308855</td>\n",
       "      <td>0.154161</td>\n",
       "      <td>0.392634</td>\n",
       "      <td>0.217003</td>\n",
       "    </tr>\n",
       "    <tr>\n",
       "      <th>216</th>\n",
       "      <td>3</td>\n",
       "      <td>108</td>\n",
       "      <td>0.760774</td>\n",
       "      <td>0.793318</td>\n",
       "      <td>0.656338</td>\n",
       "      <td>0.489496</td>\n",
       "      <td>0.560770</td>\n",
       "      <td>0.308869</td>\n",
       "      <td>0.154395</td>\n",
       "      <td>0.392932</td>\n",
       "      <td>0.215814</td>\n",
       "    </tr>\n",
       "    <tr>\n",
       "      <th>215</th>\n",
       "      <td>3</td>\n",
       "      <td>107</td>\n",
       "      <td>0.760633</td>\n",
       "      <td>0.793318</td>\n",
       "      <td>0.656338</td>\n",
       "      <td>0.489496</td>\n",
       "      <td>0.560770</td>\n",
       "      <td>0.308969</td>\n",
       "      <td>0.154568</td>\n",
       "      <td>0.393152</td>\n",
       "      <td>0.214937</td>\n",
       "    </tr>\n",
       "    <tr>\n",
       "      <th>214</th>\n",
       "      <td>3</td>\n",
       "      <td>106</td>\n",
       "      <td>0.760633</td>\n",
       "      <td>0.793318</td>\n",
       "      <td>0.656338</td>\n",
       "      <td>0.489496</td>\n",
       "      <td>0.560770</td>\n",
       "      <td>0.308978</td>\n",
       "      <td>0.154590</td>\n",
       "      <td>0.393180</td>\n",
       "      <td>0.214823</td>\n",
       "    </tr>\n",
       "    <tr>\n",
       "      <th>213</th>\n",
       "      <td>3</td>\n",
       "      <td>105</td>\n",
       "      <td>0.760633</td>\n",
       "      <td>0.793318</td>\n",
       "      <td>0.656338</td>\n",
       "      <td>0.489496</td>\n",
       "      <td>0.560770</td>\n",
       "      <td>0.308987</td>\n",
       "      <td>0.154614</td>\n",
       "      <td>0.393210</td>\n",
       "      <td>0.214705</td>\n",
       "    </tr>\n",
       "    <tr>\n",
       "      <th>...</th>\n",
       "      <td>...</td>\n",
       "      <td>...</td>\n",
       "      <td>...</td>\n",
       "      <td>...</td>\n",
       "      <td>...</td>\n",
       "      <td>...</td>\n",
       "      <td>...</td>\n",
       "      <td>...</td>\n",
       "      <td>...</td>\n",
       "      <td>...</td>\n",
       "      <td>...</td>\n",
       "    </tr>\n",
       "    <tr>\n",
       "      <th>132</th>\n",
       "      <td>3</td>\n",
       "      <td>24</td>\n",
       "      <td>0.755415</td>\n",
       "      <td>0.789921</td>\n",
       "      <td>0.735426</td>\n",
       "      <td>0.344538</td>\n",
       "      <td>0.469242</td>\n",
       "      <td>0.309708</td>\n",
       "      <td>0.155632</td>\n",
       "      <td>0.394502</td>\n",
       "      <td>0.209533</td>\n",
       "    </tr>\n",
       "    <tr>\n",
       "      <th>133</th>\n",
       "      <td>3</td>\n",
       "      <td>25</td>\n",
       "      <td>0.755415</td>\n",
       "      <td>0.789921</td>\n",
       "      <td>0.735426</td>\n",
       "      <td>0.344538</td>\n",
       "      <td>0.469242</td>\n",
       "      <td>0.309708</td>\n",
       "      <td>0.155632</td>\n",
       "      <td>0.394502</td>\n",
       "      <td>0.209533</td>\n",
       "    </tr>\n",
       "    <tr>\n",
       "      <th>134</th>\n",
       "      <td>3</td>\n",
       "      <td>26</td>\n",
       "      <td>0.755415</td>\n",
       "      <td>0.789921</td>\n",
       "      <td>0.735426</td>\n",
       "      <td>0.344538</td>\n",
       "      <td>0.469242</td>\n",
       "      <td>0.309708</td>\n",
       "      <td>0.155632</td>\n",
       "      <td>0.394502</td>\n",
       "      <td>0.209533</td>\n",
       "    </tr>\n",
       "    <tr>\n",
       "      <th>109</th>\n",
       "      <td>3</td>\n",
       "      <td>1</td>\n",
       "      <td>0.755415</td>\n",
       "      <td>0.789921</td>\n",
       "      <td>0.735426</td>\n",
       "      <td>0.344538</td>\n",
       "      <td>0.469242</td>\n",
       "      <td>0.309708</td>\n",
       "      <td>0.155632</td>\n",
       "      <td>0.394502</td>\n",
       "      <td>0.209533</td>\n",
       "    </tr>\n",
       "    <tr>\n",
       "      <th>233</th>\n",
       "      <td>4</td>\n",
       "      <td>16</td>\n",
       "      <td>0.756406</td>\n",
       "      <td>0.787656</td>\n",
       "      <td>0.737089</td>\n",
       "      <td>0.329832</td>\n",
       "      <td>0.455733</td>\n",
       "      <td>0.308773</td>\n",
       "      <td>0.156931</td>\n",
       "      <td>0.396145</td>\n",
       "      <td>0.202936</td>\n",
       "    </tr>\n",
       "  </tbody>\n",
       "</table>\n",
       "<p>436 rows × 11 columns</p>\n",
       "</div>"
      ],
      "text/plain": [
       "     max_depth  min_samples_leaf       auc       acc      prec       rec  \\\n",
       "217          3               109  0.760915  0.793318  0.656338  0.489496   \n",
       "216          3               108  0.760774  0.793318  0.656338  0.489496   \n",
       "215          3               107  0.760633  0.793318  0.656338  0.489496   \n",
       "214          3               106  0.760633  0.793318  0.656338  0.489496   \n",
       "213          3               105  0.760633  0.793318  0.656338  0.489496   \n",
       "..         ...               ...       ...       ...       ...       ...   \n",
       "132          3                24  0.755415  0.789921  0.735426  0.344538   \n",
       "133          3                25  0.755415  0.789921  0.735426  0.344538   \n",
       "134          3                26  0.755415  0.789921  0.735426  0.344538   \n",
       "109          3                 1  0.755415  0.789921  0.735426  0.344538   \n",
       "233          4                16  0.756406  0.787656  0.737089  0.329832   \n",
       "\n",
       "           f1       mae       mse       rms        r2  \n",
       "217  0.560770  0.308855  0.154161  0.392634  0.217003  \n",
       "216  0.560770  0.308869  0.154395  0.392932  0.215814  \n",
       "215  0.560770  0.308969  0.154568  0.393152  0.214937  \n",
       "214  0.560770  0.308978  0.154590  0.393180  0.214823  \n",
       "213  0.560770  0.308987  0.154614  0.393210  0.214705  \n",
       "..        ...       ...       ...       ...       ...  \n",
       "132  0.469242  0.309708  0.155632  0.394502  0.209533  \n",
       "133  0.469242  0.309708  0.155632  0.394502  0.209533  \n",
       "134  0.469242  0.309708  0.155632  0.394502  0.209533  \n",
       "109  0.469242  0.309708  0.155632  0.394502  0.209533  \n",
       "233  0.455733  0.308773  0.156931  0.396145  0.202936  \n",
       "\n",
       "[436 rows x 11 columns]"
      ]
     },
     "execution_count": 3287,
     "metadata": {},
     "output_type": "execute_result"
    }
   ],
   "source": [
    "df_scores.sort_values('f1',ascending=False)"
   ]
  },
  {
   "cell_type": "code",
   "execution_count": 3288,
   "id": "fa36947d-e82a-43c8-aea3-24c71e038057",
   "metadata": {},
   "outputs": [
    {
     "data": {
      "text/plain": [
       "0.7933182332955833"
      ]
     },
     "execution_count": 3288,
     "metadata": {},
     "output_type": "execute_result"
    }
   ],
   "source": [
    "dt = DecisionTreeClassifier(max_depth=3, min_samples_leaf=109)\n",
    "dt.fit(X_train, y_train)\n",
    "dt.score(X_val, y_val)"
   ]
  },
  {
   "cell_type": "code",
   "execution_count": null,
   "id": "0bb5372a-6ba0-4e5d-b15d-9230e0c7ebc9",
   "metadata": {},
   "outputs": [],
   "source": [
    "df_scores_pivot = df_scores.pivot(index='min_samples_leaf', columns=['max_depth'], values=['auc'])\n",
    "df_scores_pivot.round(3)"
   ]
  },
  {
   "cell_type": "code",
   "execution_count": null,
   "id": "790595ff-abe7-4e9c-82e4-e3781af2032d",
   "metadata": {},
   "outputs": [],
   "source": [
    "sns.heatmap(df_scores_pivot, annot=True, fmt=\".3f\")"
   ]
  },
  {
   "cell_type": "code",
   "execution_count": 3292,
   "id": "05a3d36c-84bb-45b3-8be8-ff3a203d18a3",
   "metadata": {},
   "outputs": [
    {
     "name": "stdout",
     "output_type": "stream",
     "text": [
      "age 0.0\n",
      "bill_amt1 0.10507913388910108\n",
      "bill_amt2 0.0\n",
      "bill_amt3 0.0\n",
      "bill_amt4 0.00936359776417931\n",
      "bill_amt5 0.0\n",
      "bill_amt6 0.0\n",
      "education=graduate school 0.0\n",
      "education=high school 0.0\n",
      "education=other 0.0\n",
      "education=university 0.0\n",
      "limit_bal 0.0\n",
      "marriage=married 0.0\n",
      "marriage=other 0.0\n",
      "marriage=single 0.0\n",
      "pay_1 0.09362987880509262\n",
      "pay_2 0.7330485614635923\n",
      "pay_3 0.0\n",
      "pay_4 0.0\n",
      "pay_5 0.0\n",
      "pay_6 0.0\n",
      "pay_amt1 0.0\n",
      "pay_amt2 0.010844410836655128\n",
      "pay_amt3 0.0\n",
      "pay_amt4 0.048034417241379655\n",
      "pay_amt5 0.0\n",
      "pay_amt6 0.0\n",
      "sex=female 0.0\n",
      "sex=male 0.0\n"
     ]
    }
   ],
   "source": [
    "for a,b in (zip(dv.get_feature_names(), dt.feature_importances_)):\n",
    "    print(a,b)"
   ]
  },
  {
   "cell_type": "code",
   "execution_count": null,
   "id": "e2eab082-ffed-4559-b1b9-2e4b60addd5e",
   "metadata": {},
   "outputs": [],
   "source": []
  },
  {
   "cell_type": "code",
   "execution_count": null,
   "id": "c0c730e0-a827-4e32-a9f8-37b8ce154355",
   "metadata": {},
   "outputs": [],
   "source": []
  },
  {
   "cell_type": "code",
   "execution_count": null,
   "id": "aed941d0-5c18-45dc-8654-3befc2f22ff8",
   "metadata": {},
   "outputs": [],
   "source": []
  },
  {
   "cell_type": "code",
   "execution_count": null,
   "id": "4d5c658a-fc2a-40d0-ae33-c21e60b399a0",
   "metadata": {},
   "outputs": [],
   "source": []
  },
  {
   "cell_type": "code",
   "execution_count": null,
   "id": "b344dfe4-45a0-4574-9848-4f3421a3d417",
   "metadata": {},
   "outputs": [],
   "source": []
  },
  {
   "cell_type": "code",
   "execution_count": null,
   "id": "90b8ea38-1660-49ec-a88a-f95a9562f453",
   "metadata": {},
   "outputs": [],
   "source": []
  },
  {
   "cell_type": "code",
   "execution_count": null,
   "id": "d7a3cee7-51f5-4b9f-a5f1-7ffae61f77ee",
   "metadata": {},
   "outputs": [],
   "source": []
  },
  {
   "cell_type": "code",
   "execution_count": null,
   "id": "a48bf64b-14de-476d-ab9b-25b9aa32f5ee",
   "metadata": {},
   "outputs": [],
   "source": []
  },
  {
   "cell_type": "code",
   "execution_count": null,
   "id": "b18339b2-d385-4a7a-a908-90c0fe190b4b",
   "metadata": {},
   "outputs": [],
   "source": []
  },
  {
   "cell_type": "code",
   "execution_count": null,
   "id": "40ca7099-f447-41e7-a2b9-9e793ea3df6f",
   "metadata": {},
   "outputs": [],
   "source": []
  },
  {
   "cell_type": "code",
   "execution_count": null,
   "id": "49e1a4e1-5614-4b8b-abde-b907d74c5cf5",
   "metadata": {},
   "outputs": [],
   "source": []
  },
  {
   "cell_type": "code",
   "execution_count": null,
   "id": "cfd52032-ceb7-44df-b66b-d3e720180e08",
   "metadata": {},
   "outputs": [],
   "source": []
  },
  {
   "cell_type": "code",
   "execution_count": null,
   "id": "2a9e7bf5-68dc-476b-a2ce-b471c8b72862",
   "metadata": {},
   "outputs": [],
   "source": []
  },
  {
   "cell_type": "code",
   "execution_count": null,
   "id": "bcf539d0-0ed6-4690-83fa-285022759759",
   "metadata": {},
   "outputs": [],
   "source": []
  },
  {
   "cell_type": "code",
   "execution_count": null,
   "id": "e3a37e11-fe3b-460d-b24b-49826f37b5fb",
   "metadata": {},
   "outputs": [],
   "source": []
  },
  {
   "cell_type": "code",
   "execution_count": null,
   "id": "feeeea5f-81e6-48c3-93cb-0946fb3f2133",
   "metadata": {},
   "outputs": [],
   "source": []
  },
  {
   "cell_type": "code",
   "execution_count": null,
   "id": "8758f13c-ac27-4b72-bc44-2624012dd0df",
   "metadata": {},
   "outputs": [],
   "source": []
  },
  {
   "cell_type": "code",
   "execution_count": null,
   "id": "7848d6ba-ca85-4422-861c-da00818794d9",
   "metadata": {},
   "outputs": [],
   "source": []
  },
  {
   "cell_type": "code",
   "execution_count": null,
   "id": "50863e90-3a65-44d4-be75-b162835f0e58",
   "metadata": {},
   "outputs": [],
   "source": []
  }
 ],
 "metadata": {
  "kernelspec": {
   "display_name": "Python 3 (ipykernel)",
   "language": "python",
   "name": "python3"
  },
  "language_info": {
   "codemirror_mode": {
    "name": "ipython",
    "version": 3
   },
   "file_extension": ".py",
   "mimetype": "text/x-python",
   "name": "python",
   "nbconvert_exporter": "python",
   "pygments_lexer": "ipython3",
   "version": "3.9.12"
  }
 },
 "nbformat": 4,
 "nbformat_minor": 5
}
